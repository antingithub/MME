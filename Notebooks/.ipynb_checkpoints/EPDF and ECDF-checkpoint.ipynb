{
 "cells": [
  {
   "cell_type": "code",
   "execution_count": 1,
   "metadata": {},
   "outputs": [],
   "source": [
    "import numpy as np\n",
    "import pandas as pd\n",
    "from scipy import stats as st\n",
    "import matplotlib.pyplot as plt\n",
    "import seaborn as sns\n",
    "\n",
    "from sklearn.neighbors import KernelDensity"
   ]
  },
  {
   "cell_type": "code",
   "execution_count": 14,
   "metadata": {},
   "outputs": [
    {
     "data": {
      "text/plain": [
       "(1000,)"
      ]
     },
     "execution_count": 14,
     "metadata": {},
     "output_type": "execute_result"
    }
   ],
   "source": [
    "x = np.linspace(-5, 5, 1000)\n",
    "x.shape"
   ]
  },
  {
   "cell_type": "code",
   "execution_count": 16,
   "metadata": {},
   "outputs": [],
   "source": [
    "dist = st.norm(loc = 0, scale = 1)"
   ]
  },
  {
   "cell_type": "code",
   "execution_count": 17,
   "metadata": {},
   "outputs": [],
   "source": [
    "pdf = dist.pdf(x)\n",
    "cdf = dist.cdf(x)"
   ]
  },
  {
   "cell_type": "code",
   "execution_count": 18,
   "metadata": {},
   "outputs": [
    {
     "data": {
      "text/plain": [
       "array([ 2.82300715, -0.12104277,  0.34943511,  0.04404189, -1.09830836])"
      ]
     },
     "execution_count": 18,
     "metadata": {},
     "output_type": "execute_result"
    }
   ],
   "source": [
    "sample = dist.rvs(5)\n",
    "sample"
   ]
  },
  {
   "cell_type": "code",
   "execution_count": 20,
   "metadata": {},
   "outputs": [],
   "source": [
    "x = np.linspace(0, 5, 1000)\n",
    "\n",
    "disc = st.geom(p=0.5)\n",
    "pmf = disc.pmf(x)\n",
    "cdf = disc.cdf(x)"
   ]
  },
  {
   "cell_type": "code",
   "execution_count": 21,
   "metadata": {},
   "outputs": [
    {
     "data": {
      "text/plain": [
       "array([-0.30603139,  0.50836199, -0.79283764])"
      ]
     },
     "execution_count": 21,
     "metadata": {},
     "output_type": "execute_result"
    }
   ],
   "source": [
    "sample = dist.rvs(3)\n",
    "sample"
   ]
  },
  {
   "cell_type": "markdown",
   "metadata": {},
   "source": [
    "## Making ECDF"
   ]
  },
  {
   "cell_type": "code",
   "execution_count": 22,
   "metadata": {},
   "outputs": [
    {
     "data": {
      "text/plain": [
       "(799,)"
      ]
     },
     "execution_count": 22,
     "metadata": {},
     "output_type": "execute_result"
    }
   ],
   "source": [
    "from urllib.request import urlopen\n",
    "\n",
    "\n",
    "nerve_data = urlopen(\"http://www.statsci.org/data/general/nerve.txt\")\n",
    "nerve_data = np.loadtxt(nerve_data)\n",
    "data = nerve_data / 50.0  # Was in 1/50 seconds\n",
    "data.shape"
   ]
  },
  {
   "cell_type": "markdown",
   "metadata": {},
   "source": [
    "#### From statsmodels source code -  only to plot ECDF and confidence"
   ]
  },
  {
   "cell_type": "code",
   "execution_count": 23,
   "metadata": {},
   "outputs": [],
   "source": [
    "# Constructs a Dvoretzky-Kiefer-Wolfowitz confidence band for the eCDF\n",
    "# https://www.statsmodels.org/dev/_modules/statsmodels/distributions/empirical_distribution.html"
   ]
  },
  {
   "cell_type": "code",
   "execution_count": 24,
   "metadata": {},
   "outputs": [],
   "source": [
    "\"\"\"\n",
    "Empirical CDF Functions\n",
    "\"\"\"\n",
    "import numpy as np\n",
    "from scipy.interpolate import interp1d\n",
    "\n",
    "\n",
    "def _conf_set(F, alpha=0.05):\n",
    "    nobs = len(F)\n",
    "    epsilon = np.sqrt(np.log(2.0 / alpha) / (2 * nobs))\n",
    "    lower = np.clip(F - epsilon, 0, 1)\n",
    "    upper = np.clip(F + epsilon, 0, 1)\n",
    "    return lower, upper\n",
    "\n",
    "\n",
    "class StepFunction(object):\n",
    "    def __init__(self, x, y, ival=0.0, sorted=False, side=\"left\"):\n",
    "        if side.lower() not in [\"right\", \"left\"]:\n",
    "            msg = \"side can take the values 'right' or 'left'\"\n",
    "            raise ValueError(msg)\n",
    "        self.side = side\n",
    "        _x = np.asarray(x)\n",
    "        _y = np.asarray(y)\n",
    "        if _x.shape != _y.shape:\n",
    "            msg = \"x and y do not have the same shape\"\n",
    "            raise ValueError(msg)\n",
    "        if len(_x.shape) != 1:\n",
    "            msg = \"x and y must be 1-dimensional\"\n",
    "            raise ValueError(msg)\n",
    "        self.x = np.r_[-np.inf, _x]\n",
    "        self.y = np.r_[ival, _y]\n",
    "        if not sorted:\n",
    "            asort = np.argsort(self.x)\n",
    "            self.x = np.take(self.x, asort, 0)\n",
    "            self.y = np.take(self.y, asort, 0)\n",
    "        self.n = self.x.shape[0]\n",
    "\n",
    "    def __call__(self, time):\n",
    "        tind = np.searchsorted(self.x, time, self.side) - 1\n",
    "        return self.y[tind]\n",
    "\n",
    "\n",
    "class ECDF(StepFunction):\n",
    "    def __init__(self, x, side=\"right\"):\n",
    "        x = np.array(x, copy=True)\n",
    "        x.sort()\n",
    "        nobs = len(x)\n",
    "        y = np.linspace(1.0 / nobs, 1, nobs)\n",
    "        super(ECDF, self).__init__(x, y, side=side, sorted=True)\n",
    "\n",
    "\n",
    "# def monotone_fn_inverter(fn, x, vectorized=True, **keywords):\n",
    "#     x = np.asarray(x)\n",
    "#     if vectorized:\n",
    "#         y = fn(x, **keywords)\n",
    "#     else:\n",
    "#         y = []\n",
    "#         for _x in x:\n",
    "#             y.append(fn(_x, **keywords))\n",
    "#         y = np.array(y)\n",
    "#     a = np.argsort(y)\n",
    "#     return interp1d(y[a], x[a])"
   ]
  },
  {
   "cell_type": "code",
   "execution_count": 25,
   "metadata": {},
   "outputs": [],
   "source": [
    "from urllib.request import urlopen\n",
    "\n",
    "nerve_data = urlopen(\"http://www.statsci.org/data/general/nerve.txt\")\n",
    "nerve_data = np.loadtxt(nerve_data)\n",
    "x = nerve_data / 50.0  # Was in 1/50 seconds"
   ]
  },
  {
   "cell_type": "code",
   "execution_count": 26,
   "metadata": {},
   "outputs": [
    {
     "data": {
      "image/png": "[encoded data removed]",
      "text/plain": [
       "<Figure size 432x288 with 1 Axes>"
      ]
     },
     "metadata": {},
     "output_type": "display_data"
    }
   ],
   "source": [
    "cdf = ECDF(x)       # as defined in statsmodels\n",
    "x.sort()\n",
    "F = cdf(x)\n",
    "plt.step(x, F, where=\"post\")\n",
    "lower, upper = _conf_set(F)\n",
    "plt.step(x, lower, \"r\", where=\"post\")\n",
    "plt.step(x, upper, \"r\", where=\"post\")\n",
    "# plt.xlim(0, 1.5)\n",
    "# plt.ylim(0, 1.05)\n",
    "plt.vlines(x, 0, 0.05)\n",
    "plt.show()"
   ]
  },
  {
   "cell_type": "code",
   "execution_count": 27,
   "metadata": {},
   "outputs": [
    {
     "data": {
      "text/plain": [
       "0.04130162703379224"
      ]
     },
     "execution_count": 27,
     "metadata": {},
     "output_type": "execute_result"
    }
   ],
   "source": [
    "F[2]   # F is an array "
   ]
  },
  {
   "cell_type": "markdown",
   "metadata": {},
   "source": [
    "#### interpolation -  interp1d"
   ]
  },
  {
   "cell_type": "code",
   "execution_count": 28,
   "metadata": {},
   "outputs": [
    {
     "data": {
      "image/png": "[encoded data removed]",
      "text/plain": [
       "<Figure size 432x288 with 1 Axes>"
      ]
     },
     "metadata": {},
     "output_type": "display_data"
    }
   ],
   "source": [
    "from scipy import interpolate\n",
    "x = np.arange(0,10)\n",
    "y = np.exp(-x/30)\n",
    "f = interpolate.interp1d(x, y, kind='linear')\n",
    "\n",
    "xnew = np.arange(0, 9, 0.1)\n",
    "ynew = f(xnew)   # use interpolation function returned by `interp1d`\n",
    "plt.plot(x, y, 'o', xnew, ynew, '-')\n",
    "plt.show()"
   ]
  },
  {
   "cell_type": "markdown",
   "metadata": {},
   "source": [
    "### ECDF from scratch"
   ]
  },
  {
   "cell_type": "code",
   "execution_count": 29,
   "metadata": {},
   "outputs": [],
   "source": [
    "nerve_data = urlopen(\"http://www.statsci.org/data/general/nerve.txt\")\n",
    "nerve_data = np.loadtxt(nerve_data)\n",
    "nerve_data = nerve_data / 50.0  # Was in 1/50 seconds"
   ]
  },
  {
   "cell_type": "markdown",
   "metadata": {},
   "source": [
    "#### easy way to visualize an ECDF"
   ]
  },
  {
   "cell_type": "code",
   "execution_count": 30,
   "metadata": {},
   "outputs": [
    {
     "data": {
      "text/plain": [
       "(array([0.01, 0.01, 0.01, 0.01, 0.01, 0.01, 0.01, 0.01, 0.01, 0.01]),\n",
       " array([0.87, 0.9 , 0.93, 0.94, 0.96, 1.1 , 1.12, 1.21, 1.35, 1.38]))"
      ]
     },
     "execution_count": 30,
     "metadata": {},
     "output_type": "execute_result"
    }
   ],
   "source": [
    "x = np.sort(nerve_data)     # in place data.sort()\n",
    "x[:10], x[-10:]"
   ]
  },
  {
   "cell_type": "code",
   "execution_count": 31,
   "metadata": {},
   "outputs": [
    {
     "data": {
      "text/plain": [
       "799"
      ]
     },
     "execution_count": 31,
     "metadata": {},
     "output_type": "execute_result"
    }
   ],
   "source": [
    "y = np.arange(1, len(x)+1)/len(x)\n",
    "len(y)"
   ]
  },
  {
   "cell_type": "code",
   "execution_count": 32,
   "metadata": {},
   "outputs": [
    {
     "data": {
      "image/png": "[encoded data removed]",
      "text/plain": [
       "<Figure size 432x288 with 1 Axes>"
      ]
     },
     "metadata": {},
     "output_type": "display_data"
    }
   ],
   "source": [
    "_ = plt.plot(x, y, marker = '.', linestyle='none')\n",
    "_ = plt.xlabel('...')\n",
    "plt.margins(0.02)\n",
    "plt.show()"
   ]
  },
  {
   "cell_type": "markdown",
   "metadata": {},
   "source": [
    "#### percentile"
   ]
  },
  {
   "cell_type": "code",
   "execution_count": 33,
   "metadata": {},
   "outputs": [
    {
     "data": {
      "text/plain": [
       "array([0.01  , 0.02  , 0.07  , 0.15  , 0.3   , 0.68  , 0.9006])"
      ]
     },
     "execution_count": 33,
     "metadata": {},
     "output_type": "execute_result"
    }
   ],
   "source": [
    "perc = np.percentile(data, [1,5,25,50,75,95,99])\n",
    "perc"
   ]
  },
  {
   "cell_type": "markdown",
   "metadata": {},
   "source": [
    "#### boxplot"
   ]
  },
  {
   "cell_type": "code",
   "execution_count": 34,
   "metadata": {},
   "outputs": [
    {
     "data": {
      "image/png": "[encoded data removed]",
      "text/plain": [
       "<Figure size 432x288 with 1 Axes>"
      ]
     },
     "metadata": {},
     "output_type": "display_data"
    }
   ],
   "source": [
    "_ =  sns.boxplot(data)\n",
    "_ = plt.xlabel('xxx')\n",
    "plt.show()"
   ]
  },
  {
   "cell_type": "markdown",
   "metadata": {},
   "source": [
    "#### From Allen Downey"
   ]
  },
  {
   "cell_type": "markdown",
   "metadata": {},
   "source": [
    "##### Using Series - pandas"
   ]
  },
  {
   "cell_type": "markdown",
   "metadata": {},
   "source": [
    "### uses value_counts -  discrete? PMF"
   ]
  },
  {
   "cell_type": "code",
   "execution_count": 35,
   "metadata": {},
   "outputs": [],
   "source": [
    "# Series - pandas\n",
    "\n",
    "def my_pmf(s, normalize=False):\n",
    "    c = s.value_counts(dropna=True)\n",
    "    if normalize:\n",
    "        c = c/c.sum()\n",
    "    return c.sort_index(ascending=True)\n",
    "    #return c.sort_values(ascending=True)\n",
    "\n",
    "def my_cdf(s):\n",
    "    from operator import add\n",
    "    from itertools import accumulate\n",
    "    pmf = my_pmf(s, normalize=True).sort_index(ascending=True)    # xx ordered!\n",
    "    acc = accumulate(pmf, add)\n",
    "    return pd.Series([*acc], index=pmf.index)"
   ]
  },
  {
   "cell_type": "code",
   "execution_count": 36,
   "metadata": {},
   "outputs": [
    {
     "data": {
      "text/plain": [
       "(0.01    33\n",
       " 0.02    33\n",
       " 0.03    25\n",
       " 0.04    34\n",
       " 0.05    34\n",
       " dtype: int64, 1.10    1\n",
       " 1.12    1\n",
       " 1.21    1\n",
       " 1.35    1\n",
       " 1.38    1\n",
       " dtype: int64)"
      ]
     },
     "execution_count": 36,
     "metadata": {},
     "output_type": "execute_result"
    }
   ],
   "source": [
    "y =  my_pmf(pd.Series(nerve_data), normalize=False)\n",
    "y.head(), y.tail()"
   ]
  },
  {
   "cell_type": "code",
   "execution_count": 37,
   "metadata": {},
   "outputs": [
    {
     "data": {
      "text/plain": [
       "[<matplotlib.lines.Line2D at 0x1b0bfffa080>]"
      ]
     },
     "execution_count": 37,
     "metadata": {},
     "output_type": "execute_result"
    },
    {
     "data": {
      "image/png": "[encoded data removed]",
      "text/plain": [
       "<Figure size 432x288 with 1 Axes>"
      ]
     },
     "metadata": {},
     "output_type": "display_data"
    }
   ],
   "source": [
    "#plt.plot(y.index,y.values)\n",
    "plt.plot(y)"
   ]
  },
  {
   "cell_type": "markdown",
   "metadata": {},
   "source": [
    "#### bincount - integers"
   ]
  },
  {
   "cell_type": "code",
   "execution_count": 38,
   "metadata": {},
   "outputs": [
    {
     "data": {
      "text/plain": [
       "<BarContainer object of 25 artists>"
      ]
     },
     "execution_count": 38,
     "metadata": {},
     "output_type": "execute_result"
    },
    {
     "data": {
      "image/png": "[encoded data removed]",
      "text/plain": [
       "<Figure size 432x288 with 1 Axes>"
      ]
     },
     "metadata": {},
     "output_type": "display_data"
    }
   ],
   "source": [
    "x = np.array([1,1,1,2,2,2,5,25,1,1])\n",
    "y = np.bincount(x)\n",
    "# ii = np.nonzero(y)[0]\n",
    "plt.bar(range(1,np.max(x)+1),y[1:])"
   ]
  },
  {
   "cell_type": "markdown",
   "metadata": {},
   "source": [
    "#### bin_edges and plt.hist - define the edges"
   ]
  },
  {
   "cell_type": "code",
   "execution_count": 39,
   "metadata": {},
   "outputs": [
    {
     "data": {
      "text/plain": [
       "array([  0,  10,  20,  30,  40,  50,  60,  70,  80,  90, 100])"
      ]
     },
     "execution_count": 39,
     "metadata": {},
     "output_type": "execute_result"
    },
    {
     "data": {
      "image/png": "[encoded data removed]",
      "text/plain": [
       "<Figure size 432x288 with 1 Axes>"
      ]
     },
     "metadata": {},
     "output_type": "display_data"
    }
   ],
   "source": [
    "bin_edges = [0, 10, 20, 30, 40, 50, 60, 70, 80, 90, 100]\n",
    "_, bins_ed, _ = plt.hist(x, bins=bin_edges)\n",
    "bins_ed"
   ]
  },
  {
   "cell_type": "markdown",
   "metadata": {},
   "source": [
    "### np.unique -  any tipe of data but is clean with integers"
   ]
  },
  {
   "cell_type": "code",
   "execution_count": 40,
   "metadata": {},
   "outputs": [],
   "source": [
    "a = np.array([1,1,2,10,2,5])"
   ]
  },
  {
   "cell_type": "code",
   "execution_count": 41,
   "metadata": {},
   "outputs": [
    {
     "data": {
      "text/plain": [
       "array([ 1,  2,  5, 10])"
      ]
     },
     "execution_count": 41,
     "metadata": {},
     "output_type": "execute_result"
    }
   ],
   "source": [
    "np.unique(a)"
   ]
  },
  {
   "cell_type": "code",
   "execution_count": 42,
   "metadata": {},
   "outputs": [
    {
     "data": {
      "text/plain": [
       "(array([ 1,  2,  5, 10]),\n",
       " array([0, 2, 5, 3], dtype=int64),\n",
       " array([0, 0, 1, 3, 1, 2], dtype=int64),\n",
       " array([2, 2, 1, 1], dtype=int64))"
      ]
     },
     "execution_count": 42,
     "metadata": {},
     "output_type": "execute_result"
    }
   ],
   "source": [
    "np.unique(a, return_index=True, return_inverse=True, return_counts=True)"
   ]
  },
  {
   "cell_type": "code",
   "execution_count": 43,
   "metadata": {},
   "outputs": [
    {
     "data": {
      "text/plain": [
       "(array([ 1,  2,  5, 10]), array([2, 2, 1, 1], dtype=int64))"
      ]
     },
     "execution_count": 43,
     "metadata": {},
     "output_type": "execute_result"
    }
   ],
   "source": [
    "np.unique(a, return_counts=True)"
   ]
  },
  {
   "cell_type": "code",
   "execution_count": 44,
   "metadata": {},
   "outputs": [
    {
     "data": {
      "text/plain": [
       "<BarContainer object of 4 artists>"
      ]
     },
     "execution_count": 44,
     "metadata": {},
     "output_type": "execute_result"
    },
    {
     "data": {
      "image/png": "[encoded data removed]",
      "text/plain": [
       "<Figure size 432x288 with 1 Axes>"
      ]
     },
     "metadata": {},
     "output_type": "display_data"
    }
   ],
   "source": [
    "# fast (numpy) plot with normalization\n",
    "# a, b = np.unique(educ.values[~np.isnan(educ.values)], return_counts=True)\n",
    "a, b = np.unique(a, return_counts=True)\n",
    "plt.bar(a, b/(np.sum(b)))              # normalized   "
   ]
  },
  {
   "cell_type": "markdown",
   "metadata": {},
   "source": [
    "#### scipy.stats and hist_dist.pdf"
   ]
  },
  {
   "cell_type": "code",
   "execution_count": 45,
   "metadata": {},
   "outputs": [
    {
     "data": {
      "text/plain": [
       "array([-1.6284459 ,  1.49601817,  0.42446775, -2.25944207, -0.86790038,\n",
       "        2.47715481, -3.64001887, -0.64336894,  1.89890439, -1.3001106 ,\n",
       "       -1.01832923, -0.14206345,  2.23708444, -0.958353  , -0.66597294,\n",
       "       -0.65152691,  3.30889512,  3.28017913,  1.50608085,  0.5792796 ,\n",
       "        1.10605286,  2.23609804, -1.4037508 ,  1.76374357, -1.880821  ,\n",
       "       -0.95662725,  1.36065779, -2.14302105, -0.21010308, -1.29263234])"
      ]
     },
     "execution_count": 45,
     "metadata": {},
     "output_type": "execute_result"
    }
   ],
   "source": [
    "# import scipy.stats\n",
    "\n",
    "# generate data\n",
    "data = st.norm.rvs(size=30, loc=0, scale=1.5, random_state=123)\n",
    "data"
   ]
  },
  {
   "cell_type": "markdown",
   "metadata": {},
   "source": [
    "### using plt.hist"
   ]
  },
  {
   "cell_type": "code",
   "execution_count": 46,
   "metadata": {},
   "outputs": [
    {
     "data": {
      "text/plain": [
       "array([-3.64001887, -2.94512747, -2.25023607, -1.55534467, -0.86045327,\n",
       "       -0.16556187,  0.52932953,  1.22422093,  1.91911233,  2.61400373,\n",
       "        3.30889512])"
      ]
     },
     "execution_count": 46,
     "metadata": {},
     "output_type": "execute_result"
    },
    {
     "data": {
      "image/png": "[encoded data removed]",
      "text/plain": [
       "<Figure size 432x288 with 1 Axes>"
      ]
     },
     "metadata": {},
     "output_type": "display_data"
    }
   ],
   "source": [
    "_, bins, _ = plt.hist(data, density=True, bins=10)\n",
    "bins"
   ]
  },
  {
   "cell_type": "code",
   "execution_count": 47,
   "metadata": {},
   "outputs": [
    {
     "data": {
      "text/plain": [
       "(array([1, 1, 3, 7, 4, 2, 2, 5, 3, 2], dtype=int64),\n",
       " array([-3.64001887, -2.94512747, -2.25023607, -1.55534467, -0.86045327,\n",
       "        -0.16556187,  0.52932953,  1.22422093,  1.91911233,  2.61400373,\n",
       "         3.30889512]))"
      ]
     },
     "execution_count": 47,
     "metadata": {},
     "output_type": "execute_result"
    }
   ],
   "source": [
    "#https://numpy.org/doc/stable/reference/generated/numpy.histogram.html\n",
    "\n",
    "hist = np.histogram(data, bins=10)             # Return hist,  bin edges ``(length(hist)+1)``\n",
    "hist"
   ]
  },
  {
   "cell_type": "markdown",
   "metadata": {},
   "source": [
    "### Shared BINS"
   ]
  },
  {
   "cell_type": "code",
   "execution_count": 88,
   "metadata": {},
   "outputs": [],
   "source": [
    "arr = np.array([0, 0, 0, 1, 2, 3, 3, 4, 5])"
   ]
  },
  {
   "cell_type": "code",
   "execution_count": 89,
   "metadata": {},
   "outputs": [
    {
     "data": {
      "text/plain": [
       "array([0.  , 0.25, 0.5 , 0.75, 1.  ])"
      ]
     },
     "execution_count": 89,
     "metadata": {},
     "output_type": "execute_result"
    }
   ],
   "source": [
    "np.histogram_bin_edges(arr, bins='auto', range=(0, 1))"
   ]
  },
  {
   "cell_type": "code",
   "execution_count": 90,
   "metadata": {},
   "outputs": [
    {
     "data": {
      "text/plain": [
       "array([0. , 2.5, 5. ])"
      ]
     },
     "execution_count": 90,
     "metadata": {},
     "output_type": "execute_result"
    }
   ],
   "source": [
    "np.histogram_bin_edges(arr, bins=2)"
   ]
  },
  {
   "cell_type": "markdown",
   "metadata": {},
   "source": [
    "##### ‘auto’ (maximum of the ‘sturges’ and ‘fd’ estimators)\n",
    "* Freedman Diaconis Estimator - The binwidth is proportional to the interquartile range (IQR) and inversely proportional to cube root of a.size. Can be too conservative for small datasets, but is quite good for large datasets. The IQR is very robust to outliers.\n",
    "* The number of bins is the base 2 log of a.size. This estimator assumes normality of data and is too conservative for larger, non-normal datasets. "
   ]
  },
  {
   "cell_type": "code",
   "execution_count": 91,
   "metadata": {},
   "outputs": [
    {
     "data": {
      "text/plain": [
       "array([0., 1., 2., 3., 4., 5.])"
      ]
     },
     "execution_count": 91,
     "metadata": {},
     "output_type": "execute_result"
    }
   ],
   "source": [
    "shared_bins = np.histogram_bin_edges(arr, bins='auto')\n",
    "shared_bins"
   ]
  },
  {
   "cell_type": "code",
   "execution_count": 92,
   "metadata": {},
   "outputs": [
    {
     "data": {
      "text/plain": [
       "(array([0, 1, 3]), array([0, 0, 2, 3, 4, 5]))"
      ]
     },
     "execution_count": 92,
     "metadata": {},
     "output_type": "execute_result"
    }
   ],
   "source": [
    "# one dataset 2 selections\n",
    "group_id = np.array([0, 1, 1, 0, 1, 1, 0, 1, 1])\n",
    "arr[group_id == 0], arr[group_id == 1]"
   ]
  },
  {
   "cell_type": "code",
   "execution_count": 93,
   "metadata": {},
   "outputs": [],
   "source": [
    "hist_0, _ = np.histogram(arr[group_id == 0], bins=shared_bins)\n",
    "hist_1, _ = np.histogram(arr[group_id == 1], bins=shared_bins)"
   ]
  },
  {
   "cell_type": "code",
   "execution_count": 95,
   "metadata": {},
   "outputs": [
    {
     "data": {
      "text/plain": [
       "(array([1, 1, 0, 1, 0], dtype=int64), array([2, 0, 1, 1, 2], dtype=int64))"
      ]
     },
     "execution_count": 95,
     "metadata": {},
     "output_type": "execute_result"
    }
   ],
   "source": [
    "# gives more easily comparable results that using separate bins for each histogram\n",
    "hist_0, hist_1"
   ]
  },
  {
   "cell_type": "code",
   "execution_count": 97,
   "metadata": {},
   "outputs": [
    {
     "data": {
      "text/plain": [
       "(array([1, 1, 1], dtype=int64), array([2, 1, 1, 2], dtype=int64))"
      ]
     },
     "execution_count": 97,
     "metadata": {},
     "output_type": "execute_result"
    }
   ],
   "source": [
    "# separate bins\n",
    "hist_0, bins_0 = np.histogram(arr[group_id == 0], bins='auto')\n",
    "hist_1, bins_1 = np.histogram(arr[group_id == 1], bins='auto')\n",
    "\n",
    "\n",
    "hist_0, hist_1"
   ]
  },
  {
   "cell_type": "code",
   "execution_count": 98,
   "metadata": {},
   "outputs": [
    {
     "data": {
      "text/plain": [
       "(array([0., 1., 2., 3.]), array([0.  , 1.25, 2.5 , 3.75, 5.  ]))"
      ]
     },
     "execution_count": 98,
     "metadata": {},
     "output_type": "execute_result"
    }
   ],
   "source": [
    "bins_0, bins_1"
   ]
  },
  {
   "cell_type": "markdown",
   "metadata": {},
   "source": [
    "## Can this be used for not known distributions???"
   ]
  },
  {
   "cell_type": "code",
   "execution_count": 48,
   "metadata": {},
   "outputs": [],
   "source": [
    "# https://docs.scipy.org/doc/scipy/reference/generated/scipy.stats.rv_histogram.html\n",
    "\n",
    "# https://docs.scipy.org/doc/scipy/reference/generated/scipy.stats.rv_continuous.html#scipy.stats.rv_continuous"
   ]
  },
  {
   "cell_type": "code",
   "execution_count": 50,
   "metadata": {},
   "outputs": [
    {
     "data": {
      "text/plain": [
       "<scipy.stats._continuous_distns.rv_histogram at 0x1b0bfd71668>"
      ]
     },
     "execution_count": 50,
     "metadata": {},
     "output_type": "execute_result"
    }
   ],
   "source": [
    "# Generates a distribution given by a histogram.\n",
    "# This is useful to generate a template distribution from a binned\n",
    "# datasample.\n",
    "\n",
    "hist_dist = st.rv_histogram(hist)\n",
    "hist_dist"
   ]
  },
  {
   "cell_type": "code",
   "execution_count": 51,
   "metadata": {},
   "outputs": [
    {
     "data": {
      "text/plain": [
       "0.09593825275502475"
      ]
     },
     "execution_count": 51,
     "metadata": {},
     "output_type": "execute_result"
    }
   ],
   "source": [
    "hist_dist.pdf(1.0)"
   ]
  },
  {
   "cell_type": "code",
   "execution_count": 52,
   "metadata": {},
   "outputs": [
    {
     "data": {
      "text/plain": [
       "0.8449736664664457"
      ]
     },
     "execution_count": 52,
     "metadata": {},
     "output_type": "execute_result"
    }
   ],
   "source": [
    "hist_dist.cdf(2.0)"
   ]
  },
  {
   "cell_type": "code",
   "execution_count": 53,
   "metadata": {},
   "outputs": [
    {
     "data": {
      "text/plain": [
       "0.0"
      ]
     },
     "execution_count": 53,
     "metadata": {},
     "output_type": "execute_result"
    }
   ],
   "source": [
    "hist_dist.pdf(np.max(data))"
   ]
  },
  {
   "cell_type": "code",
   "execution_count": 54,
   "metadata": {},
   "outputs": [
    {
     "data": {
      "text/plain": [
       "1.0"
      ]
     },
     "execution_count": 54,
     "metadata": {},
     "output_type": "execute_result"
    }
   ],
   "source": [
    "hist_dist.cdf(np.max(data))"
   ]
  },
  {
   "cell_type": "code",
   "execution_count": 55,
   "metadata": {},
   "outputs": [
    {
     "data": {
      "text/plain": [
       "0.047969126377512376"
      ]
     },
     "execution_count": 55,
     "metadata": {},
     "output_type": "execute_result"
    }
   ],
   "source": [
    "hist_dist.pdf(np.min(data))"
   ]
  },
  {
   "cell_type": "code",
   "execution_count": 56,
   "metadata": {},
   "outputs": [
    {
     "data": {
      "text/plain": [
       "0.0"
      ]
     },
     "execution_count": 56,
     "metadata": {},
     "output_type": "execute_result"
    }
   ],
   "source": [
    "hist_dist.cdf(np.min(data))"
   ]
  },
  {
   "cell_type": "code",
   "execution_count": 57,
   "metadata": {},
   "outputs": [
    {
     "data": {
      "image/png": "[encoded data removed]",
      "text/plain": [
       "<Figure size 432x288 with 1 Axes>"
      ]
     },
     "metadata": {},
     "output_type": "display_data"
    }
   ],
   "source": [
    "X = np.linspace(-5.0, 5.0, 100)\n",
    "plt.title(\"PDF from Template\")\n",
    "plt.hist(data, density=True, bins=100)\n",
    "plt.plot(X, hist_dist.pdf(X), label='PDF')\n",
    "plt.plot(X, hist_dist.cdf(X), label='CDF')\n",
    "plt.legend()\n",
    "plt.show()"
   ]
  },
  {
   "cell_type": "markdown",
   "metadata": {},
   "source": [
    "#### using the nerve data"
   ]
  },
  {
   "cell_type": "code",
   "execution_count": 58,
   "metadata": {},
   "outputs": [
    {
     "data": {
      "text/plain": [
       "(799,)"
      ]
     },
     "execution_count": 58,
     "metadata": {},
     "output_type": "execute_result"
    }
   ],
   "source": [
    "nerve_data.shape"
   ]
  },
  {
   "cell_type": "code",
   "execution_count": 60,
   "metadata": {},
   "outputs": [],
   "source": [
    "hist = np.histogram(nerve_data, bins=100)\n",
    "hist_dist = st.rv_histogram(hist)"
   ]
  },
  {
   "cell_type": "code",
   "execution_count": 61,
   "metadata": {},
   "outputs": [
    {
     "data": {
      "text/plain": [
       "1.096260836995149"
      ]
     },
     "execution_count": 61,
     "metadata": {},
     "output_type": "execute_result"
    }
   ],
   "source": [
    "hist_dist.pdf(0.5)     # one point at random"
   ]
  },
  {
   "cell_type": "code",
   "execution_count": 62,
   "metadata": {},
   "outputs": [
    {
     "data": {
      "text/plain": [
       "0.8963668088760586"
      ]
     },
     "execution_count": 62,
     "metadata": {},
     "output_type": "execute_result"
    }
   ],
   "source": [
    "hist_dist.cdf(0.5)"
   ]
  },
  {
   "cell_type": "code",
   "execution_count": 63,
   "metadata": {},
   "outputs": [
    {
     "data": {
      "text/plain": [
       "0.0"
      ]
     },
     "execution_count": 63,
     "metadata": {},
     "output_type": "execute_result"
    }
   ],
   "source": [
    "hist_dist.pdf(np.max(nerve_data))"
   ]
  },
  {
   "cell_type": "code",
   "execution_count": 64,
   "metadata": {},
   "outputs": [
    {
     "data": {
      "text/plain": [
       "1.0"
      ]
     },
     "execution_count": 64,
     "metadata": {},
     "output_type": "execute_result"
    }
   ],
   "source": [
    "hist_dist.cdf(np.max(nerve_data))"
   ]
  },
  {
   "cell_type": "code",
   "execution_count": 65,
   "metadata": {},
   "outputs": [
    {
     "data": {
      "text/plain": [
       "6.0294346034733195"
      ]
     },
     "execution_count": 65,
     "metadata": {},
     "output_type": "execute_result"
    }
   ],
   "source": [
    "hist_dist.pdf(np.min(nerve_data))"
   ]
  },
  {
   "cell_type": "code",
   "execution_count": 66,
   "metadata": {},
   "outputs": [
    {
     "data": {
      "text/plain": [
       "0.0"
      ]
     },
     "execution_count": 66,
     "metadata": {},
     "output_type": "execute_result"
    }
   ],
   "source": [
    "hist_dist.cdf(np.min(nerve_data))"
   ]
  },
  {
   "cell_type": "code",
   "execution_count": 67,
   "metadata": {},
   "outputs": [
    {
     "data": {
      "text/plain": [
       "(0.01, 1.38)"
      ]
     },
     "execution_count": 67,
     "metadata": {},
     "output_type": "execute_result"
    }
   ],
   "source": [
    "nerve_min = np.min(nerve_data)\n",
    "nerve_max = np.max(nerve_data)\n",
    "nerve_min, nerve_max"
   ]
  },
  {
   "cell_type": "code",
   "execution_count": 68,
   "metadata": {},
   "outputs": [
    {
     "data": {
      "image/png": "[encoded data removed]",
      "text/plain": [
       "<Figure size 432x288 with 1 Axes>"
      ]
     },
     "metadata": {},
     "output_type": "display_data"
    }
   ],
   "source": [
    "X = np.linspace(nerve_min, nerve_max, 100)\n",
    "plt.title(\"PDF from Template\")\n",
    "plt.hist(nerve_data, density=True, bins=100)\n",
    "#plt.hist(nerve_data, bins=100)\n",
    "plt.plot(X, hist_dist.pdf(X), label='PDF')\n",
    "plt.plot(X, hist_dist.cdf(X), label='CDF')\n",
    "plt.legend()\n",
    "plt.margins(0.02)\n",
    "plt.show()"
   ]
  },
  {
   "cell_type": "markdown",
   "metadata": {},
   "source": [
    "#### square root rule - TRICK!!!!!"
   ]
  },
  {
   "cell_type": "markdown",
   "metadata": {},
   "source": [
    "##### more detailed methods\n",
    "https://numpy.org/doc/stable/reference/generated/numpy.histogram_bin_edges.html#numpy.histogram_bin_edges"
   ]
  },
  {
   "cell_type": "code",
   "execution_count": 69,
   "metadata": {},
   "outputs": [
    {
     "data": {
      "text/plain": [
       "((array([ 2., 10.,  6.,  7.,  5.]),\n",
       "  array([-3.64001887, -2.25023607, -0.86045327,  0.52932953,  1.91911233,\n",
       "          3.30889512]),\n",
       "  <a list of 5 Patch objects>),\n",
       " 5)"
      ]
     },
     "execution_count": 69,
     "metadata": {},
     "output_type": "execute_result"
    },
    {
     "data": {
      "image/png": "[encoded data removed]",
      "text/plain": [
       "<Figure size 432x288 with 1 Axes>"
      ]
     },
     "metadata": {},
     "output_type": "display_data"
    }
   ],
   "source": [
    "# square root rule                            TRICK!!!!!\n",
    "\n",
    "a = plt.hist(data, bins=int(np.sqrt(len(data))))\n",
    "a, int(np.sqrt(len(data)))"
   ]
  },
  {
   "cell_type": "markdown",
   "metadata": {},
   "source": [
    "### Example with a Bimodal Data Distribution\n",
    "https://machinelearningmastery.com/empirical-distribution-function-in-python/"
   ]
  },
  {
   "cell_type": "code",
   "execution_count": 118,
   "metadata": {},
   "outputs": [],
   "source": [
    "# generate a sample\n",
    "sample1 = np.random.normal(loc=20, scale=5, size=300)\n",
    "sample2 = np.random.normal(loc=40, scale=5, size=700)\n",
    "sample = np.hstack((sample1, sample2))"
   ]
  },
  {
   "cell_type": "code",
   "execution_count": 72,
   "metadata": {
    "scrolled": true
   },
   "outputs": [
    {
     "data": {
      "image/png": "[encoded data removed]",
      "text/plain": [
       "<Figure size 432x288 with 1 Axes>"
      ]
     },
     "metadata": {},
     "output_type": "display_data"
    }
   ],
   "source": [
    "_ = plt.hist(sample, bins=50)\n",
    "plt.show()"
   ]
  },
  {
   "cell_type": "code",
   "execution_count": 73,
   "metadata": {},
   "outputs": [
    {
     "data": {
      "text/plain": [
       "<__main__.ECDF at 0x1b0bfcc7fd0>"
      ]
     },
     "execution_count": 73,
     "metadata": {},
     "output_type": "execute_result"
    }
   ],
   "source": [
    "# fitting an empirical cumulative distribution function\n",
    "# and calculating the cumulative probabilities for specific observations from the domain\n",
    "\n",
    "ecdf = ECDF(sample)\n",
    "ecdf"
   ]
  },
  {
   "cell_type": "code",
   "execution_count": 74,
   "metadata": {},
   "outputs": [
    {
     "name": "stdout",
     "output_type": "stream",
     "text": [
      "P(x<20): 0.139\n",
      "P(x<40): 0.655\n",
      "P(x<60): 1.000\n"
     ]
    }
   ],
   "source": [
    "# get cumulative probability for values\n",
    "print('P(x<20): %.3f' % ecdf(20))\n",
    "print('P(x<40): %.3f' % ecdf(40))\n",
    "print('P(x<60): %.3f' % ecdf(60))"
   ]
  },
  {
   "cell_type": "code",
   "execution_count": 75,
   "metadata": {},
   "outputs": [
    {
     "data": {
      "image/png": "[encoded data removed]",
      "text/plain": [
       "<Figure size 432x288 with 1 Axes>"
      ]
     },
     "metadata": {},
     "output_type": "display_data"
    }
   ],
   "source": [
    "# plot the cdf\n",
    "plt.plot(ecdf.x, ecdf.y)\n",
    "plt.show()\n",
    "\n",
    "# S-shaped curve seen for most cumulative distribution functions\n",
    "# bumps around the mean of both peaks of the bimodal distribution"
   ]
  },
  {
   "cell_type": "markdown",
   "metadata": {},
   "source": [
    "### PDF\n",
    "https://machinelearningmastery.com/probability-density-estimation/"
   ]
  },
  {
   "cell_type": "markdown",
   "metadata": {},
   "source": [
    "#### parametric density estimation\n",
    "* known distributions - parametric\n",
    "* parameters estimation from sample data\n",
    "\n",
    "* Using a statistical test to confirm the data fits the distribution"
   ]
  },
  {
   "cell_type": "code",
   "execution_count": 107,
   "metadata": {},
   "outputs": [
    {
     "data": {
      "text/plain": [
       "(50.24776117055629, 4.993268346750066)"
      ]
     },
     "execution_count": 107,
     "metadata": {},
     "output_type": "execute_result"
    }
   ],
   "source": [
    "sample = np.random.normal(loc=50, scale=5, size=1000)\n",
    "sample_mean = np.mean(sample)\n",
    "sample_std = np.std(sample)\n",
    "sample_mean, sample_std\n"
   ]
  },
  {
   "cell_type": "code",
   "execution_count": 110,
   "metadata": {},
   "outputs": [],
   "source": [
    "dist = st.norm(sample_mean, sample_std)"
   ]
  },
  {
   "cell_type": "code",
   "execution_count": null,
   "metadata": {},
   "outputs": [],
   "source": [
    "values = [value for value in range(30, 70)]"
   ]
  },
  {
   "cell_type": "code",
   "execution_count": 113,
   "metadata": {},
   "outputs": [],
   "source": [
    "# dist.pdf(value) is computed from the Distribution type and parameters!!!!\n",
    "\n",
    "probabilities = [dist.pdf(value) for value in values]"
   ]
  },
  {
   "cell_type": "code",
   "execution_count": 114,
   "metadata": {},
   "outputs": [
    {
     "data": {
      "text/plain": [
       "[<matplotlib.lines.Line2D at 0x1b0bf6b10b8>]"
      ]
     },
     "execution_count": 114,
     "metadata": {},
     "output_type": "execute_result"
    },
    {
     "data": {
      "image/png": "[encoded data removed]",
      "text/plain": [
       "<Figure size 432x288 with 1 Axes>"
      ]
     },
     "metadata": {},
     "output_type": "display_data"
    }
   ],
   "source": [
    "plt.hist(sample, bins=10, density=True)\n",
    "plt.plot(values, probabilities)"
   ]
  },
  {
   "cell_type": "markdown",
   "metadata": {},
   "source": [
    "##### Problems:\n",
    "* outliers\n",
    "* skewed data - transformations in a iterative process"
   ]
  },
  {
   "cell_type": "markdown",
   "metadata": {},
   "source": [
    "#### Nonparametric method\n",
    "* the data is the parameter!!!!\n",
    "* kernel smoothing, or kernel density estimation, KDE\n",
    "    * Basis Function (kernel)\n",
    "    * Smoothing Parameter (bandwidth)"
   ]
  },
  {
   "cell_type": "code",
   "execution_count": 115,
   "metadata": {},
   "outputs": [],
   "source": [
    "from sklearn.neighbors import KernelDensity"
   ]
  },
  {
   "cell_type": "code",
   "execution_count": 117,
   "metadata": {},
   "outputs": [],
   "source": [
    "#example of kernel density estimation for a BIMODAL data sample\n",
    "\n",
    "# generate a sample\n",
    "sample1 = np.random.normal(loc=20, scale=5, size=300)\n",
    "sample2 = np.random.normal(loc=40, scale=5, size=700)\n",
    "sample = np.hstack((sample1, sample2))"
   ]
  },
  {
   "cell_type": "code",
   "execution_count": 121,
   "metadata": {},
   "outputs": [
    {
     "data": {
      "text/plain": [
       "KernelDensity(algorithm='auto', atol=0, bandwidth=2, breadth_first=True,\n",
       "              kernel='gaussian', leaf_size=40, metric='euclidean',\n",
       "              metric_params=None, rtol=0)"
      ]
     },
     "execution_count": 121,
     "metadata": {},
     "output_type": "execute_result"
    }
   ],
   "source": [
    "# fit density\n",
    "model = KernelDensity(bandwidth=2, kernel='gaussian')\n",
    "model"
   ]
  },
  {
   "cell_type": "code",
   "execution_count": 119,
   "metadata": {},
   "outputs": [
    {
     "data": {
      "text/plain": [
       "(1000, 1)"
      ]
     },
     "execution_count": 119,
     "metadata": {},
     "output_type": "execute_result"
    }
   ],
   "source": [
    "sample = sample.reshape((len(sample), 1))\n",
    "sample.shape"
   ]
  },
  {
   "cell_type": "code",
   "execution_count": 122,
   "metadata": {},
   "outputs": [
    {
     "data": {
      "text/plain": [
       "KernelDensity(algorithm='auto', atol=0, bandwidth=2, breadth_first=True,\n",
       "              kernel='gaussian', leaf_size=40, metric='euclidean',\n",
       "              metric_params=None, rtol=0)"
      ]
     },
     "execution_count": 122,
     "metadata": {},
     "output_type": "execute_result"
    }
   ],
   "source": [
    "model.fit(sample)"
   ]
  },
  {
   "cell_type": "code",
   "execution_count": 124,
   "metadata": {},
   "outputs": [
    {
     "data": {
      "text/plain": [
       "(59, 1)"
      ]
     },
     "execution_count": 124,
     "metadata": {},
     "output_type": "execute_result"
    }
   ],
   "source": [
    "# sample probabilities for a range of outcomes\n",
    "values = np.asarray([value for value in range(1, 60)])\n",
    "values = values.reshape((len(values), 1))\n",
    "values.shape"
   ]
  },
  {
   "cell_type": "code",
   "execution_count": 126,
   "metadata": {},
   "outputs": [],
   "source": [
    "probabilities = model.score_samples(values)\n",
    "probabilities = np.exp(probabilities)"
   ]
  },
  {
   "cell_type": "code",
   "execution_count": 129,
   "metadata": {},
   "outputs": [
    {
     "data": {
      "image/png": "[encoded data removed]",
      "text/plain": [
       "<Figure size 432x288 with 1 Axes>"
      ]
     },
     "metadata": {},
     "output_type": "display_data"
    }
   ],
   "source": [
    "_ = plt.hist(sample, bins=50, density=True)\n",
    "_ = plt.plot(values[:], probabilities)\n",
    "plt.show()"
   ]
  },
  {
   "cell_type": "code",
   "execution_count": null,
   "metadata": {},
   "outputs": [],
   "source": []
  },
  {
   "cell_type": "code",
   "execution_count": 83,
   "metadata": {},
   "outputs": [],
   "source": [
    "from urllib.request import urlopen\n",
    "\n",
    "nerve_data = urlopen(\"http://www.statsci.org/data/general/nerve.txt\")\n",
    "nerve_data = np.loadtxt(nerve_data)\n",
    "x = nerve_data / 50.0  # Was in 1/50 seconds"
   ]
  },
  {
   "cell_type": "code",
   "execution_count": 130,
   "metadata": {},
   "outputs": [],
   "source": [
    "def compute_pdf_cdf(sample, plot=True):\n",
    "    '''\n",
    "        Visualize the ECDF, interpolated PDF and samples\n",
    "        \n",
    "    '''\n",
    "    bins=int(np.sqrt(len(sample)))\n",
    "#     bins =  100\n",
    "    hist = np.histogram(sample, bins = bins)\n",
    "    hist_dist = st.rv_histogram(hist)\n",
    "\n",
    "    sample_min, sample_max = np.min(sample), np.max(sample)\n",
    "    pdf, Ecdf = hist_dist.pdf, hist_dist.cdf\n",
    "    assert Ecdf(sample_min) == 0, 'Something wrong with ECDF!'\n",
    "    assert Ecdf(sample_max) == 1, 'Something wrong with ECDF!'\n",
    "\n",
    "    if plot:\n",
    "        X = np.linspace(sample_min, sample_max, bins)\n",
    "        plt.title(\"PDF from Template\")\n",
    "        _ = plt.hist(sample, density = True, bins = bins)\n",
    "        _ = plt.plot(X, pdf(X), label = 'PDF')\n",
    "        #_ = plt.plot(X, Ecdf(X), label = 'CDF')\n",
    "        plt.legend()\n",
    "        plt.margins(0.02)\n",
    "        plt.show()\n",
    "    return pdf, Ecdf"
   ]
  },
  {
   "cell_type": "markdown",
   "metadata": {},
   "source": [
    "#####  Bimodal example"
   ]
  },
  {
   "cell_type": "code",
   "execution_count": 131,
   "metadata": {},
   "outputs": [
    {
     "data": {
      "image/png": "[encoded data removed]",
      "text/plain": [
       "<Figure size 432x288 with 1 Axes>"
      ]
     },
     "metadata": {},
     "output_type": "display_data"
    }
   ],
   "source": [
    " pdf, ecdf = compute_pdf_cdf(sample, plot=True)"
   ]
  },
  {
   "cell_type": "code",
   "execution_count": 100,
   "metadata": {},
   "outputs": [
    {
     "data": {
      "text/plain": [
       "(0.04472692798458478, 0.6487133825096089)"
      ]
     },
     "execution_count": 100,
     "metadata": {},
     "output_type": "execute_result"
    }
   ],
   "source": [
    "pdf(40), ecdf(40)"
   ]
  },
  {
   "cell_type": "code",
   "execution_count": 101,
   "metadata": {},
   "outputs": [
    {
     "data": {
      "image/png": "[encoded data removed]",
      "text/plain": [
       "<Figure size 432x288 with 1 Axes>"
      ]
     },
     "metadata": {},
     "output_type": "display_data"
    }
   ],
   "source": [
    "pdf, ecdf = compute_pdf_cdf(nerve_data, plot=True)"
   ]
  },
  {
   "cell_type": "code",
   "execution_count": null,
   "metadata": {},
   "outputs": [],
   "source": []
  },
  {
   "cell_type": "code",
   "execution_count": null,
   "metadata": {},
   "outputs": [],
   "source": []
  },
  {
   "cell_type": "code",
   "execution_count": null,
   "metadata": {},
   "outputs": [],
   "source": []
  },
  {
   "cell_type": "code",
   "execution_count": null,
   "metadata": {},
   "outputs": [],
   "source": []
  },
  {
   "cell_type": "code",
   "execution_count": 138,
   "metadata": {},
   "outputs": [],
   "source": [
    "def compute_pdf_KDE(sample, bandwidth=2, kernel='gaussian', plot=True):\n",
    "    '''\n",
    "    \n",
    "    '''\n",
    "    bins=int(np.sqrt(len(sample)))\n",
    "    print(bins)\n",
    "    sample = sample.reshape((len(sample), 1))\n",
    "    # fit density\n",
    "    model = KernelDensity(bandwidth=bandwidth, kernel=kernel)\n",
    "    model.fit(sample)\n",
    "    \n",
    "    if plot:\n",
    "        sample_min, sample_max = np.min(sample), np.max(sample)\n",
    "        X = np.linspace(sample_min, sample_max, bins)\n",
    "        values = X\n",
    "        values = values.reshape((len(values), 1))\n",
    "        print(values.shape)\n",
    "        probabilities = model.score_samples(values)\n",
    "        probabilities = np.exp(probabilities)\n",
    "        _ = plt.hist(sample, bins=bins, density=True)\n",
    "        _ = plt.plot(values[:], probabilities)\n",
    "        plt.title(\"pdf using KDE\")\n",
    "        plt.show()\n",
    "    #return np.exp(model.score_samples)\n",
    "    return model.score_samples\n",
    "    \n",
    "    \n",
    "    \n",
    "    "
   ]
  },
  {
   "cell_type": "code",
   "execution_count": 139,
   "metadata": {},
   "outputs": [
    {
     "name": "stdout",
     "output_type": "stream",
     "text": [
      "31\n",
      "(31, 1)\n"
     ]
    },
    {
     "data": {
      "image/png": "[encoded data removed]",
      "text/plain": [
       "<Figure size 432x288 with 1 Axes>"
      ]
     },
     "metadata": {},
     "output_type": "display_data"
    },
    {
     "data": {
      "text/plain": [
       "<bound method KernelDensity.score_samples of KernelDensity(algorithm='auto', atol=0, bandwidth=2, breadth_first=True,\n",
       "              kernel='gaussian', leaf_size=40, metric='euclidean',\n",
       "              metric_params=None, rtol=0)>"
      ]
     },
     "execution_count": 139,
     "metadata": {},
     "output_type": "execute_result"
    }
   ],
   "source": [
    "# generate a sample\n",
    "data = np.hstack((np.random.normal(loc=20, scale=5, size=300),\n",
    "                    np.random.normal(loc=40, scale=5, size=700)))\n",
    "\n",
    "compute_pdf_KDE(data, bandwidth=2, kernel='gaussian')"
   ]
  },
  {
   "cell_type": "code",
   "execution_count": null,
   "metadata": {},
   "outputs": [],
   "source": []
  }
 ],
 "metadata": {
  "kernelspec": {
   "display_name": "Python 3",
   "language": "python",
   "name": "python3"
  },
  "language_info": {
   "codemirror_mode": {
    "name": "ipython",
    "version": 3
   },
   "file_extension": ".py",
   "mimetype": "text/x-python",
   "name": "python",
   "nbconvert_exporter": "python",
   "pygments_lexer": "ipython3",
   "version": "3.6.7"
  }
 },
 "nbformat": 4,
 "nbformat_minor": 2
}
