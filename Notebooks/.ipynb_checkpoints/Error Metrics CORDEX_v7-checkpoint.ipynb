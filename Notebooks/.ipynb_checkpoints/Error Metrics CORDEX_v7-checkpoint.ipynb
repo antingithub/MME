{
 "cells": [
  {
   "cell_type": "markdown",
   "metadata": {},
   "source": [
    "# CORDEX models' error metrics:\n"
   ]
  },
  {
   "cell_type": "code",
   "execution_count": 1,
   "metadata": {},
   "outputs": [],
   "source": [
    "version = '7'"
   ]
  },
  {
   "cell_type": "code",
   "execution_count": 2,
   "metadata": {},
   "outputs": [],
   "source": [
    "# Load auxiliar functions and configurations\n",
    "filename = 'utils_v{}.ipynb'.format(version)\n",
    "%run $filename"
   ]
  },
  {
   "cell_type": "code",
   "execution_count": 3,
   "metadata": {},
   "outputs": [
    {
     "name": "stdout",
     "output_type": "stream",
     "text": [
      "cordex_output_path ..\\data\\cordex\\output\n",
      "temp_output_path ..\\data\\observations\\temp\\output\n",
      "cordex_dict_raw {0: 'CNRM-CERFACS-CNRM-CM5_historical_r1i1p1_CNRM-ALADIN63_v2', 1: 'CNRM-CERFACS-CNRM-CM5_historical_r1i1p1_DMI-HIRHAM5_v2', 2: 'CNRM-CERFACS-CNRM-CM5_historical_r1i1p1_SMHI-RCA4_v1', 3: 'ICHEC-EC-EARTH_historical_r12i1p1_SMHI-RCA4_v1', 4: 'ICHEC-EC-EARTH_historical_r3i1p1_DMI-HIRHAM5_v2', 5: 'IPSL-IPSL-CM5A-MR_historical_r1i1p1_SMHI-RCA4_v1', 6: 'MOHC-HadGEM2-ES_historical_r1i1p1_ICTP-RegCM4-6_v1', 7: 'MOHC-HadGEM2-ES_historical_r1i1p1_SMHI-RCA4_v1', 8: 'MPI-M-MPI-ESM-LR_historical_r1i1p1_CLMcom-ETH-COSMO-crCLIM-v1-1_v1', 9: 'MPI-M-MPI-ESM-LR_historical_r1i1p1_DMI-HIRHAM5_v1', 10: 'MPI-M-MPI-ESM-LR_historical_r1i1p1_ICTP-RegCM4-6_v1', 11: 'MPI-M-MPI-ESM-LR_historical_r1i1p1_SMHI-RCA4_v1a', 12: 'MPI-M-MPI-ESM-LR_historical_r3i1p1_GERICS-REMO2015_v1', 13: 'NCC-NorESM1-M_historical_r1i1p1_CLMcom-ETH-COSMO-crCLIM-v1-1_v1', 14: 'NCC-NorESM1-M_historical_r1i1p1_DMI-HIRHAM5_v3', 15: 'NCC-NorESM1-M_historical_r1i1p1_GERICS-REMO2015_v1', 16: 'NCC-NorESM1-M_historical_r1i1p1_SMHI-RCA4_v1'}\n",
      "temp_obs_col 17\n",
      "models_cols [0, 1, 2, 3, 4, 5, 6, 7, 8, 9, 10, 11, 12, 13, 14, 15, 16]\n"
     ]
    }
   ],
   "source": [
    "# Configurations\n",
    "print('cordex_output_path', cordex_output_path)\n",
    "print('temp_output_path', temp_output_path)\n",
    "print('cordex_dict_raw', cordex_dict_raw)\n",
    "print('temp_obs_col', temp_obs_col)\n",
    "print('models_cols', models_cols)"
   ]
  },
  {
   "cell_type": "markdown",
   "metadata": {},
   "source": [
    "### Loading the data from file - JJA"
   ]
  },
  {
   "cell_type": "code",
   "execution_count": 4,
   "metadata": {},
   "outputs": [],
   "source": [
    "df_all_jja = load_csv2df('cordex_join_obs_jja.csv', cordex_output_path, freq_index='3H')"
   ]
  },
  {
   "cell_type": "code",
   "execution_count": 5,
   "metadata": {},
   "outputs": [
    {
     "data": {
      "text/html": [
       "<div>\n",
       "<style scoped>\n",
       "    .dataframe tbody tr th:only-of-type {\n",
       "        vertical-align: middle;\n",
       "    }\n",
       "\n",
       "    .dataframe tbody tr th {\n",
       "        vertical-align: top;\n",
       "    }\n",
       "\n",
       "    .dataframe thead th {\n",
       "        text-align: right;\n",
       "    }\n",
       "</style>\n",
       "<table border=\"1\" class=\"dataframe\">\n",
       "  <thead>\n",
       "    <tr style=\"text-align: right;\">\n",
       "      <th></th>\n",
       "      <th>0</th>\n",
       "      <th>1</th>\n",
       "      <th>2</th>\n",
       "      <th>3</th>\n",
       "      <th>4</th>\n",
       "      <th>5</th>\n",
       "      <th>6</th>\n",
       "      <th>7</th>\n",
       "      <th>8</th>\n",
       "      <th>9</th>\n",
       "      <th>10</th>\n",
       "      <th>11</th>\n",
       "      <th>12</th>\n",
       "      <th>13</th>\n",
       "      <th>14</th>\n",
       "      <th>15</th>\n",
       "      <th>16</th>\n",
       "      <th>17</th>\n",
       "    </tr>\n",
       "    <tr>\n",
       "      <th>date</th>\n",
       "      <th></th>\n",
       "      <th></th>\n",
       "      <th></th>\n",
       "      <th></th>\n",
       "      <th></th>\n",
       "      <th></th>\n",
       "      <th></th>\n",
       "      <th></th>\n",
       "      <th></th>\n",
       "      <th></th>\n",
       "      <th></th>\n",
       "      <th></th>\n",
       "      <th></th>\n",
       "      <th></th>\n",
       "      <th></th>\n",
       "      <th></th>\n",
       "      <th></th>\n",
       "      <th></th>\n",
       "    </tr>\n",
       "  </thead>\n",
       "  <tbody>\n",
       "    <tr>\n",
       "      <th>1979-06-01 00:00:00</th>\n",
       "      <td>13.419122</td>\n",
       "      <td>14.471643</td>\n",
       "      <td>14.328729</td>\n",
       "      <td>13.729150</td>\n",
       "      <td>13.672754</td>\n",
       "      <td>10.644250</td>\n",
       "      <td>12.337183</td>\n",
       "      <td>10.969507</td>\n",
       "      <td>16.211725</td>\n",
       "      <td>19.048730</td>\n",
       "      <td>14.766718</td>\n",
       "      <td>16.977441</td>\n",
       "      <td>12.107019</td>\n",
       "      <td>14.522089</td>\n",
       "      <td>15.005762</td>\n",
       "      <td>15.043542</td>\n",
       "      <td>10.745996</td>\n",
       "      <td>12.933333</td>\n",
       "    </tr>\n",
       "    <tr>\n",
       "      <th>1979-06-01 03:00:00</th>\n",
       "      <td>12.501764</td>\n",
       "      <td>14.402551</td>\n",
       "      <td>12.254663</td>\n",
       "      <td>14.001581</td>\n",
       "      <td>13.041925</td>\n",
       "      <td>9.791833</td>\n",
       "      <td>11.918695</td>\n",
       "      <td>10.839319</td>\n",
       "      <td>15.977960</td>\n",
       "      <td>18.184839</td>\n",
       "      <td>15.022180</td>\n",
       "      <td>16.634790</td>\n",
       "      <td>11.559991</td>\n",
       "      <td>14.790338</td>\n",
       "      <td>14.716455</td>\n",
       "      <td>14.938684</td>\n",
       "      <td>11.698389</td>\n",
       "      <td>12.233333</td>\n",
       "    </tr>\n",
       "    <tr>\n",
       "      <th>1979-06-01 06:00:00</th>\n",
       "      <td>11.911584</td>\n",
       "      <td>13.907617</td>\n",
       "      <td>11.871179</td>\n",
       "      <td>13.747766</td>\n",
       "      <td>12.438898</td>\n",
       "      <td>9.561914</td>\n",
       "      <td>12.052179</td>\n",
       "      <td>10.406824</td>\n",
       "      <td>16.152734</td>\n",
       "      <td>17.723444</td>\n",
       "      <td>13.791528</td>\n",
       "      <td>16.666528</td>\n",
       "      <td>11.469415</td>\n",
       "      <td>15.098444</td>\n",
       "      <td>14.315088</td>\n",
       "      <td>15.044244</td>\n",
       "      <td>13.068018</td>\n",
       "      <td>11.933333</td>\n",
       "    </tr>\n",
       "    <tr>\n",
       "      <th>1979-06-01 09:00:00</th>\n",
       "      <td>15.474115</td>\n",
       "      <td>17.524805</td>\n",
       "      <td>18.803857</td>\n",
       "      <td>15.239832</td>\n",
       "      <td>16.544214</td>\n",
       "      <td>12.460474</td>\n",
       "      <td>14.724603</td>\n",
       "      <td>15.226221</td>\n",
       "      <td>22.113336</td>\n",
       "      <td>21.220728</td>\n",
       "      <td>16.057153</td>\n",
       "      <td>18.326074</td>\n",
       "      <td>15.713953</td>\n",
       "      <td>17.690302</td>\n",
       "      <td>15.798486</td>\n",
       "      <td>15.259332</td>\n",
       "      <td>16.350977</td>\n",
       "      <td>15.533333</td>\n",
       "    </tr>\n",
       "    <tr>\n",
       "      <th>1979-06-01 12:00:00</th>\n",
       "      <td>17.844873</td>\n",
       "      <td>19.986719</td>\n",
       "      <td>24.058984</td>\n",
       "      <td>16.716211</td>\n",
       "      <td>21.106104</td>\n",
       "      <td>13.730859</td>\n",
       "      <td>18.498956</td>\n",
       "      <td>18.569238</td>\n",
       "      <td>27.650629</td>\n",
       "      <td>25.784845</td>\n",
       "      <td>17.785272</td>\n",
       "      <td>20.640039</td>\n",
       "      <td>18.421106</td>\n",
       "      <td>20.991083</td>\n",
       "      <td>21.013086</td>\n",
       "      <td>16.919702</td>\n",
       "      <td>19.115137</td>\n",
       "      <td>18.900000</td>\n",
       "    </tr>\n",
       "  </tbody>\n",
       "</table>\n",
       "</div>"
      ],
      "text/plain": [
       "                            0          1          2          3          4   \\\n",
       "date                                                                         \n",
       "1979-06-01 00:00:00  13.419122  14.471643  14.328729  13.729150  13.672754   \n",
       "1979-06-01 03:00:00  12.501764  14.402551  12.254663  14.001581  13.041925   \n",
       "1979-06-01 06:00:00  11.911584  13.907617  11.871179  13.747766  12.438898   \n",
       "1979-06-01 09:00:00  15.474115  17.524805  18.803857  15.239832  16.544214   \n",
       "1979-06-01 12:00:00  17.844873  19.986719  24.058984  16.716211  21.106104   \n",
       "\n",
       "                            5          6          7          8          9   \\\n",
       "date                                                                         \n",
       "1979-06-01 00:00:00  10.644250  12.337183  10.969507  16.211725  19.048730   \n",
       "1979-06-01 03:00:00   9.791833  11.918695  10.839319  15.977960  18.184839   \n",
       "1979-06-01 06:00:00   9.561914  12.052179  10.406824  16.152734  17.723444   \n",
       "1979-06-01 09:00:00  12.460474  14.724603  15.226221  22.113336  21.220728   \n",
       "1979-06-01 12:00:00  13.730859  18.498956  18.569238  27.650629  25.784845   \n",
       "\n",
       "                            10         11         12         13         14  \\\n",
       "date                                                                         \n",
       "1979-06-01 00:00:00  14.766718  16.977441  12.107019  14.522089  15.005762   \n",
       "1979-06-01 03:00:00  15.022180  16.634790  11.559991  14.790338  14.716455   \n",
       "1979-06-01 06:00:00  13.791528  16.666528  11.469415  15.098444  14.315088   \n",
       "1979-06-01 09:00:00  16.057153  18.326074  15.713953  17.690302  15.798486   \n",
       "1979-06-01 12:00:00  17.785272  20.640039  18.421106  20.991083  21.013086   \n",
       "\n",
       "                            15         16         17  \n",
       "date                                                  \n",
       "1979-06-01 00:00:00  15.043542  10.745996  12.933333  \n",
       "1979-06-01 03:00:00  14.938684  11.698389  12.233333  \n",
       "1979-06-01 06:00:00  15.044244  13.068018  11.933333  \n",
       "1979-06-01 09:00:00  15.259332  16.350977  15.533333  \n",
       "1979-06-01 12:00:00  16.919702  19.115137  18.900000  "
      ]
     },
     "execution_count": 5,
     "metadata": {},
     "output_type": "execute_result"
    }
   ],
   "source": [
    "df_all_jja.head()"
   ]
  },
  {
   "cell_type": "markdown",
   "metadata": {},
   "source": [
    "## Bias"
   ]
  },
  {
   "cell_type": "markdown",
   "metadata": {},
   "source": [
    "#### Bias by hour"
   ]
  },
  {
   "cell_type": "code",
   "execution_count": 6,
   "metadata": {},
   "outputs": [
    {
     "ename": "TypeError",
     "evalue": "cannot concatenate object of type \"<class 'tuple'>\"; only pd.Series, pd.DataFrame, and pd.Panel (deprecated) objs are valid",
     "output_type": "error",
     "traceback": [
      "\u001b[1;31m---------------------------------------------------------------------------\u001b[0m",
      "\u001b[1;31mTypeError\u001b[0m                                 Traceback (most recent call last)",
      "\u001b[1;32m<ipython-input-6-b16e282e118b>\u001b[0m in \u001b[0;36m<module>\u001b[1;34m()\u001b[0m\n\u001b[1;32m----> 1\u001b[1;33m \u001b[0mdf_bias_jja\u001b[0m \u001b[1;33m=\u001b[0m \u001b[0mmetric_by_hour\u001b[0m\u001b[1;33m(\u001b[0m\u001b[0mbias\u001b[0m\u001b[1;33m,\u001b[0m \u001b[0mdf_all_jja\u001b[0m\u001b[1;33m,\u001b[0m \u001b[0mmodels_cols\u001b[0m\u001b[1;33m,\u001b[0m \u001b[0mtemp_obs_col\u001b[0m\u001b[1;33m)\u001b[0m\u001b[1;33m\u001b[0m\u001b[1;33m\u001b[0m\u001b[0m\n\u001b[0m\u001b[0;32m      2\u001b[0m \u001b[0mdf_bias_jja\u001b[0m\u001b[1;33m\u001b[0m\u001b[1;33m\u001b[0m\u001b[0m\n",
      "\u001b[1;32m<ipython-input-2-6da2faf5f6f9>\u001b[0m in \u001b[0;36mmetric_by_hour\u001b[1;34m(metric, df, lst_model_cols, observation_col)\u001b[0m\n\u001b[0;32m     10\u001b[0m         \u001b[0mdf_obs\u001b[0m \u001b[1;33m=\u001b[0m \u001b[0mdf_filtered\u001b[0m\u001b[1;33m.\u001b[0m\u001b[0mloc\u001b[0m\u001b[1;33m[\u001b[0m\u001b[1;33m:\u001b[0m\u001b[1;33m,\u001b[0m\u001b[0mobservation_col\u001b[0m\u001b[1;33m]\u001b[0m    \u001b[1;31m# separate the observations df\u001b[0m\u001b[1;33m\u001b[0m\u001b[1;33m\u001b[0m\u001b[0m\n\u001b[0;32m     11\u001b[0m         \u001b[0mres\u001b[0m\u001b[1;33m.\u001b[0m\u001b[0mappend\u001b[0m\u001b[1;33m(\u001b[0m\u001b[0mmetric\u001b[0m\u001b[1;33m(\u001b[0m\u001b[0mdf_filtered\u001b[0m\u001b[1;33m,\u001b[0m \u001b[0mlst_model_cols\u001b[0m\u001b[1;33m,\u001b[0m \u001b[0mdf_obs\u001b[0m\u001b[1;33m)\u001b[0m\u001b[1;33m)\u001b[0m\u001b[1;33m\u001b[0m\u001b[1;33m\u001b[0m\u001b[0m\n\u001b[1;32m---> 12\u001b[1;33m     \u001b[1;32mreturn\u001b[0m \u001b[0mpd\u001b[0m\u001b[1;33m.\u001b[0m\u001b[0mconcat\u001b[0m\u001b[1;33m(\u001b[0m\u001b[0mres\u001b[0m\u001b[1;33m,\u001b[0m \u001b[0maxis\u001b[0m\u001b[1;33m=\u001b[0m\u001b[1;36m1\u001b[0m\u001b[1;33m,\u001b[0m \u001b[0mkeys\u001b[0m\u001b[1;33m=\u001b[0m\u001b[0mlist\u001b[0m\u001b[1;33m(\u001b[0m\u001b[0mrange\u001b[0m\u001b[1;33m(\u001b[0m\u001b[1;36m0\u001b[0m\u001b[1;33m,\u001b[0m\u001b[1;36m22\u001b[0m\u001b[1;33m,\u001b[0m\u001b[1;36m3\u001b[0m\u001b[1;33m)\u001b[0m\u001b[1;33m)\u001b[0m\u001b[1;33m)\u001b[0m\u001b[1;33m\u001b[0m\u001b[1;33m\u001b[0m\u001b[0m\n\u001b[0m\u001b[0;32m     13\u001b[0m \u001b[1;33m\u001b[0m\u001b[0m\n\u001b[0;32m     14\u001b[0m \u001b[1;33m\u001b[0m\u001b[0m\n",
      "\u001b[1;32mC:\\Anaconda3\\envs\\DS_Base\\lib\\site-packages\\pandas\\core\\reshape\\concat.py\u001b[0m in \u001b[0;36mconcat\u001b[1;34m(objs, axis, join, join_axes, ignore_index, keys, levels, names, verify_integrity, sort, copy)\u001b[0m\n\u001b[0;32m    223\u001b[0m                        \u001b[0mkeys\u001b[0m\u001b[1;33m=\u001b[0m\u001b[0mkeys\u001b[0m\u001b[1;33m,\u001b[0m \u001b[0mlevels\u001b[0m\u001b[1;33m=\u001b[0m\u001b[0mlevels\u001b[0m\u001b[1;33m,\u001b[0m \u001b[0mnames\u001b[0m\u001b[1;33m=\u001b[0m\u001b[0mnames\u001b[0m\u001b[1;33m,\u001b[0m\u001b[1;33m\u001b[0m\u001b[1;33m\u001b[0m\u001b[0m\n\u001b[0;32m    224\u001b[0m                        \u001b[0mverify_integrity\u001b[0m\u001b[1;33m=\u001b[0m\u001b[0mverify_integrity\u001b[0m\u001b[1;33m,\u001b[0m\u001b[1;33m\u001b[0m\u001b[1;33m\u001b[0m\u001b[0m\n\u001b[1;32m--> 225\u001b[1;33m                        copy=copy, sort=sort)\n\u001b[0m\u001b[0;32m    226\u001b[0m     \u001b[1;32mreturn\u001b[0m \u001b[0mop\u001b[0m\u001b[1;33m.\u001b[0m\u001b[0mget_result\u001b[0m\u001b[1;33m(\u001b[0m\u001b[1;33m)\u001b[0m\u001b[1;33m\u001b[0m\u001b[1;33m\u001b[0m\u001b[0m\n\u001b[0;32m    227\u001b[0m \u001b[1;33m\u001b[0m\u001b[0m\n",
      "\u001b[1;32mC:\\Anaconda3\\envs\\DS_Base\\lib\\site-packages\\pandas\\core\\reshape\\concat.py\u001b[0m in \u001b[0;36m__init__\u001b[1;34m(self, objs, axis, join, join_axes, keys, levels, names, ignore_index, verify_integrity, copy, sort)\u001b[0m\n\u001b[0;32m    284\u001b[0m                        \u001b[1;34m' only pd.Series, pd.DataFrame, and pd.Panel'\u001b[0m\u001b[1;33m\u001b[0m\u001b[1;33m\u001b[0m\u001b[0m\n\u001b[0;32m    285\u001b[0m                        ' (deprecated) objs are valid'.format(type(obj)))\n\u001b[1;32m--> 286\u001b[1;33m                 \u001b[1;32mraise\u001b[0m \u001b[0mTypeError\u001b[0m\u001b[1;33m(\u001b[0m\u001b[0mmsg\u001b[0m\u001b[1;33m)\u001b[0m\u001b[1;33m\u001b[0m\u001b[1;33m\u001b[0m\u001b[0m\n\u001b[0m\u001b[0;32m    287\u001b[0m \u001b[1;33m\u001b[0m\u001b[0m\n\u001b[0;32m    288\u001b[0m             \u001b[1;31m# consolidate\u001b[0m\u001b[1;33m\u001b[0m\u001b[1;33m\u001b[0m\u001b[1;33m\u001b[0m\u001b[0m\n",
      "\u001b[1;31mTypeError\u001b[0m: cannot concatenate object of type \"<class 'tuple'>\"; only pd.Series, pd.DataFrame, and pd.Panel (deprecated) objs are valid"
     ]
    }
   ],
   "source": [
    "df_bias_jja , _ = metric_by_hour(bias, df_all_jja, models_cols, temp_obs_col)\n",
    "df_bias_jja"
   ]
  },
  {
   "cell_type": "code",
   "execution_count": null,
   "metadata": {
    "scrolled": false
   },
   "outputs": [],
   "source": [
    "plt_metrics_by_hour(df_bias_jja, 'JJA: Bias for 17 CORDEX models by hour',\n",
    "                    filename='bias_jja', sub_folder='metrics')"
   ]
  },
  {
   "cell_type": "markdown",
   "metadata": {},
   "source": [
    "### Sigma score - Normalized standard deviation measure"
   ]
  },
  {
   "cell_type": "code",
   "execution_count": null,
   "metadata": {},
   "outputs": [],
   "source": [
    "df_sigma_jja , _ = metric_by_hour(sigma_score, df_all_jja, models_cols, temp_obs_col)\n",
    "df_sigma_jja"
   ]
  },
  {
   "cell_type": "code",
   "execution_count": null,
   "metadata": {
    "scrolled": false
   },
   "outputs": [],
   "source": [
    "plt_metrics_by_hour(df_sigma_jja, 'JJA: Sigma score for 17 CORDEX models by hour',\n",
    "                    filename='sigma_jja', sub_folder='metrics')"
   ]
  },
  {
   "cell_type": "markdown",
   "metadata": {},
   "source": [
    "### Perkins skill score"
   ]
  },
  {
   "cell_type": "code",
   "execution_count": null,
   "metadata": {},
   "outputs": [],
   "source": [
    "df_perkins_jja , _ = metric_by_hour(perkins_skill_score, df_all_jja, models_cols, temp_obs_col)\n",
    "df_perkins_jja"
   ]
  },
  {
   "cell_type": "code",
   "execution_count": null,
   "metadata": {
    "scrolled": false
   },
   "outputs": [],
   "source": [
    "plt_metrics_by_hour(df_perkins_jja, 'JJA: Perkins Skill score for 17 CORDEX models by hour',\n",
    "                    filename='perkins_jja', sub_folder='metrics')"
   ]
  },
  {
   "cell_type": "markdown",
   "metadata": {},
   "source": [
    "### Yule-Kendall skewness "
   ]
  },
  {
   "cell_type": "code",
   "execution_count": null,
   "metadata": {
    "scrolled": false
   },
   "outputs": [],
   "source": [
    "df_yk_jja = YK_skewness_by_hour(df_all_jja, models_cols, temp_obs_col)\n",
    "df_yk_jja"
   ]
  },
  {
   "cell_type": "code",
   "execution_count": null,
   "metadata": {
    "scrolled": false
   },
   "outputs": [],
   "source": [
    "plt_metrics_by_hour(df_yk_jja, 'JJA: Yule-Kendall skewness for 17 CORDEX models by hour',\n",
    "                    filename='yk_jja', sub_folder='metrics')"
   ]
  },
  {
   "cell_type": "markdown",
   "metadata": {},
   "source": [
    "## Metrics for all seasons"
   ]
  },
  {
   "cell_type": "markdown",
   "metadata": {},
   "source": [
    "### DJF"
   ]
  },
  {
   "cell_type": "code",
   "execution_count": null,
   "metadata": {
    "scrolled": false
   },
   "outputs": [],
   "source": [
    "df_all_djf = load_csv2df('cordex_join_obs_djf.csv', cordex_output_path, freq_index='3H')\n",
    "df_bias_djf , _ = metric_by_hour(bias, df_all_djf, models_cols, temp_obs_col)\n",
    "plt_metrics_by_hour(df_bias_djf, 'DJF: Bias for 17 CORDEX models by hour', filename='bias_djf', sub_folder='metrics')\n",
    "df_sigma_djf , _ = metric_by_hour(sigma_score, df_all_djf, models_cols, temp_obs_col)\n",
    "plt_metrics_by_hour(df_sigma_djf, 'DJF: Sigma score for 17 CORDEX models by hour', filename='sigma_djf', sub_folder='metrics')\n",
    "df_perkins_djf , _ = metric_by_hour(perkins_skill_score, df_all_djf, models_cols, temp_obs_col)\n",
    "plt_metrics_by_hour(df_perkins_djf, 'DJF: Perkins Skill score for 17 CORDEX models by hour', filename='perkins_djf', sub_folder='metrics')\n",
    "df_yk_djf = YK_skewness_by_hour(df_all_djf, models_cols, temp_obs_col)\n",
    "plt_metrics_by_hour(df_yk_djf, 'DJF: Yule-Kendall skewness for 17 CORDEX models by hour', filename='yk_djf', sub_folder='metrics')"
   ]
  },
  {
   "cell_type": "markdown",
   "metadata": {},
   "source": [
    "### MAM"
   ]
  },
  {
   "cell_type": "code",
   "execution_count": null,
   "metadata": {
    "scrolled": false
   },
   "outputs": [],
   "source": [
    "df_all_mam = load_csv2df('cordex_join_obs_mam.csv', cordex_output_path, freq_index='3H')\n",
    "df_bias_mam , _ = metric_by_hour(bias, df_all_mam, models_cols, temp_obs_col)\n",
    "plt_metrics_by_hour(df_bias_mam, 'MAM: Bias for 17 CORDEX models by hour', filename='bias_mam', sub_folder='metrics')\n",
    "df_sigma_mam , _ = metric_by_hour(sigma_score, df_all_mam, models_cols, temp_obs_col)\n",
    "plt_metrics_by_hour(df_sigma_mam, 'MAM: Sigma score for 17 CORDEX models by hour', filename='sigma_mam', sub_folder='metrics')\n",
    "df_perkins_mam , _ = metric_by_hour(perkins_skill_score, df_all_mam, models_cols, temp_obs_col)\n",
    "plt_metrics_by_hour(df_perkins_mam, 'MAM: Perkins Skill score for 17 CORDEX models by hour', filename='perkins_mam', sub_folder='metrics')\n",
    "df_yk_mam = YK_skewness_by_hour(df_all_mam, models_cols, temp_obs_col)\n",
    "plt_metrics_by_hour(df_yk_mam, 'MAM: Yule-Kendall skewness for 17 CORDEX models by hour', filename='yk_mam', sub_folder='metrics')"
   ]
  },
  {
   "cell_type": "markdown",
   "metadata": {},
   "source": [
    "### SON"
   ]
  },
  {
   "cell_type": "code",
   "execution_count": null,
   "metadata": {
    "scrolled": false
   },
   "outputs": [],
   "source": [
    "df_all_son = load_csv2df('cordex_join_obs_son.csv', cordex_output_path, freq_index='3H')\n",
    "df_bias_son , _ = metric_by_hour(bias, df_all_son, models_cols, temp_obs_col)\n",
    "plt_metrics_by_hour(df_bias_son, 'SON: Bias for 17 CORDEX models by hour', filename='bias_son', sub_folder='metrics')\n",
    "df_sigma_son , _ = metric_by_hour(sigma_score, df_all_son, models_cols, temp_obs_col)\n",
    "plt_metrics_by_hour(df_sigma_son, 'SON: Sigma score for 17 CORDEX models by hour', filename='sigma_son', sub_folder='metrics')\n",
    "df_perkins_son , _ = metric_by_hour(perkins_skill_score, df_all_son, models_cols, temp_obs_col)\n",
    "plt_metrics_by_hour(df_perkins_son, 'SON: Perkins Skill score for 17 CORDEX models by hour', filename='perkins_son', sub_folder='metrics')\n",
    "df_yk_son = YK_skewness_by_hour(df_all_son, models_cols, temp_obs_col)\n",
    "plt_metrics_by_hour(df_yk_son, 'SON: Yule-Kendall skewness for 17 CORDEX models by hour', filename='yk_son', sub_folder='metrics')"
   ]
  }
 ],
 "metadata": {
  "kernelspec": {
   "display_name": "Python 3",
   "language": "python",
   "name": "python3"
  },
  "language_info": {
   "codemirror_mode": {
    "name": "ipython",
    "version": 3
   },
   "file_extension": ".py",
   "mimetype": "text/x-python",
   "name": "python",
   "nbconvert_exporter": "python",
   "pygments_lexer": "ipython3",
   "version": "3.6.7"
  }
 },
 "nbformat": 4,
 "nbformat_minor": 4
}
