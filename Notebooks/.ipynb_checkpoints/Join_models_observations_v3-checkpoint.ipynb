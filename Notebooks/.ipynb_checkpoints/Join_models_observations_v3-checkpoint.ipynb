{
 "cells": [
  {
   "cell_type": "markdown",
   "metadata": {},
   "source": [
    "# ..."
   ]
  },
  {
   "cell_type": "code",
   "execution_count": null,
   "metadata": {},
   "outputs": [],
   "source": []
  },
  {
   "cell_type": "code",
   "execution_count": 5,
   "metadata": {},
   "outputs": [],
   "source": [
    "# Load auxiliar functions and configurations\n",
    "%run utils_v3.ipynb"
   ]
  },
  {
   "cell_type": "code",
   "execution_count": 2,
   "metadata": {},
   "outputs": [
    {
     "name": "stdout",
     "output_type": "stream",
     "text": [
      "models_output_path ..\\data\\models\\output\n",
      "models_output_path ..\\data\\observations\\temp\\output\n"
     ]
    }
   ],
   "source": [
    "# Configurations\n",
    "print('models_output_path', models_output_path)\n",
    "print('models_output_path', temp_output_path)"
   ]
  },
  {
   "cell_type": "code",
   "execution_count": 3,
   "metadata": {},
   "outputs": [
    {
     "data": {
      "text/plain": [
       "({0: 'CNRM-CERFACS-CNRM-CM5_historical_r1i1p1_CNRM-ALADIN63_v2',\n",
       "  1: 'CNRM-CERFACS-CNRM-CM5_historical_r1i1p1_DMI-HIRHAM5_v2',\n",
       "  2: 'CNRM-CERFACS-CNRM-CM5_historical_r1i1p1_SMHI-RCA4_v1',\n",
       "  3: 'ICHEC-EC-EARTH_historical_r12i1p1_SMHI-RCA4_v1',\n",
       "  4: 'ICHEC-EC-EARTH_historical_r3i1p1_DMI-HIRHAM5_v2',\n",
       "  5: 'IPSL-IPSL-CM5A-MR_historical_r1i1p1_SMHI-RCA4_v1',\n",
       "  6: 'MOHC-HadGEM2-ES_historical_r1i1p1_ICTP-RegCM4-6_v1',\n",
       "  7: 'MOHC-HadGEM2-ES_historical_r1i1p1_SMHI-RCA4_v1',\n",
       "  8: 'MPI-M-MPI-ESM-LR_historical_r1i1p1_CLMcom-ETH-COSMO-crCLIM-v1-1_v1',\n",
       "  9: 'MPI-M-MPI-ESM-LR_historical_r1i1p1_DMI-HIRHAM5_v1',\n",
       "  10: 'MPI-M-MPI-ESM-LR_historical_r1i1p1_ICTP-RegCM4-6_v1',\n",
       "  11: 'MPI-M-MPI-ESM-LR_historical_r1i1p1_SMHI-RCA4_v1a',\n",
       "  12: 'MPI-M-MPI-ESM-LR_historical_r3i1p1_GERICS-REMO2015_v1',\n",
       "  13: 'NCC-NorESM1-M_historical_r1i1p1_CLMcom-ETH-COSMO-crCLIM-v1-1_v1',\n",
       "  14: 'NCC-NorESM1-M_historical_r1i1p1_DMI-HIRHAM5_v3',\n",
       "  15: 'NCC-NorESM1-M_historical_r1i1p1_GERICS-REMO2015_v1',\n",
       "  16: 'NCC-NorESM1-M_historical_r1i1p1_SMHI-RCA4_v1'},\n",
       " 17)"
      ]
     },
     "execution_count": 3,
     "metadata": {},
     "output_type": "execute_result"
    }
   ],
   "source": [
    "models_dict = {i:name for i,name in enumerate(select_models_folders()[0])}\n",
    "models_dict, len(models_dict)"
   ]
  },
  {
   "cell_type": "code",
   "execution_count": 4,
   "metadata": {},
   "outputs": [
    {
     "data": {
      "text/plain": [
       "([0, 1, 2, 3, 4, 5, 6, 7, 8, 9, 10, 11, 12, 13, 14, 15, 16], 17)"
      ]
     },
     "execution_count": 4,
     "metadata": {},
     "output_type": "execute_result"
    }
   ],
   "source": [
    "MODELS_NUMBERS = list(models_dict.keys())\n",
    "OBS_NUMBER = 17\n",
    "MODELS_NUMBERS, OBS_NUMBER"
   ]
  },
  {
   "cell_type": "markdown",
   "metadata": {},
   "source": [
    "#### Load observations"
   ]
  },
  {
   "cell_type": "code",
   "execution_count": 61,
   "metadata": {},
   "outputs": [
    {
     "data": {
      "text/html": [
       "<div>\n",
       "<style scoped>\n",
       "    .dataframe tbody tr th:only-of-type {\n",
       "        vertical-align: middle;\n",
       "    }\n",
       "\n",
       "    .dataframe tbody tr th {\n",
       "        vertical-align: top;\n",
       "    }\n",
       "\n",
       "    .dataframe thead th {\n",
       "        text-align: right;\n",
       "    }\n",
       "</style>\n",
       "<table border=\"1\" class=\"dataframe\">\n",
       "  <thead>\n",
       "    <tr style=\"text-align: right;\">\n",
       "      <th></th>\n",
       "      <th>17</th>\n",
       "    </tr>\n",
       "    <tr>\n",
       "      <th>date</th>\n",
       "      <th></th>\n",
       "    </tr>\n",
       "  </thead>\n",
       "  <tbody>\n",
       "    <tr>\n",
       "      <th>1979-06-01 00:00:00</th>\n",
       "      <td>12.933333</td>\n",
       "    </tr>\n",
       "    <tr>\n",
       "      <th>1979-06-01 03:00:00</th>\n",
       "      <td>12.233333</td>\n",
       "    </tr>\n",
       "    <tr>\n",
       "      <th>1979-06-01 06:00:00</th>\n",
       "      <td>11.933333</td>\n",
       "    </tr>\n",
       "    <tr>\n",
       "      <th>1979-06-01 09:00:00</th>\n",
       "      <td>15.533333</td>\n",
       "    </tr>\n",
       "    <tr>\n",
       "      <th>1979-06-01 12:00:00</th>\n",
       "      <td>18.900000</td>\n",
       "    </tr>\n",
       "  </tbody>\n",
       "</table>\n",
       "</div>"
      ],
      "text/plain": [
       "                            17\n",
       "date                          \n",
       "1979-06-01 00:00:00  12.933333\n",
       "1979-06-01 03:00:00  12.233333\n",
       "1979-06-01 06:00:00  11.933333\n",
       "1979-06-01 09:00:00  15.533333\n",
       "1979-06-01 12:00:00  18.900000"
      ]
     },
     "execution_count": 61,
     "metadata": {},
     "output_type": "execute_result"
    }
   ],
   "source": [
    "df_obs_3_jja = load_csv2df('temp_obs_3_jja.csv', temp_output_path, freq_index='3H')\n",
    "df_obs_3_jja.index.name = 'date'\n",
    "df_obs_3_jja = df_obs_3_jja.rename({'temp':17}, axis=1)\n",
    "df_obs_3_jja.head()"
   ]
  },
  {
   "cell_type": "markdown",
   "metadata": {},
   "source": [
    "#### Load Models"
   ]
  },
  {
   "cell_type": "code",
   "execution_count": 76,
   "metadata": {},
   "outputs": [
    {
     "data": {
      "text/html": [
       "<div>\n",
       "<style scoped>\n",
       "    .dataframe tbody tr th:only-of-type {\n",
       "        vertical-align: middle;\n",
       "    }\n",
       "\n",
       "    .dataframe tbody tr th {\n",
       "        vertical-align: top;\n",
       "    }\n",
       "\n",
       "    .dataframe thead th {\n",
       "        text-align: right;\n",
       "    }\n",
       "</style>\n",
       "<table border=\"1\" class=\"dataframe\">\n",
       "  <thead>\n",
       "    <tr style=\"text-align: right;\">\n",
       "      <th></th>\n",
       "      <th>0</th>\n",
       "      <th>1</th>\n",
       "      <th>2</th>\n",
       "      <th>3</th>\n",
       "      <th>4</th>\n",
       "      <th>5</th>\n",
       "      <th>6</th>\n",
       "      <th>7</th>\n",
       "      <th>8</th>\n",
       "      <th>9</th>\n",
       "      <th>10</th>\n",
       "      <th>11</th>\n",
       "      <th>12</th>\n",
       "      <th>13</th>\n",
       "      <th>14</th>\n",
       "      <th>15</th>\n",
       "      <th>16</th>\n",
       "    </tr>\n",
       "    <tr>\n",
       "      <th>date</th>\n",
       "      <th></th>\n",
       "      <th></th>\n",
       "      <th></th>\n",
       "      <th></th>\n",
       "      <th></th>\n",
       "      <th></th>\n",
       "      <th></th>\n",
       "      <th></th>\n",
       "      <th></th>\n",
       "      <th></th>\n",
       "      <th></th>\n",
       "      <th></th>\n",
       "      <th></th>\n",
       "      <th></th>\n",
       "      <th></th>\n",
       "      <th></th>\n",
       "      <th></th>\n",
       "    </tr>\n",
       "  </thead>\n",
       "  <tbody>\n",
       "    <tr>\n",
       "      <th>1979-06-01 00:00:00</th>\n",
       "      <td>13.419122</td>\n",
       "      <td>14.471643</td>\n",
       "      <td>14.328729</td>\n",
       "      <td>13.729150</td>\n",
       "      <td>13.672754</td>\n",
       "      <td>10.644250</td>\n",
       "      <td>12.337183</td>\n",
       "      <td>10.969507</td>\n",
       "      <td>16.211725</td>\n",
       "      <td>19.048730</td>\n",
       "      <td>14.766718</td>\n",
       "      <td>16.977441</td>\n",
       "      <td>12.107019</td>\n",
       "      <td>14.522089</td>\n",
       "      <td>15.005762</td>\n",
       "      <td>15.043542</td>\n",
       "      <td>10.745996</td>\n",
       "    </tr>\n",
       "    <tr>\n",
       "      <th>1979-06-01 03:00:00</th>\n",
       "      <td>12.501764</td>\n",
       "      <td>14.402551</td>\n",
       "      <td>12.254663</td>\n",
       "      <td>14.001581</td>\n",
       "      <td>13.041925</td>\n",
       "      <td>9.791833</td>\n",
       "      <td>11.918695</td>\n",
       "      <td>10.839319</td>\n",
       "      <td>15.977960</td>\n",
       "      <td>18.184839</td>\n",
       "      <td>15.022180</td>\n",
       "      <td>16.634790</td>\n",
       "      <td>11.559991</td>\n",
       "      <td>14.790338</td>\n",
       "      <td>14.716455</td>\n",
       "      <td>14.938684</td>\n",
       "      <td>11.698389</td>\n",
       "    </tr>\n",
       "    <tr>\n",
       "      <th>1979-06-01 06:00:00</th>\n",
       "      <td>11.911584</td>\n",
       "      <td>13.907617</td>\n",
       "      <td>11.871179</td>\n",
       "      <td>13.747766</td>\n",
       "      <td>12.438898</td>\n",
       "      <td>9.561914</td>\n",
       "      <td>12.052179</td>\n",
       "      <td>10.406824</td>\n",
       "      <td>16.152734</td>\n",
       "      <td>17.723444</td>\n",
       "      <td>13.791528</td>\n",
       "      <td>16.666528</td>\n",
       "      <td>11.469415</td>\n",
       "      <td>15.098444</td>\n",
       "      <td>14.315088</td>\n",
       "      <td>15.044244</td>\n",
       "      <td>13.068018</td>\n",
       "    </tr>\n",
       "    <tr>\n",
       "      <th>1979-06-01 09:00:00</th>\n",
       "      <td>15.474115</td>\n",
       "      <td>17.524805</td>\n",
       "      <td>18.803857</td>\n",
       "      <td>15.239832</td>\n",
       "      <td>16.544214</td>\n",
       "      <td>12.460474</td>\n",
       "      <td>14.724603</td>\n",
       "      <td>15.226221</td>\n",
       "      <td>22.113336</td>\n",
       "      <td>21.220728</td>\n",
       "      <td>16.057153</td>\n",
       "      <td>18.326074</td>\n",
       "      <td>15.713953</td>\n",
       "      <td>17.690302</td>\n",
       "      <td>15.798486</td>\n",
       "      <td>15.259332</td>\n",
       "      <td>16.350977</td>\n",
       "    </tr>\n",
       "    <tr>\n",
       "      <th>1979-06-01 12:00:00</th>\n",
       "      <td>17.844873</td>\n",
       "      <td>19.986719</td>\n",
       "      <td>24.058984</td>\n",
       "      <td>16.716211</td>\n",
       "      <td>21.106104</td>\n",
       "      <td>13.730859</td>\n",
       "      <td>18.498956</td>\n",
       "      <td>18.569238</td>\n",
       "      <td>27.650629</td>\n",
       "      <td>25.784845</td>\n",
       "      <td>17.785272</td>\n",
       "      <td>20.640039</td>\n",
       "      <td>18.421106</td>\n",
       "      <td>20.991083</td>\n",
       "      <td>21.013086</td>\n",
       "      <td>16.919702</td>\n",
       "      <td>19.115137</td>\n",
       "    </tr>\n",
       "  </tbody>\n",
       "</table>\n",
       "</div>"
      ],
      "text/plain": [
       "                            0          1          2          3          4   \\\n",
       "date                                                                         \n",
       "1979-06-01 00:00:00  13.419122  14.471643  14.328729  13.729150  13.672754   \n",
       "1979-06-01 03:00:00  12.501764  14.402551  12.254663  14.001581  13.041925   \n",
       "1979-06-01 06:00:00  11.911584  13.907617  11.871179  13.747766  12.438898   \n",
       "1979-06-01 09:00:00  15.474115  17.524805  18.803857  15.239832  16.544214   \n",
       "1979-06-01 12:00:00  17.844873  19.986719  24.058984  16.716211  21.106104   \n",
       "\n",
       "                            5          6          7          8          9   \\\n",
       "date                                                                         \n",
       "1979-06-01 00:00:00  10.644250  12.337183  10.969507  16.211725  19.048730   \n",
       "1979-06-01 03:00:00   9.791833  11.918695  10.839319  15.977960  18.184839   \n",
       "1979-06-01 06:00:00   9.561914  12.052179  10.406824  16.152734  17.723444   \n",
       "1979-06-01 09:00:00  12.460474  14.724603  15.226221  22.113336  21.220728   \n",
       "1979-06-01 12:00:00  13.730859  18.498956  18.569238  27.650629  25.784845   \n",
       "\n",
       "                            10         11         12         13         14  \\\n",
       "date                                                                         \n",
       "1979-06-01 00:00:00  14.766718  16.977441  12.107019  14.522089  15.005762   \n",
       "1979-06-01 03:00:00  15.022180  16.634790  11.559991  14.790338  14.716455   \n",
       "1979-06-01 06:00:00  13.791528  16.666528  11.469415  15.098444  14.315088   \n",
       "1979-06-01 09:00:00  16.057153  18.326074  15.713953  17.690302  15.798486   \n",
       "1979-06-01 12:00:00  17.785272  20.640039  18.421106  20.991083  21.013086   \n",
       "\n",
       "                            15         16  \n",
       "date                                       \n",
       "1979-06-01 00:00:00  15.043542  10.745996  \n",
       "1979-06-01 03:00:00  14.938684  11.698389  \n",
       "1979-06-01 06:00:00  15.044244  13.068018  \n",
       "1979-06-01 09:00:00  15.259332  16.350977  \n",
       "1979-06-01 12:00:00  16.919702  19.115137  "
      ]
     },
     "execution_count": 76,
     "metadata": {},
     "output_type": "execute_result"
    }
   ],
   "source": [
    "all_models_jja = load_csv2df('temp_models_1979_2005_jja.csv', models_output_path, freq_index='3H')\n",
    "all_models_jja.index.name = 'date'\n",
    "all_models_jja.head()"
   ]
  },
  {
   "cell_type": "code",
   "execution_count": 77,
   "metadata": {},
   "outputs": [
    {
     "name": "stdout",
     "output_type": "stream",
     "text": [
      "<class 'pandas.core.frame.DataFrame'>\n",
      "DatetimeIndex: 111776 entries, 1979-06-01 00:00:00 to 2017-08-31 21:00:00\n",
      "Freq: 3H\n",
      "Data columns (total 1 columns):\n",
      "17    28704 non-null float64\n",
      "dtypes: float64(1)\n",
      "memory usage: 1.7 MB\n"
     ]
    }
   ],
   "source": [
    "df_obs_3_jja.info()"
   ]
  },
  {
   "cell_type": "code",
   "execution_count": 78,
   "metadata": {},
   "outputs": [
    {
     "name": "stdout",
     "output_type": "stream",
     "text": [
      "<class 'pandas.core.frame.DataFrame'>\n",
      "DatetimeIndex: 76712 entries, 1979-06-01 00:00:00 to 2005-08-31 21:00:00\n",
      "Freq: 3H\n",
      "Data columns (total 17 columns):\n",
      "0     19872 non-null float64\n",
      "1     19872 non-null float64\n",
      "2     19872 non-null float64\n",
      "3     19872 non-null float64\n",
      "4     19872 non-null float64\n",
      "5     19872 non-null float64\n",
      "6     19872 non-null float64\n",
      "7     19872 non-null float64\n",
      "8     19872 non-null float64\n",
      "9     19872 non-null float64\n",
      "10    19872 non-null float64\n",
      "11    19872 non-null float64\n",
      "12    19872 non-null float64\n",
      "13    19872 non-null float64\n",
      "14    19872 non-null float64\n",
      "15    19872 non-null float64\n",
      "16    19872 non-null float64\n",
      "dtypes: float64(17)\n",
      "memory usage: 10.5 MB\n"
     ]
    }
   ],
   "source": [
    "all_models_jja.info()"
   ]
  },
  {
   "cell_type": "markdown",
   "metadata": {},
   "source": [
    "### Joining the models data and observations"
   ]
  },
  {
   "cell_type": "code",
   "execution_count": 79,
   "metadata": {},
   "outputs": [
    {
     "data": {
      "text/html": [
       "<div>\n",
       "<style scoped>\n",
       "    .dataframe tbody tr th:only-of-type {\n",
       "        vertical-align: middle;\n",
       "    }\n",
       "\n",
       "    .dataframe tbody tr th {\n",
       "        vertical-align: top;\n",
       "    }\n",
       "\n",
       "    .dataframe thead th {\n",
       "        text-align: right;\n",
       "    }\n",
       "</style>\n",
       "<table border=\"1\" class=\"dataframe\">\n",
       "  <thead>\n",
       "    <tr style=\"text-align: right;\">\n",
       "      <th></th>\n",
       "      <th>0</th>\n",
       "      <th>1</th>\n",
       "      <th>2</th>\n",
       "      <th>3</th>\n",
       "      <th>4</th>\n",
       "      <th>5</th>\n",
       "      <th>6</th>\n",
       "      <th>7</th>\n",
       "      <th>8</th>\n",
       "      <th>9</th>\n",
       "      <th>10</th>\n",
       "      <th>11</th>\n",
       "      <th>12</th>\n",
       "      <th>13</th>\n",
       "      <th>14</th>\n",
       "      <th>15</th>\n",
       "      <th>16</th>\n",
       "      <th>17</th>\n",
       "    </tr>\n",
       "    <tr>\n",
       "      <th>date</th>\n",
       "      <th></th>\n",
       "      <th></th>\n",
       "      <th></th>\n",
       "      <th></th>\n",
       "      <th></th>\n",
       "      <th></th>\n",
       "      <th></th>\n",
       "      <th></th>\n",
       "      <th></th>\n",
       "      <th></th>\n",
       "      <th></th>\n",
       "      <th></th>\n",
       "      <th></th>\n",
       "      <th></th>\n",
       "      <th></th>\n",
       "      <th></th>\n",
       "      <th></th>\n",
       "      <th></th>\n",
       "    </tr>\n",
       "  </thead>\n",
       "  <tbody>\n",
       "    <tr>\n",
       "      <th>1979-06-01 00:00:00</th>\n",
       "      <td>13.419122</td>\n",
       "      <td>14.471643</td>\n",
       "      <td>14.328729</td>\n",
       "      <td>13.729150</td>\n",
       "      <td>13.672754</td>\n",
       "      <td>10.644250</td>\n",
       "      <td>12.337183</td>\n",
       "      <td>10.969507</td>\n",
       "      <td>16.211725</td>\n",
       "      <td>19.048730</td>\n",
       "      <td>14.766718</td>\n",
       "      <td>16.977441</td>\n",
       "      <td>12.107019</td>\n",
       "      <td>14.522089</td>\n",
       "      <td>15.005762</td>\n",
       "      <td>15.043542</td>\n",
       "      <td>10.745996</td>\n",
       "      <td>12.933333</td>\n",
       "    </tr>\n",
       "    <tr>\n",
       "      <th>1979-06-01 03:00:00</th>\n",
       "      <td>12.501764</td>\n",
       "      <td>14.402551</td>\n",
       "      <td>12.254663</td>\n",
       "      <td>14.001581</td>\n",
       "      <td>13.041925</td>\n",
       "      <td>9.791833</td>\n",
       "      <td>11.918695</td>\n",
       "      <td>10.839319</td>\n",
       "      <td>15.977960</td>\n",
       "      <td>18.184839</td>\n",
       "      <td>15.022180</td>\n",
       "      <td>16.634790</td>\n",
       "      <td>11.559991</td>\n",
       "      <td>14.790338</td>\n",
       "      <td>14.716455</td>\n",
       "      <td>14.938684</td>\n",
       "      <td>11.698389</td>\n",
       "      <td>12.233333</td>\n",
       "    </tr>\n",
       "    <tr>\n",
       "      <th>1979-06-01 06:00:00</th>\n",
       "      <td>11.911584</td>\n",
       "      <td>13.907617</td>\n",
       "      <td>11.871179</td>\n",
       "      <td>13.747766</td>\n",
       "      <td>12.438898</td>\n",
       "      <td>9.561914</td>\n",
       "      <td>12.052179</td>\n",
       "      <td>10.406824</td>\n",
       "      <td>16.152734</td>\n",
       "      <td>17.723444</td>\n",
       "      <td>13.791528</td>\n",
       "      <td>16.666528</td>\n",
       "      <td>11.469415</td>\n",
       "      <td>15.098444</td>\n",
       "      <td>14.315088</td>\n",
       "      <td>15.044244</td>\n",
       "      <td>13.068018</td>\n",
       "      <td>11.933333</td>\n",
       "    </tr>\n",
       "    <tr>\n",
       "      <th>1979-06-01 09:00:00</th>\n",
       "      <td>15.474115</td>\n",
       "      <td>17.524805</td>\n",
       "      <td>18.803857</td>\n",
       "      <td>15.239832</td>\n",
       "      <td>16.544214</td>\n",
       "      <td>12.460474</td>\n",
       "      <td>14.724603</td>\n",
       "      <td>15.226221</td>\n",
       "      <td>22.113336</td>\n",
       "      <td>21.220728</td>\n",
       "      <td>16.057153</td>\n",
       "      <td>18.326074</td>\n",
       "      <td>15.713953</td>\n",
       "      <td>17.690302</td>\n",
       "      <td>15.798486</td>\n",
       "      <td>15.259332</td>\n",
       "      <td>16.350977</td>\n",
       "      <td>15.533333</td>\n",
       "    </tr>\n",
       "    <tr>\n",
       "      <th>1979-06-01 12:00:00</th>\n",
       "      <td>17.844873</td>\n",
       "      <td>19.986719</td>\n",
       "      <td>24.058984</td>\n",
       "      <td>16.716211</td>\n",
       "      <td>21.106104</td>\n",
       "      <td>13.730859</td>\n",
       "      <td>18.498956</td>\n",
       "      <td>18.569238</td>\n",
       "      <td>27.650629</td>\n",
       "      <td>25.784845</td>\n",
       "      <td>17.785272</td>\n",
       "      <td>20.640039</td>\n",
       "      <td>18.421106</td>\n",
       "      <td>20.991083</td>\n",
       "      <td>21.013086</td>\n",
       "      <td>16.919702</td>\n",
       "      <td>19.115137</td>\n",
       "      <td>18.900000</td>\n",
       "    </tr>\n",
       "  </tbody>\n",
       "</table>\n",
       "</div>"
      ],
      "text/plain": [
       "                            0          1          2          3          4   \\\n",
       "date                                                                         \n",
       "1979-06-01 00:00:00  13.419122  14.471643  14.328729  13.729150  13.672754   \n",
       "1979-06-01 03:00:00  12.501764  14.402551  12.254663  14.001581  13.041925   \n",
       "1979-06-01 06:00:00  11.911584  13.907617  11.871179  13.747766  12.438898   \n",
       "1979-06-01 09:00:00  15.474115  17.524805  18.803857  15.239832  16.544214   \n",
       "1979-06-01 12:00:00  17.844873  19.986719  24.058984  16.716211  21.106104   \n",
       "\n",
       "                            5          6          7          8          9   \\\n",
       "date                                                                         \n",
       "1979-06-01 00:00:00  10.644250  12.337183  10.969507  16.211725  19.048730   \n",
       "1979-06-01 03:00:00   9.791833  11.918695  10.839319  15.977960  18.184839   \n",
       "1979-06-01 06:00:00   9.561914  12.052179  10.406824  16.152734  17.723444   \n",
       "1979-06-01 09:00:00  12.460474  14.724603  15.226221  22.113336  21.220728   \n",
       "1979-06-01 12:00:00  13.730859  18.498956  18.569238  27.650629  25.784845   \n",
       "\n",
       "                            10         11         12         13         14  \\\n",
       "date                                                                         \n",
       "1979-06-01 00:00:00  14.766718  16.977441  12.107019  14.522089  15.005762   \n",
       "1979-06-01 03:00:00  15.022180  16.634790  11.559991  14.790338  14.716455   \n",
       "1979-06-01 06:00:00  13.791528  16.666528  11.469415  15.098444  14.315088   \n",
       "1979-06-01 09:00:00  16.057153  18.326074  15.713953  17.690302  15.798486   \n",
       "1979-06-01 12:00:00  17.785272  20.640039  18.421106  20.991083  21.013086   \n",
       "\n",
       "                            15         16         17  \n",
       "date                                                  \n",
       "1979-06-01 00:00:00  15.043542  10.745996  12.933333  \n",
       "1979-06-01 03:00:00  14.938684  11.698389  12.233333  \n",
       "1979-06-01 06:00:00  15.044244  13.068018  11.933333  \n",
       "1979-06-01 09:00:00  15.259332  16.350977  15.533333  \n",
       "1979-06-01 12:00:00  16.919702  19.115137  18.900000  "
      ]
     },
     "execution_count": 79,
     "metadata": {},
     "output_type": "execute_result"
    }
   ],
   "source": [
    "df_all_jja = all_models_jja.join(df_obs_3_jja, on='date', how='inner')\n",
    "df_all_jja.dropna(subset=[17], axis=0, inplace=True)\n",
    "df_all_jja = df_all_jja.asfreq('3H')\n",
    "df_all_jja.head()"
   ]
  },
  {
   "cell_type": "code",
   "execution_count": 80,
   "metadata": {},
   "outputs": [
    {
     "name": "stdout",
     "output_type": "stream",
     "text": [
      "<class 'pandas.core.frame.DataFrame'>\n",
      "DatetimeIndex: 76712 entries, 1979-06-01 00:00:00 to 2005-08-31 21:00:00\n",
      "Freq: 3H\n",
      "Data columns (total 18 columns):\n",
      "0     19872 non-null float64\n",
      "1     19872 non-null float64\n",
      "2     19872 non-null float64\n",
      "3     19872 non-null float64\n",
      "4     19872 non-null float64\n",
      "5     19872 non-null float64\n",
      "6     19872 non-null float64\n",
      "7     19872 non-null float64\n",
      "8     19872 non-null float64\n",
      "9     19872 non-null float64\n",
      "10    19872 non-null float64\n",
      "11    19872 non-null float64\n",
      "12    19872 non-null float64\n",
      "13    19872 non-null float64\n",
      "14    19872 non-null float64\n",
      "15    19872 non-null float64\n",
      "16    19872 non-null float64\n",
      "17    19872 non-null float64\n",
      "dtypes: float64(18)\n",
      "memory usage: 11.1 MB\n"
     ]
    }
   ],
   "source": [
    "df_all_jja.info()"
   ]
  },
  {
   "cell_type": "code",
   "execution_count": 28,
   "metadata": {},
   "outputs": [],
   "source": [
    "# df_all_jja = join_obs2models(models_file = 'temp_models_3h_by_h.csv', \n",
    "#                      obs_file = 'temp_obs_3h_1979_2005_by_h.csv')\n",
    "\n",
    "# df_all_jja.head()"
   ]
  },
  {
   "cell_type": "code",
   "execution_count": 81,
   "metadata": {},
   "outputs": [],
   "source": [
    "save_df2csv(df_all_jja, 'models_join_obs.csv', models_output_path, index=True)"
   ]
  },
  {
   "cell_type": "code",
   "execution_count": 82,
   "metadata": {},
   "outputs": [],
   "source": [
    "df_all_jja_ = load_csv2df('models_join_obs.csv', models_output_path, freq_index='3H')\n",
    "assert compare_saved_loaded_df(df_all_jja_, df_all_jja)"
   ]
  },
  {
   "cell_type": "code",
   "execution_count": 104,
   "metadata": {},
   "outputs": [
    {
     "data": {
      "text/html": [
       "<div>\n",
       "<style scoped>\n",
       "    .dataframe tbody tr th:only-of-type {\n",
       "        vertical-align: middle;\n",
       "    }\n",
       "\n",
       "    .dataframe tbody tr th {\n",
       "        vertical-align: top;\n",
       "    }\n",
       "\n",
       "    .dataframe thead th {\n",
       "        text-align: right;\n",
       "    }\n",
       "</style>\n",
       "<table border=\"1\" class=\"dataframe\">\n",
       "  <thead>\n",
       "    <tr style=\"text-align: right;\">\n",
       "      <th></th>\n",
       "      <th>0</th>\n",
       "      <th>1</th>\n",
       "      <th>2</th>\n",
       "      <th>3</th>\n",
       "      <th>4</th>\n",
       "      <th>5</th>\n",
       "      <th>6</th>\n",
       "      <th>7</th>\n",
       "      <th>8</th>\n",
       "      <th>9</th>\n",
       "      <th>10</th>\n",
       "      <th>11</th>\n",
       "      <th>12</th>\n",
       "      <th>13</th>\n",
       "      <th>14</th>\n",
       "      <th>15</th>\n",
       "      <th>16</th>\n",
       "      <th>17</th>\n",
       "    </tr>\n",
       "  </thead>\n",
       "  <tbody>\n",
       "    <tr>\n",
       "      <th>00:00:00</th>\n",
       "      <td>16.580253</td>\n",
       "      <td>16.955157</td>\n",
       "      <td>15.949089</td>\n",
       "      <td>15.921291</td>\n",
       "      <td>17.766131</td>\n",
       "      <td>15.751545</td>\n",
       "      <td>16.683249</td>\n",
       "      <td>15.194307</td>\n",
       "      <td>16.928538</td>\n",
       "      <td>18.587653</td>\n",
       "      <td>18.245850</td>\n",
       "      <td>17.441218</td>\n",
       "      <td>17.856119</td>\n",
       "      <td>16.966381</td>\n",
       "      <td>18.037449</td>\n",
       "      <td>18.219786</td>\n",
       "      <td>17.361769</td>\n",
       "      <td>19.753331</td>\n",
       "    </tr>\n",
       "    <tr>\n",
       "      <th>03:00:00</th>\n",
       "      <td>15.650897</td>\n",
       "      <td>16.252994</td>\n",
       "      <td>15.118905</td>\n",
       "      <td>15.051568</td>\n",
       "      <td>16.992205</td>\n",
       "      <td>14.973248</td>\n",
       "      <td>16.028100</td>\n",
       "      <td>14.300699</td>\n",
       "      <td>16.478054</td>\n",
       "      <td>17.822568</td>\n",
       "      <td>17.525547</td>\n",
       "      <td>16.581736</td>\n",
       "      <td>17.111994</td>\n",
       "      <td>16.435621</td>\n",
       "      <td>17.306846</td>\n",
       "      <td>17.463975</td>\n",
       "      <td>16.551596</td>\n",
       "      <td>18.895598</td>\n",
       "    </tr>\n",
       "    <tr>\n",
       "      <th>06:00:00</th>\n",
       "      <td>15.254064</td>\n",
       "      <td>15.748060</td>\n",
       "      <td>14.746570</td>\n",
       "      <td>14.579645</td>\n",
       "      <td>16.401078</td>\n",
       "      <td>14.623936</td>\n",
       "      <td>15.552962</td>\n",
       "      <td>13.945072</td>\n",
       "      <td>16.211097</td>\n",
       "      <td>17.267193</td>\n",
       "      <td>17.003245</td>\n",
       "      <td>16.140285</td>\n",
       "      <td>16.577432</td>\n",
       "      <td>16.165811</td>\n",
       "      <td>16.793257</td>\n",
       "      <td>16.943114</td>\n",
       "      <td>16.266580</td>\n",
       "      <td>18.356371</td>\n",
       "    </tr>\n",
       "    <tr>\n",
       "      <th>09:00:00</th>\n",
       "      <td>20.380696</td>\n",
       "      <td>18.930167</td>\n",
       "      <td>19.392411</td>\n",
       "      <td>19.716078</td>\n",
       "      <td>19.785181</td>\n",
       "      <td>19.805649</td>\n",
       "      <td>18.788878</td>\n",
       "      <td>18.670145</td>\n",
       "      <td>21.615778</td>\n",
       "      <td>20.473517</td>\n",
       "      <td>20.390677</td>\n",
       "      <td>21.151066</td>\n",
       "      <td>20.753713</td>\n",
       "      <td>22.091954</td>\n",
       "      <td>20.216150</td>\n",
       "      <td>21.700247</td>\n",
       "      <td>21.355300</td>\n",
       "      <td>20.518839</td>\n",
       "    </tr>\n",
       "    <tr>\n",
       "      <th>12:00:00</th>\n",
       "      <td>24.750813</td>\n",
       "      <td>23.085859</td>\n",
       "      <td>23.611550</td>\n",
       "      <td>24.499631</td>\n",
       "      <td>24.449162</td>\n",
       "      <td>24.752476</td>\n",
       "      <td>22.105544</td>\n",
       "      <td>22.466565</td>\n",
       "      <td>26.069767</td>\n",
       "      <td>24.747205</td>\n",
       "      <td>24.067370</td>\n",
       "      <td>25.931965</td>\n",
       "      <td>26.438445</td>\n",
       "      <td>26.434391</td>\n",
       "      <td>24.728297</td>\n",
       "      <td>27.784190</td>\n",
       "      <td>25.701283</td>\n",
       "      <td>24.184023</td>\n",
       "    </tr>\n",
       "    <tr>\n",
       "      <th>15:00:00</th>\n",
       "      <td>25.852965</td>\n",
       "      <td>24.317816</td>\n",
       "      <td>24.858336</td>\n",
       "      <td>25.814836</td>\n",
       "      <td>25.782208</td>\n",
       "      <td>26.008472</td>\n",
       "      <td>22.919373</td>\n",
       "      <td>23.580845</td>\n",
       "      <td>26.194448</td>\n",
       "      <td>25.999431</td>\n",
       "      <td>25.065198</td>\n",
       "      <td>27.242675</td>\n",
       "      <td>27.966676</td>\n",
       "      <td>26.044419</td>\n",
       "      <td>25.883124</td>\n",
       "      <td>29.190004</td>\n",
       "      <td>26.722179</td>\n",
       "      <td>25.913117</td>\n",
       "    </tr>\n",
       "    <tr>\n",
       "      <th>18:00:00</th>\n",
       "      <td>22.615275</td>\n",
       "      <td>22.034147</td>\n",
       "      <td>21.845597</td>\n",
       "      <td>22.403420</td>\n",
       "      <td>23.322696</td>\n",
       "      <td>22.442110</td>\n",
       "      <td>21.072393</td>\n",
       "      <td>21.070195</td>\n",
       "      <td>22.259485</td>\n",
       "      <td>23.820570</td>\n",
       "      <td>22.951080</td>\n",
       "      <td>23.876390</td>\n",
       "      <td>24.894852</td>\n",
       "      <td>22.525640</td>\n",
       "      <td>23.383550</td>\n",
       "      <td>25.630088</td>\n",
       "      <td>23.358810</td>\n",
       "      <td>24.674856</td>\n",
       "    </tr>\n",
       "    <tr>\n",
       "      <th>21:00:00</th>\n",
       "      <td>18.232309</td>\n",
       "      <td>18.437002</td>\n",
       "      <td>17.484597</td>\n",
       "      <td>17.533865</td>\n",
       "      <td>19.381179</td>\n",
       "      <td>17.405356</td>\n",
       "      <td>17.777800</td>\n",
       "      <td>16.927056</td>\n",
       "      <td>17.844660</td>\n",
       "      <td>20.121832</td>\n",
       "      <td>19.364609</td>\n",
       "      <td>19.070458</td>\n",
       "      <td>19.628587</td>\n",
       "      <td>18.056673</td>\n",
       "      <td>19.579112</td>\n",
       "      <td>20.015737</td>\n",
       "      <td>18.866499</td>\n",
       "      <td>21.470768</td>\n",
       "    </tr>\n",
       "  </tbody>\n",
       "</table>\n",
       "</div>"
      ],
      "text/plain": [
       "                 0          1          2          3          4          5   \\\n",
       "00:00:00  16.580253  16.955157  15.949089  15.921291  17.766131  15.751545   \n",
       "03:00:00  15.650897  16.252994  15.118905  15.051568  16.992205  14.973248   \n",
       "06:00:00  15.254064  15.748060  14.746570  14.579645  16.401078  14.623936   \n",
       "09:00:00  20.380696  18.930167  19.392411  19.716078  19.785181  19.805649   \n",
       "12:00:00  24.750813  23.085859  23.611550  24.499631  24.449162  24.752476   \n",
       "15:00:00  25.852965  24.317816  24.858336  25.814836  25.782208  26.008472   \n",
       "18:00:00  22.615275  22.034147  21.845597  22.403420  23.322696  22.442110   \n",
       "21:00:00  18.232309  18.437002  17.484597  17.533865  19.381179  17.405356   \n",
       "\n",
       "                 6          7          8          9          10         11  \\\n",
       "00:00:00  16.683249  15.194307  16.928538  18.587653  18.245850  17.441218   \n",
       "03:00:00  16.028100  14.300699  16.478054  17.822568  17.525547  16.581736   \n",
       "06:00:00  15.552962  13.945072  16.211097  17.267193  17.003245  16.140285   \n",
       "09:00:00  18.788878  18.670145  21.615778  20.473517  20.390677  21.151066   \n",
       "12:00:00  22.105544  22.466565  26.069767  24.747205  24.067370  25.931965   \n",
       "15:00:00  22.919373  23.580845  26.194448  25.999431  25.065198  27.242675   \n",
       "18:00:00  21.072393  21.070195  22.259485  23.820570  22.951080  23.876390   \n",
       "21:00:00  17.777800  16.927056  17.844660  20.121832  19.364609  19.070458   \n",
       "\n",
       "                 12         13         14         15         16         17  \n",
       "00:00:00  17.856119  16.966381  18.037449  18.219786  17.361769  19.753331  \n",
       "03:00:00  17.111994  16.435621  17.306846  17.463975  16.551596  18.895598  \n",
       "06:00:00  16.577432  16.165811  16.793257  16.943114  16.266580  18.356371  \n",
       "09:00:00  20.753713  22.091954  20.216150  21.700247  21.355300  20.518839  \n",
       "12:00:00  26.438445  26.434391  24.728297  27.784190  25.701283  24.184023  \n",
       "15:00:00  27.966676  26.044419  25.883124  29.190004  26.722179  25.913117  \n",
       "18:00:00  24.894852  22.525640  23.383550  25.630088  23.358810  24.674856  \n",
       "21:00:00  19.628587  18.056673  19.579112  20.015737  18.866499  21.470768  "
      ]
     },
     "execution_count": 104,
     "metadata": {},
     "output_type": "execute_result"
    }
   ],
   "source": [
    "mean_hourly = df_all_jja.groupby(df_all_jja.index.time).mean()\n",
    "mean_hourly"
   ]
  },
  {
   "cell_type": "code",
   "execution_count": 105,
   "metadata": {},
   "outputs": [
    {
     "data": {
      "image/png": "[encoded data removed]",
      "text/plain": [
       "<Figure size 1296x576 with 1 Axes>"
      ]
     },
     "metadata": {},
     "output_type": "display_data"
    }
   ],
   "source": [
    "mean_hourly.index =  list(map(lambda t: t.hour, mean_hourly.index))\n",
    "mean_hourly.index.name = 'hour'\n",
    "\n",
    "_ = mean_hourly.loc[:, :16].plot(figsize=(18,8), alpha=0.2)\n",
    "_ = plt.plot(mean_hourly.mean(axis=1), '-o')\n",
    "_ = plt.plot(mean_hourly.loc[:, 17], '-o', color='red')\n",
    "_ = plt.legend(labels=list(mean_hourly.columns[:17])+['models_avg']+['obs'], title=\"models&obs\",\n",
    "                    loc=1, fontsize='small', fancybox=True)\n",
    "_ = plt.title(\"Average temperature for 3h time interval. All 16 models and its average.\" )\n",
    "_ = plt.xticks(list(range(0,22,3)))"
   ]
  },
  {
   "cell_type": "markdown",
   "metadata": {},
   "source": [
    "## EXTRAS"
   ]
  },
  {
   "cell_type": "code",
   "execution_count": null,
   "metadata": {},
   "outputs": [],
   "source": [
    "df_obs = load_csv2df('temp_obs_3h_1979_2005_by_h.csv', temp_output_path)\n",
    "df_obs.head()"
   ]
  },
  {
   "cell_type": "code",
   "execution_count": null,
   "metadata": {},
   "outputs": [],
   "source": [
    "df_obs.dtypes"
   ]
  },
  {
   "cell_type": "code",
   "execution_count": null,
   "metadata": {},
   "outputs": [],
   "source": [
    "df_obs = add_season2df(df_obs)\n",
    "cols = df_obs.columns\n",
    "# df_obs['mod_obs'] = 17\n",
    "# df_obs = df_obs[cols.insert(0, 'mod_obs')]\n",
    "# ts_obs = make_timeseries_format(df_obs, ['mod_obs', 'year', 'season', 'month', 'day'],\n",
    "#                            'hour', OBS_NUMBER)\n",
    "ts_obs = make_timeseries_format(df_obs, [ 'year', 'season', 'month', 'day'],\n",
    "                           'hour', OBS_NUMBER)"
   ]
  },
  {
   "cell_type": "code",
   "execution_count": null,
   "metadata": {},
   "outputs": [],
   "source": [
    "ts_obs['year'] = ts_obs['year'].astype(int)\n",
    "\n",
    "ts_obs.dtypes"
   ]
  },
  {
   "cell_type": "code",
   "execution_count": null,
   "metadata": {},
   "outputs": [],
   "source": [
    "# key = ['mod_obs', 'year','season', 'month', 'day', 'hour']\n",
    "key = ['year','season', 'month', 'day', 'hour']\n",
    "ts_obs = ts_obs.set_index(key)\n",
    "# ts_obs.drop('mod_obs', axis=1, inplace=True)\n",
    "ts_obs.head()"
   ]
  },
  {
   "cell_type": "code",
   "execution_count": null,
   "metadata": {},
   "outputs": [],
   "source": [
    "df_models = load_csv2df('temp_models_3h_by_h.csv', models_output_path)\n",
    "# df_models = df_models.rename(columns = {'model':'mod_obs'})\n",
    "# # df_models = df_models.astype({'mod_obs':str})\n",
    "df_models.head()"
   ]
  },
  {
   "cell_type": "code",
   "execution_count": null,
   "metadata": {},
   "outputs": [],
   "source": [
    "ts_models = make_timeseries_format(df_models, ['model', 'year', 'season', 'month', 'day'],\n",
    "                           'hour', 'temp_3h')"
   ]
  },
  {
   "cell_type": "code",
   "execution_count": null,
   "metadata": {},
   "outputs": [],
   "source": [
    "ts_models[ts_models.hour=='model']"
   ]
  },
  {
   "cell_type": "code",
   "execution_count": null,
   "metadata": {},
   "outputs": [],
   "source": [
    "ts_models.head()"
   ]
  },
  {
   "cell_type": "code",
   "execution_count": null,
   "metadata": {},
   "outputs": [],
   "source": [
    "key = ['year', 'season', 'month', 'day', 'hour']\n",
    "df_by_model = ts_models.pivot_table(values='temp_3h', columns='mod_obs', index=key)"
   ]
  },
  {
   "cell_type": "code",
   "execution_count": null,
   "metadata": {},
   "outputs": [],
   "source": [
    "df_by_model.head()"
   ]
  },
  {
   "cell_type": "code",
   "execution_count": null,
   "metadata": {},
   "outputs": [],
   "source": [
    "df_models.head()"
   ]
  },
  {
   "cell_type": "code",
   "execution_count": null,
   "metadata": {},
   "outputs": [],
   "source": [
    "key = ['year','season', 'month', 'day', 'hour']\n",
    "df_all_jja = df_by_model.join(ts_obs,  lsuffix='L', rsuffix='R', how='inner')"
   ]
  },
  {
   "cell_type": "code",
   "execution_count": null,
   "metadata": {},
   "outputs": [],
   "source": [
    "df_all_jja.head()"
   ]
  },
  {
   "cell_type": "code",
   "execution_count": null,
   "metadata": {
    "scrolled": false
   },
   "outputs": [],
   "source": [
    "plt.figure (figsize=(20,10))\n",
    "plt.plot(df_all_jja.reset_index(drop=True)[list(range(0,18))]);"
   ]
  },
  {
   "cell_type": "code",
   "execution_count": null,
   "metadata": {},
   "outputs": [],
   "source": [
    "df = join_obs2models(df_obs, df_models)\n",
    "\n",
    "plt.figure (figsize=(20,10))\n",
    "plt.plot(df[list(range(0,18))]);"
   ]
  },
  {
   "cell_type": "code",
   "execution_count": null,
   "metadata": {},
   "outputs": [],
   "source": [
    "df = join_obs2models(models_file = 'temp_models_3h_by_h.csv', models_path=models_output_path,\n",
    "                     obs_file = 'temp_obs_3h_1979_2005_by_h.csv', obs_path=temp_output_path)\n",
    "plt.figure (figsize=(20,10))\n",
    "plt.plot(df[list(range(0,18))]);"
   ]
  },
  {
   "cell_type": "code",
   "execution_count": null,
   "metadata": {},
   "outputs": [],
   "source": [
    "df.head()"
   ]
  },
  {
   "cell_type": "code",
   "execution_count": null,
   "metadata": {},
   "outputs": [],
   "source": [
    "df = df_models.join(df_obs, left_on=['mod_obs', 'year','season', 'month', 'day'], right_on =['mod_obs', 'year','season', 'month', 'day'], how='inner')\n",
    "# , on = ['mod_obs', 'year','season', 'month', 'day']"
   ]
  },
  {
   "cell_type": "code",
   "execution_count": null,
   "metadata": {},
   "outputs": [],
   "source": [
    "df = pd.merge(df_models, df_obs, left_on=['mod_obs', 'year','season', 'month', 'day'], right_on =['mod_obs', 'year','season', 'month', 'day'], how='inner')\n"
   ]
  },
  {
   "cell_type": "code",
   "execution_count": null,
   "metadata": {},
   "outputs": [],
   "source": [
    "df = join_obs2models(df_obs, df_models)\n",
    "\n",
    "plt.figure (figsize=(20,10))\n",
    "plt.plot(df[list(range(0,18))]);"
   ]
  },
  {
   "cell_type": "code",
   "execution_count": null,
   "metadata": {},
   "outputs": [],
   "source": [
    "df = join_obs2models(models_file = 'temp_models_3h_by_h.csv', models_path=models_output_path,\n",
    "                     obs_file = 'temp_obs_3h_1979_2005_by_h.csv', obs_path=temp_output_path)\n",
    "plt.figure (figsize=(20,10))\n",
    "plt.plot(df[list(range(0,18))]);"
   ]
  },
  {
   "cell_type": "code",
   "execution_count": null,
   "metadata": {},
   "outputs": [],
   "source": [
    "df.head()"
   ]
  },
  {
   "cell_type": "code",
   "execution_count": null,
   "metadata": {},
   "outputs": [],
   "source": [
    "df = df_models.join(df_obs, left_on=['mod_obs', 'year','season', 'month', 'day'], right_on =['mod_obs', 'year','season', 'month', 'day'], how='inner')\n",
    "# , on = ['mod_obs', 'year','season', 'month', 'day']"
   ]
  },
  {
   "cell_type": "code",
   "execution_count": null,
   "metadata": {},
   "outputs": [],
   "source": [
    "df = pd.merge(df_models, df_obs, left_on=['mod_obs', 'year','season', 'month', 'day'], right_on =['mod_obs', 'year','season', 'month', 'day'], how='inner')\n"
   ]
  },
  {
   "cell_type": "code",
   "execution_count": null,
   "metadata": {},
   "outputs": [],
   "source": []
  },
  {
   "cell_type": "code",
   "execution_count": null,
   "metadata": {},
   "outputs": [],
   "source": []
  },
  {
   "cell_type": "markdown",
   "metadata": {},
   "source": [
    "#### Bias"
   ]
  },
  {
   "cell_type": "markdown",
   "metadata": {},
   "source": [
    "#### Bias by hour"
   ]
  },
  {
   "cell_type": "code",
   "execution_count": null,
   "metadata": {},
   "outputs": [],
   "source": [
    "df_bias = metric_by_hour(bias, df_all_jja_jja, MODELS_NUMBERS, OBS_NUMBER)\n",
    "df_bias"
   ]
  },
  {
   "cell_type": "code",
   "execution_count": null,
   "metadata": {
    "scrolled": false
   },
   "outputs": [],
   "source": [
    "plt_metrics_by_hour(df_bias, 'Bias for 16 models by hour')"
   ]
  },
  {
   "cell_type": "markdown",
   "metadata": {},
   "source": [
    "#### Sigma score - Normalized standard deviation measure"
   ]
  },
  {
   "cell_type": "code",
   "execution_count": null,
   "metadata": {},
   "outputs": [],
   "source": [
    "df_sigma = metric_by_hour(sigma_score, df_all_jja_jja, MODELS_NUMBERS, OBS_NUMBER)\n",
    "df_sigma"
   ]
  },
  {
   "cell_type": "code",
   "execution_count": null,
   "metadata": {},
   "outputs": [],
   "source": [
    "plt_metrics_by_hour(df_sigma, 'Sigma score for 16 models by hour')"
   ]
  },
  {
   "cell_type": "code",
   "execution_count": null,
   "metadata": {},
   "outputs": [],
   "source": [
    "df_perkins = metric_by_hour(df_sigma, df_all_jja_jja, MODELS_NUMBERS, OBS_NUMBER)\n",
    "df_perkins"
   ]
  },
  {
   "cell_type": "code",
   "execution_count": null,
   "metadata": {},
   "outputs": [],
   "source": [
    "plt_metrics_by_hour(df_perkins, 'Perkins Skill score for 16 models by hour')"
   ]
  },
  {
   "cell_type": "code",
   "execution_count": null,
   "metadata": {},
   "outputs": [],
   "source": [
    "df_yk = YK_skewness_by_hour(df_all_jja_jja, MODELS_NUMBERS, OBS_NUMBER)\n",
    "df_yk"
   ]
  },
  {
   "cell_type": "code",
   "execution_count": null,
   "metadata": {},
   "outputs": [],
   "source": [
    "plt_metrics_by_hour(df_yk, 'Yule-Kendall skewness for 16 models by hour')"
   ]
  }
 ],
 "metadata": {
  "kernelspec": {
   "display_name": "Python 3",
   "language": "python",
   "name": "python3"
  },
  "language_info": {
   "codemirror_mode": {
    "name": "ipython",
    "version": 3
   },
   "file_extension": ".py",
   "mimetype": "text/x-python",
   "name": "python",
   "nbconvert_exporter": "python",
   "pygments_lexer": "ipython3",
   "version": "3.6.7"
  }
 },
 "nbformat": 4,
 "nbformat_minor": 4
}
