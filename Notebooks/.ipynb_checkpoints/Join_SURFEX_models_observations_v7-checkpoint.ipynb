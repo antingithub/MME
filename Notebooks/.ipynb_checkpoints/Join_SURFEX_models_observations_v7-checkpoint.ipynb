{
 "cells": [
  {
   "cell_type": "markdown",
   "metadata": {},
   "source": [
    "# Join models to Observatiosn\n",
    "* Join SURFEX to Observations"
   ]
  },
  {
   "cell_type": "code",
   "execution_count": 1,
   "metadata": {},
   "outputs": [],
   "source": [
    "# Load auxiliar functions and configurations\n",
    "%run utils_v6.ipynb"
   ]
  },
  {
   "cell_type": "code",
   "execution_count": 2,
   "metadata": {},
   "outputs": [
    {
     "ename": "NameError",
     "evalue": "name 'surfex_output_path' is not defined",
     "output_type": "error",
     "traceback": [
      "\u001b[1;31m---------------------------------------------------------------------------\u001b[0m",
      "\u001b[1;31mNameError\u001b[0m                                 Traceback (most recent call last)",
      "\u001b[1;32m<ipython-input-2-ceeb115e2579>\u001b[0m in \u001b[0;36m<module>\u001b[1;34m()\u001b[0m\n\u001b[0;32m      1\u001b[0m \u001b[1;31m# Configurations\u001b[0m\u001b[1;33m\u001b[0m\u001b[1;33m\u001b[0m\u001b[1;33m\u001b[0m\u001b[0m\n\u001b[1;32m----> 2\u001b[1;33m \u001b[0mprint\u001b[0m\u001b[1;33m(\u001b[0m\u001b[1;34m'surfex_output_path'\u001b[0m\u001b[1;33m,\u001b[0m \u001b[0msurfex_output_path\u001b[0m\u001b[1;33m)\u001b[0m\u001b[1;33m\u001b[0m\u001b[1;33m\u001b[0m\u001b[0m\n\u001b[0m\u001b[0;32m      3\u001b[0m \u001b[0mprint\u001b[0m\u001b[1;33m(\u001b[0m\u001b[1;34m'temp_output_path'\u001b[0m\u001b[1;33m,\u001b[0m \u001b[0mtemp_output_path\u001b[0m\u001b[1;33m)\u001b[0m\u001b[1;33m\u001b[0m\u001b[1;33m\u001b[0m\u001b[0m\n\u001b[0;32m      4\u001b[0m \u001b[0mprint\u001b[0m\u001b[1;33m(\u001b[0m\u001b[1;34m'surfex_dict_raw'\u001b[0m\u001b[1;33m,\u001b[0m \u001b[0msurfex_dict_raw\u001b[0m\u001b[1;33m)\u001b[0m\u001b[1;33m\u001b[0m\u001b[1;33m\u001b[0m\u001b[0m\n",
      "\u001b[1;31mNameError\u001b[0m: name 'surfex_output_path' is not defined"
     ]
    }
   ],
   "source": [
    "# Configurations\n",
    "print('surfex_output_path', surfex_output_path)\n",
    "print('temp_output_path', temp_output_path)"
   ]
  },
  {
   "cell_type": "markdown",
   "metadata": {},
   "source": [
    "#### Load observations"
   ]
  },
  {
   "cell_type": "code",
   "execution_count": null,
   "metadata": {},
   "outputs": [],
   "source": [
    "df_obs_3_jja = load_csv2df('temp_obs_3_jja.csv', temp_output_path, freq_index='3H')\n",
    "\n",
    "# the observations time series is named 17\n",
    "df_obs_3_jja = df_obs_3_jja.rename({'temp':17}, axis=1)\n",
    "df_obs_3_jja.head()"
   ]
  },
  {
   "cell_type": "markdown",
   "metadata": {},
   "source": [
    "#### Load SURFEX Models"
   ]
  },
  {
   "cell_type": "code",
   "execution_count": null,
   "metadata": {},
   "outputs": [],
   "source": [
    "all_models_jja = load_csv2df('temp_SURFEX_1979_2005_jja.csv', surfex_output_path, freq_index='3H')\n",
    "all_models_jja.head()"
   ]
  },
  {
   "cell_type": "markdown",
   "metadata": {},
   "source": [
    "### Joining the models data and observations"
   ]
  },
  {
   "cell_type": "code",
   "execution_count": null,
   "metadata": {},
   "outputs": [],
   "source": [
    "df_all_jja = all_models_jja.join(df_obs_3_jja, on='date', how='inner')\n",
    "df_all_jja.dropna(subset=[17], axis=0, inplace=True)\n",
    "df_all_jja = df_all_jja.asfreq('3H')\n",
    "df_all_jja.head()"
   ]
  },
  {
   "cell_type": "markdown",
   "metadata": {},
   "source": [
    "#### Save and load"
   ]
  },
  {
   "cell_type": "code",
   "execution_count": null,
   "metadata": {},
   "outputs": [],
   "source": [
    "save_df2csv(df_all_jja, 'surfex_join_obs_jja.csv', surfex_output_path, index=True)"
   ]
  },
  {
   "cell_type": "code",
   "execution_count": null,
   "metadata": {},
   "outputs": [],
   "source": [
    "df_all_jja_ = load_csv2df('surfex_join_obs_jja.csv', surfex_output_path, freq_index='3H')\n",
    "assert compare_saved_loaded_df(df_all_jja_, df_all_jja)"
   ]
  },
  {
   "cell_type": "code",
   "execution_count": null,
   "metadata": {},
   "outputs": [],
   "source": [
    "mean_hourly = df_all_jja.groupby(df_all_jja.index.time).mean()\n",
    "mean_hourly"
   ]
  },
  {
   "cell_type": "code",
   "execution_count": null,
   "metadata": {},
   "outputs": [],
   "source": [
    "mean_hourly.index =  list(map(lambda t: t.hour, mean_hourly.index))\n",
    "mean_hourly.index.name = 'hour'\n",
    "\n",
    "_ = mean_hourly.loc[:, list(range(17))].plot(figsize=(18,8), alpha=0.2)\n",
    "_ = plt.plot(mean_hourly.mean(axis=1), '-o')\n",
    "_ = plt.plot(mean_hourly.loc[:, 17], '-o', color='red')\n",
    "_ = plt.legend(labels=list(mean_hourly.columns[:17])+['models_avg']+['obs'], title=\"models&obs\",\n",
    "                    loc=1, fontsize='small', fancybox=True)\n",
    "_ = plt.title(\"JJA: Average temperature for 3h time interval. All 16 SURFEX models and its average.\" )\n",
    "_ = plt.xticks(list(range(0,22,3)))\n",
    "\n",
    "save_plot(plt, 'obs_models_3h_by_h_jja', output_dir = plots_output_path)"
   ]
  },
  {
   "cell_type": "markdown",
   "metadata": {},
   "source": [
    "* It seems that the models have a hard time to simulate the temperature during the periods without the sun (<6h - >18h).\n",
    "* In that period the system's inertia is badly simulated.\n",
    "* When there is sun (>6h - <18h) this active source of heat seems to dominate the physical process and is better considered in the model.\n",
    "* Is this visible for the corresponding periods for the other seasons? In the winter this should happen for a shorter period. "
   ]
  },
  {
   "cell_type": "markdown",
   "metadata": {},
   "source": [
    "### Join all seasons"
   ]
  },
  {
   "cell_type": "markdown",
   "metadata": {},
   "source": [
    "### 'DJF' "
   ]
  },
  {
   "cell_type": "code",
   "execution_count": null,
   "metadata": {},
   "outputs": [],
   "source": [
    "# load observations\n",
    "df_obs_3_djf = load_csv2df('temp_obs_3_djf.csv', temp_output_path, freq_index='3H')\n",
    "df_obs_3_djf = df_obs_3_djf.rename({'temp':17}, axis=1)\n",
    "#load models\n",
    "all_models_djf = load_csv2df('temp_SURFEX_1979_2005_djf.csv', surfex_output_path, freq_index='3H')\n",
    "# join\n",
    "df_all_djf = all_models_djf.join(df_obs_3_djf, on='date', how='inner')\n",
    "df_all_djf.dropna(subset=[17], axis=0, inplace=True)\n",
    "df_all_djf = df_all_djf.asfreq('3H')\n",
    "# save joined\n",
    "save_df2csv(df_all_djf, 'surfex_join_obs_djf.csv', surfex_output_path, index=True)\n",
    "# re-load\n",
    "df_all_djf_ = load_csv2df('surfex_join_obs_djf.csv', surfex_output_path, freq_index='3H')\n",
    "# hourly mean\n",
    "mean_hourly = df_all_djf.groupby(df_all_djf.index.time).mean()\n",
    "mean_hourly.index =  list(map(lambda t: t.hour, mean_hourly.index))\n",
    "mean_hourly.index.name = 'hour'\n",
    "#plot\n",
    "_ = mean_hourly.loc[:, list(range(17))].plot(figsize=(18,8), alpha=0.2)\n",
    "_ = plt.plot(mean_hourly.mean(axis=1), '-o')\n",
    "_ = plt.plot(mean_hourly.loc[:, 17], '-o', color='red')\n",
    "_ = plt.legend(labels=list(mean_hourly.columns[:17])+['models_avg']+['obs'], title=\"models&obs\",\n",
    "                    loc=1, fontsize='small', fancybox=True)\n",
    "_ = plt.title(\"DJF: Average temperature for 3h time interval. All 16 SURFEX models and its average.\" )\n",
    "_ = plt.xticks(list(range(0,22,3)))\n",
    "\n",
    "save_plot(plt, 'obs_models_3h_by_h_djf', output_dir = plots_output_path)"
   ]
  },
  {
   "cell_type": "markdown",
   "metadata": {},
   "source": [
    "### 'MAM'"
   ]
  },
  {
   "cell_type": "code",
   "execution_count": null,
   "metadata": {},
   "outputs": [],
   "source": [
    "# load observations\n",
    "df_obs_3_mam = load_csv2df('temp_obs_3_mam.csv', temp_output_path, freq_index='3H')\n",
    "df_obs_3_mam = df_obs_3_mam.rename({'temp':17}, axis=1)\n",
    "#load models\n",
    "all_models_mam = load_csv2df('temp_SURFEX_1979_2005_mam.csv', surfex_output_path, freq_index='3H')\n",
    "# join\n",
    "df_all_mam = all_models_mam.join(df_obs_3_mam, on='date', how='inner')\n",
    "df_all_mam.dropna(subset=[17], axis=0, inplace=True)\n",
    "df_all_mam = df_all_mam.asfreq('3H')\n",
    "# save joined\n",
    "save_df2csv(df_all_mam, 'surfex_join_obs_mam.csv', surfex_output_path, index=True)\n",
    "# re-load\n",
    "df_all_mam_ = load_csv2df('surfex_join_obs_mam.csv', surfex_output_path, freq_index='3H')\n",
    "# hourly mean\n",
    "mean_hourly = df_all_mam.groupby(df_all_mam.index.time).mean()\n",
    "mean_hourly.index =  list(map(lambda t: t.hour, mean_hourly.index))\n",
    "mean_hourly.index.name = 'hour'\n",
    "#plot\n",
    "_ = mean_hourly.loc[:, list(range(17))].plot(figsize=(18,8), alpha=0.2)\n",
    "_ = plt.plot(mean_hourly.mean(axis=1), '-o')\n",
    "_ = plt.plot(mean_hourly.loc[:, 17], '-o', color='red')\n",
    "_ = plt.legend(labels=list(mean_hourly.columns[:17])+['models_avg']+['obs'], title=\"models&obs\",\n",
    "                    loc=1, fontsize='small', fancybox=True)\n",
    "_ = plt.title(\"MAM: Average temperature for 3h time interval. All 16 SURFEX models and its average.\" )\n",
    "_ = plt.xticks(list(range(0,22,3)))\n",
    "\n",
    "save_plot(plt, 'obs_models_3h_by_h_mam', output_dir = plots_output_path)"
   ]
  },
  {
   "cell_type": "markdown",
   "metadata": {},
   "source": [
    "### 'SON' "
   ]
  },
  {
   "cell_type": "code",
   "execution_count": null,
   "metadata": {},
   "outputs": [],
   "source": [
    "# load observations\n",
    "df_obs_3_son = load_csv2df('temp_obs_3_son.csv', temp_output_path, freq_index='3H')\n",
    "df_obs_3_son = df_obs_3_son.rename({'temp':17}, axis=1)\n",
    "#load models\n",
    "all_models_son = load_csv2df('temp_SURFEX_1979_2005_son.csv', surfex_output_path, freq_index='3H')\n",
    "# join\n",
    "df_all_son = all_models_son.join(df_obs_3_son, on='date', how='inner')\n",
    "df_all_son.dropna(subset=[17], axis=0, inplace=True)\n",
    "df_all_son = df_all_son.asfreq('3H')\n",
    "# save joined\n",
    "save_df2csv(df_all_son, 'surfex_join_obs_son.csv', surfex_output_path, index=True)\n",
    "# re-load\n",
    "df_all_son_ = load_csv2df('surfex_join_obs_son.csv', surfex_output_path, freq_index='3H')\n",
    "# hourly mean\n",
    "mean_hourly = df_all_son.groupby(df_all_son.index.time).mean()\n",
    "mean_hourly.index =  list(map(lambda t: t.hour, mean_hourly.index))\n",
    "mean_hourly.index.name = 'hour'\n",
    "#plot\n",
    "_ = mean_hourly.loc[:, list(range(17))].plot(figsize=(18,8), alpha=0.2)\n",
    "_ = plt.plot(mean_hourly.mean(axis=1), '-o')\n",
    "_ = plt.plot(mean_hourly.loc[:, 17], '-o', color='red')\n",
    "_ = plt.legend(labels=list(mean_hourly.columns[:17])+['models_avg']+['obs'], title=\"models&obs\",\n",
    "                    loc=1, fontsize='small', fancybox=True)\n",
    "_ = plt.title(\"SON: Average temperature for 3h time interval. All 16 SURFEX models and its average.\" )\n",
    "_ = plt.xticks(list(range(0,22,3)))\n",
    "\n",
    "save_plot(plt, 'obs_models_3h_by_h_son', output_dir = plots_output_path)"
   ]
  },
  {
   "cell_type": "code",
   "execution_count": null,
   "metadata": {},
   "outputs": [],
   "source": []
  }
 ],
 "metadata": {
  "kernelspec": {
   "display_name": "Python 3",
   "language": "python",
   "name": "python3"
  },
  "language_info": {
   "codemirror_mode": {
    "name": "ipython",
    "version": 3
   },
   "file_extension": ".py",
   "mimetype": "text/x-python",
   "name": "python",
   "nbconvert_exporter": "python",
   "pygments_lexer": "ipython3",
   "version": "3.6.7"
  }
 },
 "nbformat": 4,
 "nbformat_minor": 4
}
