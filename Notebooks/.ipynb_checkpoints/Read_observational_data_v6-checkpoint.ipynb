{
 "cells": [
  {
   "cell_type": "markdown",
   "metadata": {},
   "source": [
    "# Get observations data for Lisbon\n",
    "- import data from excel files\n",
    "- clean data\n",
    "- plot time series\n",
    "- visualize time series\n",
    "- some preliminary stats"
   ]
  },
  {
   "cell_type": "code",
   "execution_count": 1,
   "metadata": {},
   "outputs": [
    {
     "ename": "NameError",
     "evalue": "name 'select_models_folders' is not defined",
     "output_type": "error",
     "traceback": [
      "\u001b[1;31m---------------------------------------------------------------------------\u001b[0m",
      "\u001b[1;31mNameError\u001b[0m                                 Traceback (most recent call last)",
      "\u001b[1;32mE:\\MeGa_sYnc\\Data_Science_FCUL\\Thesis\\Ensemble_ML\\Notebooks\\utils_v6.ipynb\u001b[0m in \u001b[0;36m<module>\u001b[1;34m()\u001b[0m\n\u001b[1;32m----> 1\u001b[1;33m \u001b[0mfolders\u001b[0m\u001b[1;33m,\u001b[0m \u001b[0mnmodels\u001b[0m \u001b[1;33m=\u001b[0m \u001b[0mselect_models_folders\u001b[0m\u001b[1;33m(\u001b[0m\u001b[1;32mNone\u001b[0m\u001b[1;33m)\u001b[0m\u001b[1;33m\u001b[0m\u001b[1;33m\u001b[0m\u001b[0m\n\u001b[0m",
      "\u001b[1;31mNameError\u001b[0m: name 'select_models_folders' is not defined"
     ]
    }
   ],
   "source": [
    "# Load auxiliar functions and configurations\n",
    "%run utils_v6.ipynb"
   ]
  },
  {
   "cell_type": "code",
   "execution_count": 2,
   "metadata": {},
   "outputs": [
    {
     "name": "stdout",
     "output_type": "stream",
     "text": [
      "Observational datasets: \n",
      "..\\data\\observations\\temp\n",
      "..\\data\\observations\\temp\\output\n",
      "..\\data\\observations\\prec\n",
      "..\\data\\observations\\prec\\output\n",
      "seasons_dict  {'DJF': [12, 1, 2], 'MAM': [3, 4, 5], 'JJA': [6, 7, 8], 'SON': [9, 10, 11]}\n"
     ]
    }
   ],
   "source": [
    "# Configurations\n",
    "\n",
    "print('Observational datasets: ', temp_dataset_path, temp_output_path, prec_dataset_path, prec_output_path, sep='\\n')\n",
    "\n",
    "print('seasons_dict ', seasons_dict)"
   ]
  },
  {
   "cell_type": "code",
   "execution_count": null,
   "metadata": {
    "scrolled": false
   },
   "outputs": [],
   "source": [
    "prec_dict_files = get_xls_files(variable = 'prec', obs_path = prec_dataset_path)\n",
    "prec_years = sorted([year[1] for year in prec_dict_files.values()])\n",
    "#prec_dict_files, prec_years, \n",
    "len(prec_years)"
   ]
  },
  {
   "cell_type": "code",
   "execution_count": null,
   "metadata": {
    "scrolled": false
   },
   "outputs": [],
   "source": [
    "temp_dict_files = get_xls_files(variable = 'temp', obs_path = temp_dataset_path)\n",
    "temp_years = sorted([year[1] for year in temp_dict_files.values()])\n",
    "#temp_dict_files, \n",
    "len(temp_years)"
   ]
  },
  {
   "cell_type": "markdown",
   "metadata": {},
   "source": [
    "## Get raw data from excel files"
   ]
  },
  {
   "cell_type": "markdown",
   "metadata": {},
   "source": [
    "### Temperature observations only"
   ]
  },
  {
   "cell_type": "code",
   "execution_count": null,
   "metadata": {
    "scrolled": true
   },
   "outputs": [],
   "source": [
    "df_raw = get_all_obs_data(temp_dict_files, 'temp', out_dir = temp_output_path)"
   ]
  },
  {
   "cell_type": "code",
   "execution_count": null,
   "metadata": {},
   "outputs": [],
   "source": [
    "df_raw.head()"
   ]
  },
  {
   "cell_type": "markdown",
   "metadata": {},
   "source": [
    "### Preliminary stats "
   ]
  },
  {
   "cell_type": "code",
   "execution_count": null,
   "metadata": {},
   "outputs": [],
   "source": [
    "df_raw.describe()"
   ]
  },
  {
   "cell_type": "markdown",
   "metadata": {},
   "source": [
    "#### Fix 24h column: the 24h column belongs in fact to the day after and it is the 0h column"
   ]
  },
  {
   "cell_type": "code",
   "execution_count": null,
   "metadata": {},
   "outputs": [],
   "source": [
    "df_raw[0] = df_raw[24].shift()\n",
    "df_raw.drop(24, axis=1, inplace=True)\n",
    "df_raw = df_raw[df_raw.columns[:-1].insert(3,0)]"
   ]
  },
  {
   "cell_type": "code",
   "execution_count": null,
   "metadata": {},
   "outputs": [],
   "source": [
    "df_raw.head()"
   ]
  },
  {
   "cell_type": "markdown",
   "metadata": {},
   "source": [
    "### Preliminary data visualization"
   ]
  },
  {
   "cell_type": "code",
   "execution_count": null,
   "metadata": {},
   "outputs": [],
   "source": [
    "# checking for major problems with data\n",
    "df_temp = df_raw.iloc[:, 3:]\n",
    "_ = plt.figure(figsize=(18,8))\n",
    "_ = plt.plot(df_temp)\n",
    "_ = plt.legend(df_temp.columns)"
   ]
  },
  {
   "cell_type": "markdown",
   "metadata": {},
   "source": [
    "### Save observations dataframe - hourly columns"
   ]
  },
  {
   "cell_type": "code",
   "execution_count": null,
   "metadata": {},
   "outputs": [],
   "source": [
    "save_df2csv(df_raw, 'temp_obs_1979_2005_raw.csv', temp_output_path)"
   ]
  },
  {
   "cell_type": "markdown",
   "metadata": {},
   "source": [
    "### Load dataframe"
   ]
  },
  {
   "cell_type": "code",
   "execution_count": null,
   "metadata": {},
   "outputs": [],
   "source": [
    "df_raw_ = load_csv2df('temp_obs_1979_2005_raw.csv', temp_output_path)\n",
    "assert compare_saved_loaded_df(df_raw_, df_raw)"
   ]
  },
  {
   "cell_type": "markdown",
   "metadata": {},
   "source": [
    "### Build Time Series format"
   ]
  },
  {
   "cell_type": "code",
   "execution_count": null,
   "metadata": {},
   "outputs": [],
   "source": [
    "df_obs = obs_ts_format(df_raw, ['year', 'month', 'day'], 'hour', 'temp', freq_index='H')\n",
    "df_obs.head()"
   ]
  },
  {
   "cell_type": "markdown",
   "metadata": {},
   "source": [
    "### Save all observations time series to file"
   ]
  },
  {
   "cell_type": "code",
   "execution_count": null,
   "metadata": {},
   "outputs": [],
   "source": [
    "save_df2csv(df_obs, 'temp_obs_1979_2005.csv', temp_output_path, index=True)"
   ]
  },
  {
   "cell_type": "markdown",
   "metadata": {},
   "source": [
    "### Load dataframe"
   ]
  },
  {
   "cell_type": "code",
   "execution_count": null,
   "metadata": {},
   "outputs": [],
   "source": [
    "df_obs_ = load_csv2df('temp_obs_1979_2005.csv', temp_output_path, freq_index='1H')\n",
    "# exclude the 'season' column\n",
    "assert compare_saved_loaded_df(df_obs_[[c for c in df_obs_ if c != 'season' ]], df_obs[[c for c in df_obs_ if c != 'season' ]])"
   ]
  },
  {
   "cell_type": "markdown",
   "metadata": {},
   "source": [
    "### Average temperature observations for each hour"
   ]
  },
  {
   "cell_type": "code",
   "execution_count": null,
   "metadata": {},
   "outputs": [],
   "source": [
    "mean_hourly = df_obs.groupby(df_obs.index.time).mean()\n",
    "mean_hourly.index =  list(map(lambda t: t.hour, mean_hourly.index))\n",
    "mean_hourly.index.name = 'hour'\n",
    "\n",
    "_ = mean_hourly.plot(figsize=(18,8), style='-o')\n",
    "_ = plt.plot(mean_hourly.mean(axis=1))\n",
    "_ = plt.title(\"Average temperature observations for each hour.\" )\n",
    "_ = plt.xticks(list(range(24)))\n",
    "\n",
    "save_plot(plt, 'obs_1h_avg_by_hour', output_dir = plots_output_path)"
   ]
  },
  {
   "cell_type": "markdown",
   "metadata": {},
   "source": [
    "## 3h aggregation"
   ]
  },
  {
   "cell_type": "code",
   "execution_count": null,
   "metadata": {},
   "outputs": [],
   "source": [
    "df_obs_3 = df_obs.resample('3H', label='right', base=1, loffset ='-1H').mean()\n",
    "df_obs_3 = df_obs_3.asfreq('3H')                       # TODO - check the 'how' or 'method'\n",
    "df_obs_3.head()          "
   ]
  },
  {
   "cell_type": "code",
   "execution_count": null,
   "metadata": {
    "scrolled": true
   },
   "outputs": [],
   "source": [
    "df_obs_3.plot(figsize=(18,8))\n",
    "plt.tight_layout()\n",
    "plt.show();"
   ]
  },
  {
   "cell_type": "code",
   "execution_count": null,
   "metadata": {},
   "outputs": [],
   "source": [
    "mean_hourly_3 = df_obs_3.groupby(df_obs_3.index.time).mean()\n",
    "mean_hourly_3.index =  list(map(lambda t: t.hour, mean_hourly_3.index))\n",
    "mean_hourly_3.index.name = 'hour'\n",
    "\n",
    "_ = mean_hourly_3.plot(figsize=(18,8), style='-o')\n",
    "_ = plt.title(\"Average temperature observations for each 3h time interval (averaged).\" )\n",
    "_ = plt.xticks(list(range(0,22,3)))\n",
    "\n",
    "save_plot(plt, 'obs_3h_avg_by_hour', output_dir = plots_output_path)"
   ]
  },
  {
   "cell_type": "markdown",
   "metadata": {},
   "source": [
    "### Filter for 'JJA'"
   ]
  },
  {
   "cell_type": "code",
   "execution_count": null,
   "metadata": {},
   "outputs": [],
   "source": [
    "df_obs_3_jja = filter_ts_by_season(df_obs_3, 'JJA')\n",
    "df_obs_3_jja = df_obs_3_jja.asfreq('3H')\n",
    "df_obs_3_jja.head()"
   ]
  },
  {
   "cell_type": "code",
   "execution_count": null,
   "metadata": {},
   "outputs": [],
   "source": [
    "save_df2csv(df_obs_3_jja, 'temp_obs_3_jja.csv', temp_output_path, index=True)"
   ]
  },
  {
   "cell_type": "code",
   "execution_count": null,
   "metadata": {},
   "outputs": [],
   "source": [
    "df_obs_3_jja_ = load_csv2df('temp_obs_3_jja.csv', temp_output_path, freq_index='3H')\n",
    "assert compare_saved_loaded_df(df_obs_3_jja_, df_obs_3_jja)"
   ]
  },
  {
   "cell_type": "markdown",
   "metadata": {},
   "source": [
    "#### ONLY 'JJA': Temperature observations for each 3h time interval (averaged)."
   ]
  },
  {
   "cell_type": "code",
   "execution_count": null,
   "metadata": {},
   "outputs": [],
   "source": [
    "_ = df_obs_3_jja['1998'].plot(figsize=(18,8))\n",
    "_ = plt.tight_layout()\n",
    "_ = plt.title(\"ONLY 'JJA' and 1998: Temperature observations for each 3h time interval (averaged).\")\n",
    "_ = plt.show();"
   ]
  },
  {
   "cell_type": "code",
   "execution_count": null,
   "metadata": {},
   "outputs": [],
   "source": [
    "df_obs_3_jja = filter_ts_by_season(df_obs_3, 'JJA')\n",
    "mean_hourly_jja = df_obs_3_jja.groupby(df_obs_3_jja.index.time).mean()\n",
    "mean_hourly_jja.index =  list(map(lambda t: t.hour, mean_hourly_jja.index))\n",
    "mean_hourly_jja.index.name = 'hour'\n",
    "\n",
    "_ = mean_hourly_jja.plot(figsize=(18,8), style='-o')\n",
    "_ = plt.title(\"ONLY 'JJA': Average temperature observations for each 3h time interval (averaged).\" )\n",
    "_ = plt.xticks(list(range(0,22,3)))\n",
    "\n",
    "save_plot(plt, 'obs_3h_avg_by_h_jja', output_dir = plots_output_path)"
   ]
  },
  {
   "cell_type": "markdown",
   "metadata": {},
   "source": [
    "#### All seasons: Average temperature observations for each 3h time interval (averaged)."
   ]
  },
  {
   "cell_type": "code",
   "execution_count": null,
   "metadata": {},
   "outputs": [],
   "source": [
    "seas_list= []\n",
    "for season in ['DJF','MAM','JJA','SON']:\n",
    "    df_temp = filter_ts_by_season(df_obs_3, season)\n",
    "    df = df_temp.groupby(df_temp.index.time).mean()\n",
    "    df = df.rename({'temp':season}, axis=1)\n",
    "    seas_list.append(df)\n",
    "\n",
    "res=pd.concat(seas_list, axis=1)\n",
    "res.index.name = 'hour'\n",
    "_ = res.plot(figsize=(18,8), style='-o')\n",
    "_ = plt.title(\"All seasons: Average temperature observations for each 3h time interval (averaged).\" )\n",
    "_ = plt.xticks(res.index);\n",
    "\n",
    "save_plot(plt, 'obs_3h_avg_by_h_all_seasons', output_dir = plots_output_path)"
   ]
  },
  {
   "cell_type": "markdown",
   "metadata": {},
   "source": [
    "### Boxplots"
   ]
  },
  {
   "cell_type": "code",
   "execution_count": null,
   "metadata": {},
   "outputs": [],
   "source": [
    "seas_list= []\n",
    "for season in ['DJF','MAM','JJA','SON']:\n",
    "    df_temp = filter_ts_by_season(df_obs_3, season)\n",
    "    df_temp.rename({'temp':season}, axis=1, inplace=True)\n",
    "    seas_list.append(df_temp)\n",
    "    df_temp.head()\n",
    "\n",
    "df_seasons = pd.concat(seas_list, axis=1)\n",
    "df_seasons['hour'] = df_seasons.index.hour\n",
    "df_seasons.reset_index(drop=True, inplace=True)\n",
    "\n",
    "# df_seasons.head()"
   ]
  },
  {
   "cell_type": "code",
   "execution_count": null,
   "metadata": {},
   "outputs": [],
   "source": [
    "_ = df_seasons.boxplot(by='hour', figsize=(18, 8))\n",
    "plt.grid(True)\n",
    "\n",
    "save_plot(plt, 'obs_3h_avg_by_h_boxplot_all_seasons', output_dir = plots_output_path)"
   ]
  },
  {
   "cell_type": "markdown",
   "metadata": {},
   "source": [
    "### Get observations for all seasons "
   ]
  },
  {
   "cell_type": "markdown",
   "metadata": {},
   "source": [
    "### 'DJF'"
   ]
  },
  {
   "cell_type": "code",
   "execution_count": null,
   "metadata": {},
   "outputs": [],
   "source": [
    "df_obs_3_djf = filter_ts_by_season(df_obs_3, 'DJF')\n",
    "df_obs_3_djf = df_obs_3_djf.asfreq('3H')\n",
    "df_obs_3_djf.head()\n",
    "\n",
    "save_df2csv(df_obs_3_djf, 'temp_obs_3_djf.csv', temp_output_path, index=True)\n",
    "df_obs_3_djf_ = load_csv2df('temp_obs_3_djf.csv', temp_output_path, freq_index='3H')\n",
    "assert compare_saved_loaded_df(df_obs_3_djf_, df_obs_3_djf)\n",
    "\n",
    "save_plot(plt, 'obs_3h_avg_by_h_djf', output_dir = plots_output_path)"
   ]
  },
  {
   "cell_type": "markdown",
   "metadata": {},
   "source": [
    "### 'MAM'"
   ]
  },
  {
   "cell_type": "code",
   "execution_count": null,
   "metadata": {},
   "outputs": [],
   "source": [
    "df_obs_3_mam = filter_ts_by_season(df_obs_3, 'MAM')\n",
    "df_obs_3_mam = df_obs_3_mam.asfreq('3H')\n",
    "df_obs_3_mam.head()\n",
    "\n",
    "save_df2csv(df_obs_3_mam, 'temp_obs_3_mam.csv', temp_output_path, index=True)\n",
    "df_obs_3_mam_ = load_csv2df('temp_obs_3_mam.csv', temp_output_path, freq_index='3H')\n",
    "assert compare_saved_loaded_df(df_obs_3_mam_, df_obs_3_mam)\n",
    "\n",
    "save_plot(plt, 'obs_3h_avg_by_h_mam', output_dir = plots_output_path)"
   ]
  },
  {
   "cell_type": "markdown",
   "metadata": {},
   "source": [
    "### 'SON'"
   ]
  },
  {
   "cell_type": "code",
   "execution_count": null,
   "metadata": {},
   "outputs": [],
   "source": [
    "df_obs_3_son = filter_ts_by_season(df_obs_3, 'SON')\n",
    "df_obs_3_son = df_obs_3_son.asfreq('3H')\n",
    "df_obs_3_son.head()\n",
    "\n",
    "save_df2csv(df_obs_3_son, 'temp_obs_3_son.csv', temp_output_path, index=True)\n",
    "df_obs_3_son_ = load_csv2df('temp_obs_3_son.csv', temp_output_path, freq_index='3H')\n",
    "assert compare_saved_loaded_df(df_obs_3_son_, df_obs_3_son)\n",
    "\n",
    "save_plot(plt, 'obs_3h_avg_by_h_son', output_dir = plots_output_path)"
   ]
  },
  {
   "cell_type": "markdown",
   "metadata": {},
   "source": [
    "###  Percentiles"
   ]
  },
  {
   "cell_type": "markdown",
   "metadata": {},
   "source": [
    "#### by hour"
   ]
  },
  {
   "cell_type": "code",
   "execution_count": null,
   "metadata": {},
   "outputs": [],
   "source": [
    "# perc_hour = percentiles_table(df_obs_3_jja, 'temp_3h', by = 'hour', percentiles = [1,5,25,50,75,95,99])\n",
    "# perc_hour.plot(figsize=(16, 10))\n",
    "# plt.legend(loc='upper right');\n",
    "# perc_hour"
   ]
  },
  {
   "cell_type": "code",
   "execution_count": null,
   "metadata": {},
   "outputs": [],
   "source": [
    "# perc_hour = percentiles_table(df_obs_3_jja, 'temp_3h', by = 'year', percentiles = [1,5,25,50,75,95,99])\n",
    "# perc_hour.plot(figsize=(16, 10))\n",
    "# plt.legend(loc='upper right');\n",
    "# perc_hour"
   ]
  },
  {
   "cell_type": "code",
   "execution_count": null,
   "metadata": {},
   "outputs": [],
   "source": []
  },
  {
   "cell_type": "code",
   "execution_count": null,
   "metadata": {},
   "outputs": [],
   "source": []
  },
  {
   "cell_type": "code",
   "execution_count": null,
   "metadata": {},
   "outputs": [],
   "source": []
  },
  {
   "cell_type": "code",
   "execution_count": null,
   "metadata": {},
   "outputs": [],
   "source": []
  },
  {
   "cell_type": "code",
   "execution_count": null,
   "metadata": {},
   "outputs": [],
   "source": []
  },
  {
   "cell_type": "code",
   "execution_count": null,
   "metadata": {},
   "outputs": [],
   "source": []
  },
  {
   "cell_type": "code",
   "execution_count": null,
   "metadata": {},
   "outputs": [],
   "source": []
  },
  {
   "cell_type": "markdown",
   "metadata": {},
   "source": [
    "## BITS"
   ]
  },
  {
   "cell_type": "markdown",
   "metadata": {},
   "source": [
    "##### check why 2 dataframes are different "
   ]
  },
  {
   "cell_type": "code",
   "execution_count": null,
   "metadata": {},
   "outputs": [],
   "source": [
    "assert df_raw_.index.equals(df_raw.index)\n",
    "assert df_raw_.columns.equals(df_raw.columns)\n",
    "# assert np.isin(df_raw_.values, df_raw.values).all()\n",
    "# assert df_raw_.equals(df_raw)    # something is wrong! Not the data types, not the indexes\n",
    "\n",
    "# NaN == NaN is False\n",
    "df_raw_.loc[ ~(df_raw == df_raw_).all(axis=1),:]\n",
    "df_raw.loc[ ~(df_raw == df_raw_).all(axis=1),:]\n",
    "\n",
    "# for values\n",
    "d = df_raw-df_raw_\n",
    "d[d.any(axis=1)]\n",
    "\n",
    "np.isclose(all_models.values, all_models_.values).all()"
   ]
  },
  {
   "cell_type": "markdown",
   "metadata": {},
   "source": [
    "#### Check how resamplig is working for the time series"
   ]
  },
  {
   "cell_type": "code",
   "execution_count": null,
   "metadata": {},
   "outputs": [],
   "source": [
    "df_obs_art = df_obs[['temp']].copy()\n",
    "\n",
    "df_obs_art['ctrl'] = list(range(1,df_obs_art.shape[0]+1))\n",
    "\n",
    "#df_obs_art.iloc[0,1] = df_obs_art.iloc[0,0]\n",
    "df_obs_art['acc'] = df_obs_art['ctrl'].cumsum(skipna=True)\n",
    "df_obs_art.head(10)"
   ]
  },
  {
   "cell_type": "code",
   "execution_count": null,
   "metadata": {},
   "outputs": [],
   "source": [
    "# df_obs_art_3 = df_obs_art.resample('3H', label='right', base=0).sum()\n",
    "df_obs_art_3 = df_obs_art.resample('3H', label='right', base=1, loffset ='-1H').sum()\n",
    "df_obs_art_3.head(10)"
   ]
  },
  {
   "cell_type": "code",
   "execution_count": null,
   "metadata": {},
   "outputs": [],
   "source": [
    "df_obs_art_3.tail(10)"
   ]
  },
  {
   "cell_type": "code",
   "execution_count": null,
   "metadata": {},
   "outputs": [],
   "source": []
  }
 ],
 "metadata": {
  "kernelspec": {
   "display_name": "Python 3",
   "language": "python",
   "name": "python3"
  },
  "language_info": {
   "codemirror_mode": {
    "name": "ipython",
    "version": 3
   },
   "file_extension": ".py",
   "mimetype": "text/x-python",
   "name": "python",
   "nbconvert_exporter": "python",
   "pygments_lexer": "ipython3",
   "version": "3.6.7"
  }
 },
 "nbformat": 4,
 "nbformat_minor": 4
}
