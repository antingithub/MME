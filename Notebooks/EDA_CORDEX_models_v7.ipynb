{
 "cells": [
  {
   "cell_type": "markdown",
   "metadata": {},
   "source": [
    "# ..."
   ]
  },
  {
   "cell_type": "code",
   "execution_count": null,
   "metadata": {},
   "outputs": [],
   "source": []
  },
  {
   "cell_type": "code",
   "execution_count": 1,
   "metadata": {},
   "outputs": [],
   "source": [
    "# Load auxiliar functions and configurations\n",
    "%run utils_v4.ipynb"
   ]
  },
  {
   "cell_type": "code",
   "execution_count": 2,
   "metadata": {},
   "outputs": [],
   "source": [
    "from sklearn.neighbors import KernelDensity"
   ]
  },
  {
   "cell_type": "code",
   "execution_count": 1,
   "metadata": {},
   "outputs": [
    {
     "ename": "NameError",
     "evalue": "name 'models_dataset_path' is not defined",
     "output_type": "error",
     "traceback": [
      "\u001b[1;31m---------------------------------------------------------------------------\u001b[0m",
      "\u001b[1;31mNameError\u001b[0m                                 Traceback (most recent call last)",
      "\u001b[1;32m<ipython-input-1-b170284b3195>\u001b[0m in \u001b[0;36m<module>\u001b[1;34m()\u001b[0m\n\u001b[0;32m      1\u001b[0m \u001b[1;31m# Configurations\u001b[0m\u001b[1;33m\u001b[0m\u001b[1;33m\u001b[0m\u001b[1;33m\u001b[0m\u001b[0m\n\u001b[0;32m      2\u001b[0m \u001b[1;33m\u001b[0m\u001b[0m\n\u001b[1;32m----> 3\u001b[1;33m \u001b[0mprint\u001b[0m\u001b[1;33m(\u001b[0m\u001b[1;34m'models_dataset_path'\u001b[0m\u001b[1;33m,\u001b[0m \u001b[0mmodels_dataset_path\u001b[0m\u001b[1;33m,\u001b[0m \u001b[0msep\u001b[0m\u001b[1;33m=\u001b[0m\u001b[1;34m'\\t'\u001b[0m\u001b[1;33m)\u001b[0m\u001b[1;33m\u001b[0m\u001b[1;33m\u001b[0m\u001b[0m\n\u001b[0m\u001b[0;32m      4\u001b[0m \u001b[0mprint\u001b[0m\u001b[1;33m(\u001b[0m\u001b[1;34m'models_output_path'\u001b[0m\u001b[1;33m,\u001b[0m \u001b[0mmodels_output_path\u001b[0m\u001b[1;33m,\u001b[0m \u001b[0msep\u001b[0m\u001b[1;33m=\u001b[0m\u001b[1;34m'\\t'\u001b[0m\u001b[1;33m)\u001b[0m\u001b[1;33m\u001b[0m\u001b[1;33m\u001b[0m\u001b[0m\n\u001b[0;32m      5\u001b[0m \u001b[1;33m\u001b[0m\u001b[0m\n",
      "\u001b[1;31mNameError\u001b[0m: name 'models_dataset_path' is not defined"
     ]
    }
   ],
   "source": [
    "# Configurations\n",
    "\n",
    "print('models_dataset_path', models_dataset_path, sep='\\t')\n",
    "print('models_output_path', models_output_path, sep='\\t')\n",
    "\n",
    "print('seasons_dict', *seasons_dict.items(), sep='\\n\\t')\n",
    "print('models_start_year\\t', models_start_year)\n",
    "print('models_hour_interval\\t ',models_hour_interval)\n",
    "print('models_temp_filename\\t', models_temp_filename)"
   ]
  },
  {
   "cell_type": "code",
   "execution_count": 4,
   "metadata": {},
   "outputs": [
    {
     "data": {
      "text/plain": [
       "(   year season  month  day          0          3          6          9  \\\n",
       " 0  1971    DJF      1    1        NaN  11.573877  11.497919  11.607233   \n",
       " 1  1971    DJF      1    2  11.958276  11.939844  11.485132  11.626123   \n",
       " 2  1971    DJF      1    3  11.544519   8.921289  10.041803  11.729303   \n",
       " 3  1971    DJF      1    4   9.212579   9.577661   8.420038   7.210016   \n",
       " 4  1971    DJF      1    5   5.736566   4.142877   3.907098   4.405695   \n",
       " \n",
       "           12         15         18         21  \n",
       " 0  12.477899  12.646783  12.173059  12.071863  \n",
       " 1  13.270898  13.209802  12.008325  11.341425  \n",
       " 2  14.040796  14.472437  11.233606  11.131281  \n",
       " 3   9.850305  11.528467   8.002100   5.873376  \n",
       " 4   8.222101  11.461633   7.662775   5.234552  , (12784, 12))"
      ]
     },
     "execution_count": 4,
     "metadata": {},
     "output_type": "execute_result"
    }
   ],
   "source": [
    "all_models = get_data_models()\n",
    "\n",
    "df_model = all_models[0]\n",
    "df_model.head(), df_model.shape"
   ]
  },
  {
   "cell_type": "markdown",
   "metadata": {},
   "source": [
    "#### Filter list of models by 'JJA' season"
   ]
  },
  {
   "cell_type": "code",
   "execution_count": 5,
   "metadata": {},
   "outputs": [],
   "source": [
    "# all_models_jja = list(map(partial(filter_df_by_season, season = 'JJA'), all_models))"
   ]
  },
  {
   "cell_type": "code",
   "execution_count": 6,
   "metadata": {},
   "outputs": [],
   "source": [
    "# all_models_jja[0].head(), all_models_jja[0].shape"
   ]
  },
  {
   "cell_type": "markdown",
   "metadata": {},
   "source": [
    "### Build a dataframe with all models results"
   ]
  },
  {
   "cell_type": "code",
   "execution_count": 7,
   "metadata": {},
   "outputs": [
    {
     "data": {
      "text/plain": [
       "(217328, 13)"
      ]
     },
     "execution_count": 7,
     "metadata": {},
     "output_type": "execute_result"
    }
   ],
   "source": [
    "df_models = df_all_models(all_models)\n",
    "df_models.shape"
   ]
  },
  {
   "cell_type": "markdown",
   "metadata": {},
   "source": [
    "### Save to dataframe"
   ]
  },
  {
   "cell_type": "code",
   "execution_count": 8,
   "metadata": {},
   "outputs": [],
   "source": [
    "# save_df2csv(df_models, 'temp_models_3h_by_h', models_output_path)"
   ]
  },
  {
   "cell_type": "code",
   "execution_count": 9,
   "metadata": {},
   "outputs": [
    {
     "data": {
      "text/html": [
       "<div>\n",
       "<style scoped>\n",
       "    .dataframe tbody tr th:only-of-type {\n",
       "        vertical-align: middle;\n",
       "    }\n",
       "\n",
       "    .dataframe tbody tr th {\n",
       "        vertical-align: top;\n",
       "    }\n",
       "\n",
       "    .dataframe thead th {\n",
       "        text-align: right;\n",
       "    }\n",
       "</style>\n",
       "<table border=\"1\" class=\"dataframe\">\n",
       "  <thead>\n",
       "    <tr style=\"text-align: right;\">\n",
       "      <th></th>\n",
       "      <th>model</th>\n",
       "      <th>year</th>\n",
       "      <th>season</th>\n",
       "      <th>month</th>\n",
       "      <th>day</th>\n",
       "      <th>0</th>\n",
       "      <th>3</th>\n",
       "      <th>6</th>\n",
       "      <th>9</th>\n",
       "      <th>12</th>\n",
       "      <th>15</th>\n",
       "      <th>18</th>\n",
       "      <th>21</th>\n",
       "    </tr>\n",
       "  </thead>\n",
       "  <tbody>\n",
       "    <tr>\n",
       "      <th>0</th>\n",
       "      <td>0</td>\n",
       "      <td>1971</td>\n",
       "      <td>DJF</td>\n",
       "      <td>1</td>\n",
       "      <td>1</td>\n",
       "      <td>NaN</td>\n",
       "      <td>11.573877</td>\n",
       "      <td>11.497919</td>\n",
       "      <td>11.607233</td>\n",
       "      <td>12.477899</td>\n",
       "      <td>12.646783</td>\n",
       "      <td>12.173059</td>\n",
       "      <td>12.071863</td>\n",
       "    </tr>\n",
       "    <tr>\n",
       "      <th>1</th>\n",
       "      <td>0</td>\n",
       "      <td>1971</td>\n",
       "      <td>DJF</td>\n",
       "      <td>1</td>\n",
       "      <td>2</td>\n",
       "      <td>11.958276</td>\n",
       "      <td>11.939844</td>\n",
       "      <td>11.485132</td>\n",
       "      <td>11.626123</td>\n",
       "      <td>13.270898</td>\n",
       "      <td>13.209802</td>\n",
       "      <td>12.008325</td>\n",
       "      <td>11.341425</td>\n",
       "    </tr>\n",
       "    <tr>\n",
       "      <th>2</th>\n",
       "      <td>0</td>\n",
       "      <td>1971</td>\n",
       "      <td>DJF</td>\n",
       "      <td>1</td>\n",
       "      <td>3</td>\n",
       "      <td>11.544519</td>\n",
       "      <td>8.921289</td>\n",
       "      <td>10.041803</td>\n",
       "      <td>11.729303</td>\n",
       "      <td>14.040796</td>\n",
       "      <td>14.472437</td>\n",
       "      <td>11.233606</td>\n",
       "      <td>11.131281</td>\n",
       "    </tr>\n",
       "    <tr>\n",
       "      <th>3</th>\n",
       "      <td>0</td>\n",
       "      <td>1971</td>\n",
       "      <td>DJF</td>\n",
       "      <td>1</td>\n",
       "      <td>4</td>\n",
       "      <td>9.212579</td>\n",
       "      <td>9.577661</td>\n",
       "      <td>8.420038</td>\n",
       "      <td>7.210016</td>\n",
       "      <td>9.850305</td>\n",
       "      <td>11.528467</td>\n",
       "      <td>8.002100</td>\n",
       "      <td>5.873376</td>\n",
       "    </tr>\n",
       "    <tr>\n",
       "      <th>4</th>\n",
       "      <td>0</td>\n",
       "      <td>1971</td>\n",
       "      <td>DJF</td>\n",
       "      <td>1</td>\n",
       "      <td>5</td>\n",
       "      <td>5.736566</td>\n",
       "      <td>4.142877</td>\n",
       "      <td>3.907098</td>\n",
       "      <td>4.405695</td>\n",
       "      <td>8.222101</td>\n",
       "      <td>11.461633</td>\n",
       "      <td>7.662775</td>\n",
       "      <td>5.234552</td>\n",
       "    </tr>\n",
       "  </tbody>\n",
       "</table>\n",
       "</div>"
      ],
      "text/plain": [
       "   model  year season  month  day          0          3          6          9  \\\n",
       "0      0  1971    DJF      1    1        NaN  11.573877  11.497919  11.607233   \n",
       "1      0  1971    DJF      1    2  11.958276  11.939844  11.485132  11.626123   \n",
       "2      0  1971    DJF      1    3  11.544519   8.921289  10.041803  11.729303   \n",
       "3      0  1971    DJF      1    4   9.212579   9.577661   8.420038   7.210016   \n",
       "4      0  1971    DJF      1    5   5.736566   4.142877   3.907098   4.405695   \n",
       "\n",
       "          12         15         18         21  \n",
       "0  12.477899  12.646783  12.173059  12.071863  \n",
       "1  13.270898  13.209802  12.008325  11.341425  \n",
       "2  14.040796  14.472437  11.233606  11.131281  \n",
       "3   9.850305  11.528467   8.002100   5.873376  \n",
       "4   8.222101  11.461633   7.662775   5.234552  "
      ]
     },
     "execution_count": 9,
     "metadata": {},
     "output_type": "execute_result"
    }
   ],
   "source": [
    "# df_models.head()"
   ]
  },
  {
   "cell_type": "code",
   "execution_count": 10,
   "metadata": {},
   "outputs": [
    {
     "data": {
      "text/html": [
       "<div>\n",
       "<style scoped>\n",
       "    .dataframe tbody tr th:only-of-type {\n",
       "        vertical-align: middle;\n",
       "    }\n",
       "\n",
       "    .dataframe tbody tr th {\n",
       "        vertical-align: top;\n",
       "    }\n",
       "\n",
       "    .dataframe thead th {\n",
       "        text-align: right;\n",
       "    }\n",
       "</style>\n",
       "<table border=\"1\" class=\"dataframe\">\n",
       "  <thead>\n",
       "    <tr style=\"text-align: right;\">\n",
       "      <th></th>\n",
       "      <th>model</th>\n",
       "      <th>year</th>\n",
       "      <th>season</th>\n",
       "      <th>month</th>\n",
       "      <th>day</th>\n",
       "      <th>0</th>\n",
       "      <th>3</th>\n",
       "      <th>6</th>\n",
       "      <th>9</th>\n",
       "      <th>12</th>\n",
       "      <th>15</th>\n",
       "      <th>18</th>\n",
       "      <th>21</th>\n",
       "    </tr>\n",
       "  </thead>\n",
       "  <tbody>\n",
       "    <tr>\n",
       "      <th>12779</th>\n",
       "      <td>16</td>\n",
       "      <td>2005</td>\n",
       "      <td>DJF</td>\n",
       "      <td>12</td>\n",
       "      <td>27</td>\n",
       "      <td>8.437402</td>\n",
       "      <td>8.738123</td>\n",
       "      <td>7.232263</td>\n",
       "      <td>7.574487</td>\n",
       "      <td>12.805688</td>\n",
       "      <td>10.070764</td>\n",
       "      <td>9.927332</td>\n",
       "      <td>10.203271</td>\n",
       "    </tr>\n",
       "    <tr>\n",
       "      <th>12780</th>\n",
       "      <td>16</td>\n",
       "      <td>2005</td>\n",
       "      <td>DJF</td>\n",
       "      <td>12</td>\n",
       "      <td>28</td>\n",
       "      <td>9.976129</td>\n",
       "      <td>9.447290</td>\n",
       "      <td>9.764154</td>\n",
       "      <td>9.562341</td>\n",
       "      <td>12.663812</td>\n",
       "      <td>11.221796</td>\n",
       "      <td>14.385187</td>\n",
       "      <td>14.734888</td>\n",
       "    </tr>\n",
       "    <tr>\n",
       "      <th>12781</th>\n",
       "      <td>16</td>\n",
       "      <td>2005</td>\n",
       "      <td>DJF</td>\n",
       "      <td>12</td>\n",
       "      <td>29</td>\n",
       "      <td>14.618555</td>\n",
       "      <td>15.034570</td>\n",
       "      <td>14.803705</td>\n",
       "      <td>14.339807</td>\n",
       "      <td>14.786432</td>\n",
       "      <td>14.102075</td>\n",
       "      <td>13.202295</td>\n",
       "      <td>12.916711</td>\n",
       "    </tr>\n",
       "    <tr>\n",
       "      <th>12782</th>\n",
       "      <td>16</td>\n",
       "      <td>2005</td>\n",
       "      <td>DJF</td>\n",
       "      <td>12</td>\n",
       "      <td>30</td>\n",
       "      <td>12.821497</td>\n",
       "      <td>12.874750</td>\n",
       "      <td>11.717401</td>\n",
       "      <td>12.552881</td>\n",
       "      <td>13.610193</td>\n",
       "      <td>13.234277</td>\n",
       "      <td>11.622400</td>\n",
       "      <td>11.042688</td>\n",
       "    </tr>\n",
       "    <tr>\n",
       "      <th>12783</th>\n",
       "      <td>16</td>\n",
       "      <td>2005</td>\n",
       "      <td>DJF</td>\n",
       "      <td>12</td>\n",
       "      <td>31</td>\n",
       "      <td>10.802362</td>\n",
       "      <td>11.451868</td>\n",
       "      <td>11.549951</td>\n",
       "      <td>11.694299</td>\n",
       "      <td>12.425684</td>\n",
       "      <td>13.258295</td>\n",
       "      <td>11.389764</td>\n",
       "      <td>9.625604</td>\n",
       "    </tr>\n",
       "  </tbody>\n",
       "</table>\n",
       "</div>"
      ],
      "text/plain": [
       "       model  year season  month  day          0          3          6  \\\n",
       "12779     16  2005    DJF     12   27   8.437402   8.738123   7.232263   \n",
       "12780     16  2005    DJF     12   28   9.976129   9.447290   9.764154   \n",
       "12781     16  2005    DJF     12   29  14.618555  15.034570  14.803705   \n",
       "12782     16  2005    DJF     12   30  12.821497  12.874750  11.717401   \n",
       "12783     16  2005    DJF     12   31  10.802362  11.451868  11.549951   \n",
       "\n",
       "               9         12         15         18         21  \n",
       "12779   7.574487  12.805688  10.070764   9.927332  10.203271  \n",
       "12780   9.562341  12.663812  11.221796  14.385187  14.734888  \n",
       "12781  14.339807  14.786432  14.102075  13.202295  12.916711  \n",
       "12782  12.552881  13.610193  13.234277  11.622400  11.042688  \n",
       "12783  11.694299  12.425684  13.258295  11.389764   9.625604  "
      ]
     },
     "execution_count": 10,
     "metadata": {},
     "output_type": "execute_result"
    }
   ],
   "source": [
    "# df_models.tail()"
   ]
  },
  {
   "cell_type": "markdown",
   "metadata": {},
   "source": [
    "### Load dataframe"
   ]
  },
  {
   "cell_type": "code",
   "execution_count": 19,
   "metadata": {},
   "outputs": [
    {
     "data": {
      "text/html": [
       "<div>\n",
       "<style scoped>\n",
       "    .dataframe tbody tr th:only-of-type {\n",
       "        vertical-align: middle;\n",
       "    }\n",
       "\n",
       "    .dataframe tbody tr th {\n",
       "        vertical-align: top;\n",
       "    }\n",
       "\n",
       "    .dataframe thead th {\n",
       "        text-align: right;\n",
       "    }\n",
       "</style>\n",
       "<table border=\"1\" class=\"dataframe\">\n",
       "  <thead>\n",
       "    <tr style=\"text-align: right;\">\n",
       "      <th></th>\n",
       "      <th>model</th>\n",
       "      <th>year</th>\n",
       "      <th>season</th>\n",
       "      <th>month</th>\n",
       "      <th>day</th>\n",
       "      <th>0</th>\n",
       "      <th>3</th>\n",
       "      <th>6</th>\n",
       "      <th>9</th>\n",
       "      <th>12</th>\n",
       "      <th>15</th>\n",
       "      <th>18</th>\n",
       "      <th>21</th>\n",
       "    </tr>\n",
       "  </thead>\n",
       "  <tbody>\n",
       "    <tr>\n",
       "      <th>0</th>\n",
       "      <td>0</td>\n",
       "      <td>1971</td>\n",
       "      <td>DJF</td>\n",
       "      <td>1</td>\n",
       "      <td>1</td>\n",
       "      <td>NaN</td>\n",
       "      <td>11.573877</td>\n",
       "      <td>11.497919</td>\n",
       "      <td>11.607233</td>\n",
       "      <td>12.477899</td>\n",
       "      <td>12.646783</td>\n",
       "      <td>12.173059</td>\n",
       "      <td>12.071863</td>\n",
       "    </tr>\n",
       "    <tr>\n",
       "      <th>1</th>\n",
       "      <td>0</td>\n",
       "      <td>1971</td>\n",
       "      <td>DJF</td>\n",
       "      <td>1</td>\n",
       "      <td>2</td>\n",
       "      <td>11.958276</td>\n",
       "      <td>11.939844</td>\n",
       "      <td>11.485132</td>\n",
       "      <td>11.626123</td>\n",
       "      <td>13.270898</td>\n",
       "      <td>13.209802</td>\n",
       "      <td>12.008325</td>\n",
       "      <td>11.341425</td>\n",
       "    </tr>\n",
       "    <tr>\n",
       "      <th>2</th>\n",
       "      <td>0</td>\n",
       "      <td>1971</td>\n",
       "      <td>DJF</td>\n",
       "      <td>1</td>\n",
       "      <td>3</td>\n",
       "      <td>11.544519</td>\n",
       "      <td>8.921289</td>\n",
       "      <td>10.041803</td>\n",
       "      <td>11.729303</td>\n",
       "      <td>14.040796</td>\n",
       "      <td>14.472437</td>\n",
       "      <td>11.233606</td>\n",
       "      <td>11.131281</td>\n",
       "    </tr>\n",
       "    <tr>\n",
       "      <th>3</th>\n",
       "      <td>0</td>\n",
       "      <td>1971</td>\n",
       "      <td>DJF</td>\n",
       "      <td>1</td>\n",
       "      <td>4</td>\n",
       "      <td>9.212579</td>\n",
       "      <td>9.577661</td>\n",
       "      <td>8.420038</td>\n",
       "      <td>7.210016</td>\n",
       "      <td>9.850305</td>\n",
       "      <td>11.528467</td>\n",
       "      <td>8.002100</td>\n",
       "      <td>5.873376</td>\n",
       "    </tr>\n",
       "    <tr>\n",
       "      <th>4</th>\n",
       "      <td>0</td>\n",
       "      <td>1971</td>\n",
       "      <td>DJF</td>\n",
       "      <td>1</td>\n",
       "      <td>5</td>\n",
       "      <td>5.736566</td>\n",
       "      <td>4.142877</td>\n",
       "      <td>3.907098</td>\n",
       "      <td>4.405695</td>\n",
       "      <td>8.222101</td>\n",
       "      <td>11.461633</td>\n",
       "      <td>7.662775</td>\n",
       "      <td>5.234552</td>\n",
       "    </tr>\n",
       "  </tbody>\n",
       "</table>\n",
       "</div>"
      ],
      "text/plain": [
       "   model  year season  month  day          0          3          6          9  \\\n",
       "0      0  1971    DJF      1    1        NaN  11.573877  11.497919  11.607233   \n",
       "1      0  1971    DJF      1    2  11.958276  11.939844  11.485132  11.626123   \n",
       "2      0  1971    DJF      1    3  11.544519   8.921289  10.041803  11.729303   \n",
       "3      0  1971    DJF      1    4   9.212579   9.577661   8.420038   7.210016   \n",
       "4      0  1971    DJF      1    5   5.736566   4.142877   3.907098   4.405695   \n",
       "\n",
       "          12         15         18         21  \n",
       "0  12.477899  12.646783  12.173059  12.071863  \n",
       "1  13.270898  13.209802  12.008325  11.341425  \n",
       "2  14.040796  14.472437  11.233606  11.131281  \n",
       "3   9.850305  11.528467   8.002100   5.873376  \n",
       "4   8.222101  11.461633   7.662775   5.234552  "
      ]
     },
     "execution_count": 19,
     "metadata": {},
     "output_type": "execute_result"
    }
   ],
   "source": [
    "df_models_ = load_csv2df('temp_models_3h_by_h.csv', models_output_path)\n",
    "df_models_.head()"
   ]
  },
  {
   "cell_type": "markdown",
   "metadata": {},
   "source": [
    "#### Filter only 'JJA' season"
   ]
  },
  {
   "cell_type": "code",
   "execution_count": 11,
   "metadata": {},
   "outputs": [],
   "source": [
    "# df_models_jja.head()"
   ]
  },
  {
   "cell_type": "code",
   "execution_count": 20,
   "metadata": {},
   "outputs": [
    {
     "data": {
      "text/plain": [
       "(54740, 13)"
      ]
     },
     "execution_count": 20,
     "metadata": {},
     "output_type": "execute_result"
    }
   ],
   "source": [
    "df_models_jja = filter_df_by_season(df_models_, season = 'JJA')\n",
    "df_models_jja.shape"
   ]
  },
  {
   "cell_type": "markdown",
   "metadata": {},
   "source": [
    "### Descriptive stats for each model"
   ]
  },
  {
   "cell_type": "code",
   "execution_count": null,
   "metadata": {},
   "outputs": [],
   "source": []
  },
  {
   "cell_type": "code",
   "execution_count": 21,
   "metadata": {},
   "outputs": [
    {
     "ename": "NameError",
     "evalue": "name 'values' is not defined",
     "output_type": "error",
     "traceback": [
      "\u001b[1;31m---------------------------------------------------------------------------\u001b[0m",
      "\u001b[1;31mNameError\u001b[0m                                 Traceback (most recent call last)",
      "\u001b[1;32m<ipython-input-21-955374986b1c>\u001b[0m in \u001b[0;36m<module>\u001b[1;34m()\u001b[0m\n\u001b[1;32m----> 1\u001b[1;33m \u001b[0mpercentiles_table\u001b[0m\u001b[1;33m(\u001b[0m\u001b[0mdf_models_jja\u001b[0m\u001b[1;33m,\u001b[0m \u001b[0mvalues\u001b[0m\u001b[1;33m)\u001b[0m\u001b[1;33m\u001b[0m\u001b[1;33m\u001b[0m\u001b[0m\n\u001b[0m",
      "\u001b[1;31mNameError\u001b[0m: name 'values' is not defined"
     ]
    }
   ],
   "source": [
    "# NOT WORKING!!!!! -  but maybe not necessary -> alternative get_percentiles()\n",
    "\n",
    "percentiles_table(df_models_jja, range)"
   ]
  },
  {
   "cell_type": "code",
   "execution_count": null,
   "metadata": {
    "scrolled": false
   },
   "outputs": [],
   "source": [
    "desc = []\n",
    "percentiles=np.asarray([1,5,25,50,75,95,99])/100\n",
    "for cmod,model in enumerate(all_models_jja):\n",
    "#     print('Stats for model {}'.format(cmod))\n",
    "    df_desc = model[list(np.arange(0,22,3))].describe(percentiles=percentiles)\n",
    "    df_desc = df_desc.T\n",
    "    df_desc['model'] = cmod\n",
    "    df_desc.reset_index(inplace=True)\n",
    "    df_desc.rename(columns={'index': 'hour'}, inplace=True)\n",
    "    df_desc.drop(['count', 'std'], axis=1, inplace=True)\n",
    "    df_desc.set_index('model', inplace=True)\n",
    "    desc.append(df_desc)\n",
    "    \n",
    "\n",
    "models_desc = pd.concat(desc, axis=0)\n",
    "models_desc.head()"
   ]
  },
  {
   "cell_type": "markdown",
   "metadata": {},
   "source": [
    "#### Percentiles for each model for each hour hour"
   ]
  },
  {
   "cell_type": "code",
   "execution_count": null,
   "metadata": {},
   "outputs": [],
   "source": [
    "fig, axs = plt.subplots(nrows=4, ncols=2, figsize=(15, 30), sharex=True, sharey=True)\n",
    "fig.suptitle('Temperature stats')\n",
    "\n",
    "for hour,ax in zip(range(0,22,3), axs.flat):\n",
    "    df_temp = models_desc[models_desc['hour'] == hour].drop(['hour'], axis=1)\n",
    "    ax.plot(df_temp)\n",
    "    ax.set_title('Hour = {}'.format(hour))\n",
    "\n",
    "fig.legend(labels = df_temp.columns, loc='upper right')\n",
    "plt.show()"
   ]
  },
  {
   "cell_type": "markdown",
   "metadata": {},
   "source": [
    "### Compare percentiles intermodels for each hour "
   ]
  },
  {
   "cell_type": "code",
   "execution_count": null,
   "metadata": {
    "scrolled": true
   },
   "outputs": [],
   "source": [
    "for hour in range(0,22,3):\n",
    "#     whiskers = [5, 95]\n",
    "    _ = df_models.boxplot(column = hour, by = 'model', figsize=(16, 10))#, whis = whiskers)\n",
    "    plt.grid(True)\n",
    "    plt.title('Hour = {}'.format(hour))"
   ]
  },
  {
   "cell_type": "markdown",
   "metadata": {},
   "source": [
    "## PDF, CDF..."
   ]
  },
  {
   "cell_type": "code",
   "execution_count": null,
   "metadata": {},
   "outputs": [],
   "source": [
    "# COMPUTE THE PDF for each model JJA joining (pooling toghether) all hours and by hour"
   ]
  },
  {
   "cell_type": "code",
   "execution_count": null,
   "metadata": {},
   "outputs": [],
   "source": []
  },
  {
   "cell_type": "markdown",
   "metadata": {},
   "source": [
    "### For each model, all hours (pooling together)"
   ]
  },
  {
   "cell_type": "code",
   "execution_count": null,
   "metadata": {
    "scrolled": false
   },
   "outputs": [],
   "source": [
    "for cmod,model in enumerate(all_models_jja):\n",
    "    print('PDF for model {}'.format(cmod))\n",
    "    all_hours = model.iloc[:,4:].values.reshape(-1)\n",
    "    _, _ = compute_pdf_cdf(all_hours, plot=True)"
   ]
  },
  {
   "cell_type": "markdown",
   "metadata": {},
   "source": [
    "### Same as before but using KDE (ML)\n",
    "*For each model, all hours (pooling together)"
   ]
  },
  {
   "cell_type": "code",
   "execution_count": null,
   "metadata": {},
   "outputs": [],
   "source": []
  },
  {
   "cell_type": "code",
   "execution_count": null,
   "metadata": {
    "scrolled": false
   },
   "outputs": [],
   "source": [
    "for cmod,model in enumerate(all_models_jja):\n",
    "    print('PDF for model {}'.format(cmod))\n",
    "    all_hours = model.iloc[:,4:].values.reshape(-1)\n",
    "    _ = compute_pdf_KDE(all_hours, plot=True)"
   ]
  },
  {
   "cell_type": "markdown",
   "metadata": {},
   "source": [
    "### For each model pooling together by hour"
   ]
  },
  {
   "cell_type": "code",
   "execution_count": null,
   "metadata": {
    "scrolled": true
   },
   "outputs": [],
   "source": [
    "for cmod,model in enumerate(all_models_jja):\n",
    "    all_hours = model.iloc[:,4:]\n",
    "    for hour in all_hours:\n",
    "        print('PDF for model = {} @ hour = {}'.format(cmod, hour))\n",
    "        one_hour = all_hours[hour].values\n",
    "        _ = compute_pdf_KDE(one_hour, plot=True)"
   ]
  },
  {
   "cell_type": "code",
   "execution_count": null,
   "metadata": {},
   "outputs": [],
   "source": []
  },
  {
   "cell_type": "code",
   "execution_count": null,
   "metadata": {},
   "outputs": [],
   "source": [
    "list(np.random.randint(0, 2)*2-1 for s in range(n))"
   ]
  },
  {
   "cell_type": "markdown",
   "metadata": {},
   "source": [
    "### SIMPLER PDF"
   ]
  },
  {
   "cell_type": "code",
   "execution_count": null,
   "metadata": {},
   "outputs": [],
   "source": [
    "data = np.abs(np.random.randn(100)*2)\n",
    "\n",
    "\n",
    "\n",
    "def pdf(data, bins = None):\n",
    "    if not bins:\n",
    "        bins = range(0, 51)\n",
    "    return np.histogram(data, bins = bins, density=True)\n",
    "\n",
    "\n",
    "\n",
    "data_pdf, bins = pdf(data)\n",
    "len(bins), len(data_pdf)\n",
    "bins\n",
    "\n",
    "plt.plot(bins[:-1], data_pdf)\n",
    "\n",
    "def pdf(series, bins = None):\n",
    "    '''\n",
    "        pdf for pandas dataSeries, using a numpy array func\n",
    "        returns both the density and the bin edges\n",
    "    '''\n",
    "    if not bins:\n",
    "        bins = range(0, 51)   # 0ºC to 50ºC\n",
    "    return np.histogram(series, bins = bins, density=True)\n",
    "\n",
    "def df_pdf(df, bins = None):\n",
    "    return df.apply(pdf, bins = bins)\n",
    "\n",
    "df_pdf(df, bins = None)"
   ]
  }
 ],
 "metadata": {
  "kernelspec": {
   "display_name": "Python 3",
   "language": "python",
   "name": "python3"
  },
  "language_info": {
   "codemirror_mode": {
    "name": "ipython",
    "version": 3
   },
   "file_extension": ".py",
   "mimetype": "text/x-python",
   "name": "python",
   "nbconvert_exporter": "python",
   "pygments_lexer": "ipython3",
   "version": "3.6.7"
  }
 },
 "nbformat": 4,
 "nbformat_minor": 4
}
